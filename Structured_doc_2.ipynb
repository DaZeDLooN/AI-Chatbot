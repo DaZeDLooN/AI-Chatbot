{
 "cells": [
  {
   "cell_type": "markdown",
   "id": "812a4dbc-fe04-4b84-bdf9-390045e30806",
   "metadata": {
    "id": "812a4dbc-fe04-4b84-bdf9-390045e30806"
   },
   "source": [
    "# Multi-modal RAG with LangChain"
   ]
  },
  {
   "cell_type": "markdown",
   "id": "ecXPgawqG7XH",
   "metadata": {
    "id": "ecXPgawqG7XH"
   },
   "source": [
    "## SetUp\n",
    "\n",
    "Install the dependencies you need to run the notebook."
   ]
  },
  {
   "cell_type": "markdown",
   "id": "74b56bde-1ba0-4525-a11d-cab02c5659e4",
   "metadata": {
    "id": "74b56bde-1ba0-4525-a11d-cab02c5659e4"
   },
   "source": [
    "## Extract the data\n",
    "\n",
    "Extract the elements of the PDF that we will be able to use in the retrieval process. These elements can be: Text, Images, Tables, etc."
   ]
  },
  {
   "cell_type": "code",
   "execution_count": 3,
   "id": "05666d51-c8e7-41b1-a58f-86c00ebe3da9",
   "metadata": {},
   "outputs": [
    {
     "name": "stdout",
     "output_type": "stream",
     "text": [
      "/bin/bash: /home/jac/miniconda3/envs/tf/lib/libtinfo.so.6: no version information available (required by /bin/bash)\n",
      "\u001b[0m\u001b[01;32m'2022_SOD_survey[1].pdf'\u001b[0m*   \u001b[01;32mUntitled.ipynb\u001b[0m*   \u001b[01;32mlangchain_multimodal.ipynb\u001b[0m*\n"
     ]
    }
   ],
   "source": [
    "ls\n"
   ]
  },
  {
   "cell_type": "code",
   "execution_count": 2,
   "id": "0d469a9e-3c16-450b-a639-6e75ac4cc6bc",
   "metadata": {},
   "outputs": [
    {
     "data": {
      "text/plain": [
       "'/mnt/c/Users/91940/projects/Prj/Doc chatbot'"
      ]
     },
     "execution_count": 2,
     "metadata": {},
     "output_type": "execute_result"
    }
   ],
   "source": [
    "pwd\n"
   ]
  },
  {
   "cell_type": "markdown",
   "id": "e62ec070",
   "metadata": {
    "id": "e62ec070"
   },
   "source": [
    "### Partition PDF tables, text, and images"
   ]
  },
  {
   "cell_type": "code",
   "execution_count": 1,
   "id": "dafb72c3-3083-443b-b258-c99864bde5df",
   "metadata": {},
   "outputs": [],
   "source": [
    "from unstructured.partition.pdf import partition_pdf\n"
   ]
  },
  {
   "cell_type": "code",
   "execution_count": 15,
   "id": "0a046528-8d22-4f4e-a520-962026562939",
   "metadata": {
    "colab": {
     "base_uri": "https://localhost:8080/",
     "height": 308,
     "referenced_widgets": [
      "5246faf4e8194647a4b41d9de5a168f6",
      "c8f31460d7d5420db2c7840e287fac5b",
      "2ee43f14fa654a66ad0cfb559826f266",
      "e7e6388db19d47ceb06afc75fbb8486c",
      "922be25533bd448e9ce92614f7bd2677",
      "f63ee7f4234c45d48829e011f24eafde",
      "f8bcfb1381aa46d89034ea50e30b43cf",
      "00b164fb36864e53a8a73710d7d855cc",
      "64a0c4aa0bba4b6f8e8f5775a4341147",
      "2bcca7acc6f047d6ad4efbf1e5333c58",
      "052ec73371404595b7dec973dda308d4",
      "b12ba9f2111c44eeb5ae65820cc7d5d7",
      "15b9261bb07f4bbb95d276b92feabade",
      "5ffb0b594f51466284af380fd4d47b40",
      "fc994e0c5ced45c78c0b9bb6f19c073f",
      "c58471c60519419e9cdb3c7ff174d702",
      "0e7ed203dde24ec9a8d0f9c95a8877fd",
      "e64cfd87330d4b238596da66db63d984",
      "c13aff2b064743be941b4672550e56c9",
      "ef5fba5f330748faa9bd583d637087a6",
      "daabde9b4b764797af6b96370e40c1d2",
      "7d37b6f0ba8b4c5eb875635b98778d26",
      "a9a67e81e91e46e19b23f58dea634525",
      "2045ffddb5c4407f9235d1bf472e9ba5",
      "2df0c4cc59044ec8a59aadf2d5d2a9c9",
      "3095817ccc8f4ec6bae9b0c201d8e40a",
      "93205e664daa4921959605eb99dfa9cc",
      "9eab400a02dc46269e2537db44a78625",
      "415ddcb74bc2467fa9399039b7d0cafb",
      "b2fc825e7e6949e0a18f491ff261ac2b",
      "df6e6c84cc1c4c7b8cf5f8555eb42166",
      "547eb1582628438c9f0ef01554dfcdb4",
      "40b532d4d85740a2a16251bb321f489a",
      "ef897646c62444929b91935d3917b14d",
      "3bd05fe4e6bd4ea2b7bfcfba705369c5",
      "27e36e7f92d7417bb221fa95406cfb2f",
      "21318da3ae0644c28ec63983a34bd2ee",
      "c428c0bd915d455986b3193e9636ea80",
      "01ef4b60c3144e17afffb86281466bab",
      "3494ef9884224fa9a0a65999d7fc2945",
      "7185b40a7fa74088ad7ff6efb524e6b5",
      "cc6672c78dac468d9264efd90902c87d",
      "7ad056a7d71847d498f270ecac5cbf62",
      "309bad22d08c47af8d51942da599328e"
     ]
    },
    "id": "0a046528-8d22-4f4e-a520-962026562939",
    "outputId": "85bfb6b1-557f-4d4d-be94-b0c7200150e2",
    "scrolled": true
   },
   "outputs": [],
   "source": [
    "from unstructured.partition.pdf import partition_pdf\n",
    "\n",
    "output_path = \"/mnt/c/Users/91940/projects/Prj/Doc chatbot/\"\n",
    "file_path = output_path + '2022_SOD_survey[1].pdf'\n",
    "# Reference: https://docs.unstructured.io/open-source/core-functionality/chunking\n",
    "chunks = partition_pdf(\n",
    "    filename=file_path,\n",
    "    infer_table_structure=True,            \n",
    "    strategy=\"hi_res\",                     \n",
    "\n",
    "    extract_image_block_types=[\"Image\",\"Table\"],\n",
    "    #extract_image_block_output_dir=\n",
    "    extract_image_block_output_dir=output_path,\n",
    "    \n",
    "\n",
    "    extract_image_block_to_payload=True,   \n",
    "\n",
    "    chunking_strategy=\"by_title\",          # or 'basic'\n",
    "    max_characters=10000,                  # defaults to 500\n",
    "    combine_text_under_n_chars=2000,       # defaults to 0\n",
    "    new_after_n_chars=6000,\n",
    "\n",
    "    # extract_images_in_pdf=True,          # deprecated\n",
    ")"
   ]
  },
  {
   "cell_type": "code",
   "execution_count": 16,
   "id": "038f6733",
   "metadata": {
    "id": "038f6733",
    "outputId": "9645206b-5b1d-45b5-ae1d-1883d78247f6"
   },
   "outputs": [
    {
     "data": {
      "text/plain": [
       "{\"<class 'unstructured.documents.elements.CompositeElement'>\"}"
      ]
     },
     "execution_count": 16,
     "metadata": {},
     "output_type": "execute_result"
    }
   ],
   "source": [
    "# We get 2 types of elements from the partition_pdf function\n",
    "set([str(type(el)) for el in chunks])\n"
   ]
  },
  {
   "cell_type": "code",
   "execution_count": 42,
   "id": "cccca0db",
   "metadata": {
    "id": "cccca0db",
    "outputId": "46f33bf2-d1d8-4bef-a0bf-d903ae2179d3"
   },
   "outputs": [
    {
     "data": {
      "text/plain": [
       "[<unstructured.documents.elements.Header at 0x7f93263a2520>,\n",
       " <unstructured.documents.elements.Image at 0x7f92f3785a90>,\n",
       " <unstructured.documents.elements.NarrativeText at 0x7f92f3ad4820>,\n",
       " <unstructured.documents.elements.Title at 0x7f93247f9fa0>,\n",
       " <unstructured.documents.elements.NarrativeText at 0x7f93247f9c70>,\n",
       " <unstructured.documents.elements.Image at 0x7f92f3ad4430>,\n",
       " <unstructured.documents.elements.NarrativeText at 0x7f93247f9af0>,\n",
       " <unstructured.documents.elements.Title at 0x7f93247f9040>,\n",
       " <unstructured.documents.elements.Image at 0x7f93247f90a0>,\n",
       " <unstructured.documents.elements.Title at 0x7f93247f9d60>,\n",
       " <unstructured.documents.elements.NarrativeText at 0x7f93247f9cd0>,\n",
       " <unstructured.documents.elements.NarrativeText at 0x7f94c9f18580>,\n",
       " <unstructured.documents.elements.NarrativeText at 0x7f93f1d38280>,\n",
       " <unstructured.documents.elements.Title at 0x7f92f3266f40>,\n",
       " <unstructured.documents.elements.NarrativeText at 0x7f92f3567f70>,\n",
       " <unstructured.documents.elements.NarrativeText at 0x7f92f3266ac0>,\n",
       " <unstructured.documents.elements.NarrativeText at 0x7f92f3266400>,\n",
       " <unstructured.documents.elements.NarrativeText at 0x7f92f3266100>,\n",
       " <unstructured.documents.elements.NarrativeText at 0x7f92f3266700>]"
      ]
     },
     "execution_count": 42,
     "metadata": {},
     "output_type": "execute_result"
    }
   ],
   "source": [
    "# Each CompositeElement containes a bunch of related elements.\n",
    "# This makes it easy to use these elements together in a RAG pipeline.\n",
    "\n",
    "chunks[0].metadata.orig_elements"
   ]
  },
  {
   "cell_type": "code",
   "execution_count": 43,
   "id": "9376ba8c-cad1-42de-b8c9-aa58af55e7f4",
   "metadata": {},
   "outputs": [
    {
     "name": "stdout",
     "output_type": "stream",
     "text": [
      "0: <class 'unstructured.documents.elements.Title'>\n",
      "1: <class 'unstructured.documents.elements.Title'>\n",
      "2: <class 'unstructured.documents.elements.Title'>\n",
      "3: <class 'unstructured.documents.elements.Title'>\n",
      "4: <class 'unstructured.documents.elements.Title'>\n",
      "5: <class 'unstructured.documents.elements.Text'>\n",
      "6: <class 'unstructured.documents.elements.Text'>\n",
      "7: <class 'unstructured.documents.elements.Title'>\n",
      "8: <class 'unstructured.documents.elements.Title'>\n",
      "9: <class 'unstructured.documents.elements.Title'>\n",
      "10: <class 'unstructured.documents.elements.Text'>\n",
      "11: <class 'unstructured.documents.elements.NarrativeText'>\n",
      "12: <class 'unstructured.documents.elements.NarrativeText'>\n",
      "13: <class 'unstructured.documents.elements.Text'>\n",
      "14: <class 'unstructured.documents.elements.Title'>\n",
      "15: <class 'unstructured.documents.elements.NarrativeText'>\n",
      "16: <class 'unstructured.documents.elements.NarrativeText'>\n",
      "17: <class 'unstructured.documents.elements.NarrativeText'>\n",
      "18: <class 'unstructured.documents.elements.NarrativeText'>\n",
      "19: <class 'unstructured.documents.elements.Text'>\n",
      "20: <class 'unstructured.documents.elements.NarrativeText'>\n",
      "21: <class 'unstructured.documents.elements.Title'>\n",
      "22: <class 'unstructured.documents.elements.NarrativeText'>\n",
      "23: <class 'unstructured.documents.elements.Title'>\n",
      "24: <class 'unstructured.documents.elements.NarrativeText'>\n",
      "25: <class 'unstructured.documents.elements.Text'>\n",
      "26: <class 'unstructured.documents.elements.NarrativeText'>\n",
      "27: <class 'unstructured.documents.elements.NarrativeText'>\n",
      "28: <class 'unstructured.documents.elements.Title'>\n",
      "29: <class 'unstructured.documents.elements.NarrativeText'>\n",
      "30: <class 'unstructured.documents.elements.Text'>\n",
      "31: <class 'unstructured.documents.elements.NarrativeText'>\n",
      "32: <class 'unstructured.documents.elements.Footer'>\n",
      "33: <class 'unstructured.documents.elements.Header'>\n",
      "34: <class 'unstructured.documents.elements.Header'>\n",
      "35: <class 'unstructured.documents.elements.NarrativeText'>\n",
      "36: <class 'unstructured.documents.elements.Table'>\n"
     ]
    }
   ],
   "source": [
    "for i, el in enumerate(elements):\n",
    "    print(f\"{i}: {type(el)}\")\n"
   ]
  },
  {
   "cell_type": "code",
   "execution_count": 46,
   "id": "b8766f03",
   "metadata": {
    "id": "b8766f03",
    "outputId": "8bd43211-e0a6-4d35-833e-ee7cb374c9b6"
   },
   "outputs": [
    {
     "data": {
      "text/plain": [
       "{'type': 'Image',\n",
       " 'element_id': 'dfbb77da-9228-43e9-b971-8c39418d5a92',\n",
       " 'text': '',\n",
       " 'metadata': {'coordinates': {'points': ((106.14166666666667,\n",
       "     174.9638888888891),\n",
       "    (106.14166666666667, 355.7500000000001),\n",
       "    (271.3277777777778, 355.7500000000001),\n",
       "    (271.3277777777778, 174.9638888888891)),\n",
       "   'system': 'PixelSpace',\n",
       "   'layout_width': 1654,\n",
       "   'layout_height': 2205},\n",
       "  'last_modified': '2025-04-15T20:17:10',\n",
       "  'filetype': 'PPM',\n",
       "  'languages': ['eng'],\n",
       "  'page_number': 1,\n",
       "  'image_base64': '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',\n",
       "  'image_mime_type': 'image/jpeg'}}"
      ]
     },
     "execution_count": 46,
     "metadata": {},
     "output_type": "execute_result"
    }
   ],
   "source": [
    "# This is what an extracted image looks like.\n",
    "# It contains the base64 representation only because we set the param extract_image_block_to_payload=True\n",
    "\n",
    "elements = chunks[0].metadata.orig_elements\n",
    "chunk_images = [el for el in elements if 'Image' in str(type(el))]\n",
    "chunk_images[0].to_dict()"
   ]
  },
  {
   "cell_type": "markdown",
   "id": "26caebda",
   "metadata": {
    "id": "26caebda"
   },
   "source": [
    "### Separate extracted elements into tables, text, and images"
   ]
  },
  {
   "cell_type": "code",
   "execution_count": 47,
   "id": "8326a750",
   "metadata": {
    "id": "8326a750"
   },
   "outputs": [],
   "source": [
    "# separate tables from texts\n",
    "tables = []\n",
    "texts = []\n",
    "\n",
    "for chunk in chunks:\n",
    "    if \"Table\" in str(type(chunk)):\n",
    "        tables.append(chunk)\n",
    "\n",
    "    if \"CompositeElement\" in str(type((chunk))):\n",
    "        texts.append(chunk)"
   ]
  },
  {
   "cell_type": "code",
   "execution_count": 48,
   "id": "df548e46",
   "metadata": {
    "id": "df548e46"
   },
   "outputs": [],
   "source": [
    "# Get the images from the CompositeElement objects\n",
    "def get_images_base64(chunks):\n",
    "    images_b64 = []\n",
    "    for chunk in chunks:\n",
    "        if \"CompositeElement\" in str(type(chunk)):\n",
    "            chunk_els = chunk.metadata.orig_elements\n",
    "            for el in chunk_els:\n",
    "                if \"Image\" in str(type(el)):\n",
    "                    images_b64.append(el.metadata.image_base64)\n",
    "    return images_b64\n",
    "\n",
    "images = get_images_base64(chunks)"
   ]
  },
  {
   "cell_type": "markdown",
   "id": "9582f462",
   "metadata": {
    "id": "9582f462"
   },
   "source": [
    "#### Check what the images look like"
   ]
  },
  {
   "cell_type": "code",
   "execution_count": 49,
   "id": "83158c36",
   "metadata": {
    "id": "83158c36",
    "outputId": "50ba7432-e879-4a64-e9f4-b47fdbeb0fbf"
   },
   "outputs": [
    {
     "data": {
      "image/jpeg": "[encoded data removed]",
      "text/plain": [
       "<IPython.core.display.Image object>"
      ]
     },
     "metadata": {},
     "output_type": "display_data"
    }
   ],
   "source": [
    "import base64\n",
    "from IPython.display import Image, display\n",
    "\n",
    "def display_base64_image(base64_code):\n",
    "    # Decode the base64 string to binary\n",
    "    image_data = base64.b64decode(base64_code)\n",
    "    # Display the image\n",
    "    display(Image(data=image_data))\n",
    "\n",
    "display_base64_image(images[0])"
   ]
  },
  {
   "cell_type": "markdown",
   "id": "0aa7f52f-bf5c-4ba4-af72-b2ccba59a4cf",
   "metadata": {
    "id": "0aa7f52f-bf5c-4ba4-af72-b2ccba59a4cf"
   },
   "source": [
    "## Summarize the data\n",
    "\n",
    "Create a summary of each element extracted from the PDF. This summary will be vectorized and used in the retrieval process."
   ]
  },
  {
   "cell_type": "code",
   "execution_count": 50,
   "id": "523e6ed2-2132-4748-bdb7-db765f20648d",
   "metadata": {
    "id": "523e6ed2-2132-4748-bdb7-db765f20648d"
   },
   "outputs": [],
   "source": [
    "from langchain_groq import ChatGroq\n",
    "from langchain_core.prompts import ChatPromptTemplate\n",
    "from langchain_core.output_parsers import StrOutputParser"
   ]
  },
  {
   "cell_type": "code",
   "execution_count": 66,
   "id": "5d04f3be-fe20-4bd3-9d04-d3e368d834e8",
   "metadata": {},
   "outputs": [
    {
     "name": "stderr",
     "output_type": "stream",
     "text": [
      "/home/jac/miniconda3/envs/tf/lib/python3.9/site-packages/transformers/models/auto/tokenization_auto.py:786: FutureWarning: The `use_auth_token` argument is deprecated and will be removed in v5 of Transformers. Please use `token` instead.\n",
      "  warnings.warn(\n",
      "/home/jac/miniconda3/envs/tf/lib/python3.9/site-packages/accelerate/utils/modeling.py:1462: UserWarning: Current model requires 1088 bytes of buffer for offloaded layers, which seems does not fit any GPU's remaining memory. If you are experiencing a OOM later, please consider using offload_buffers=True.\n",
      "  warnings.warn(\n"
     ]
    }
   ],
   "source": [
    "from transformers import AutoTokenizer, AutoModelForCausalLM, pipeline\n",
    "\n",
    "\n",
    "model_name = \"meta-llama/Llama-3.2-1B\"  # Needs authentication from Hugging Face\n",
    "tokenizer = AutoTokenizer.from_pretrained(model_name, use_auth_token=True)\n",
    "model = AutoModelForCausalLM.from_pretrained(model_name, device_map=\"auto\", torch_dtype=\"auto\")\n",
    "\n",
    "# Set up the text generation pipeline\n",
    "summarizer = pipeline(\"text-generation\", model=model, tokenizer=tokenizer)\n",
    "\n",
    "def summarize(text):\n",
    "    prompt = f\"\"\"\n",
    "You are an assistant tasked with summarizing tables and text.\n",
    "Give a concise summary of the table or text.\n",
    "\n",
    "Respond only with the summary, no additional comment.\n",
    "Do not start your message by saying \"Here is a summary\" or anything like that.\n",
    "Just give the summary as it is.\n",
    "\n",
    "Table or text chunk: {text}\n",
    "\"\"\"\n",
    "    result = summarizer(prompt, max_new_tokens=200, do_sample=False)\n",
    "    return result[0]['generated_text'].split(\"Table or text chunk:\")[1].strip()\n"
   ]
  },
  {
   "cell_type": "code",
   "execution_count": 67,
   "id": "22c22e3f-42fb-4a4a-a87a-89f10ba8ab99",
   "metadata": {
    "id": "22c22e3f-42fb-4a4a-a87a-89f10ba8ab99"
   },
   "outputs": [],
   "source": [
    "# Prompt\n",
    "prompt_text = \"\"\"\n",
    "You are an assistant tasked with summarizing tables and text.\n",
    "Give a concise summary of the table or text.\n",
    "\n",
    "Respond only with the summary, no additionnal comment.\n",
    "Do not start your message by saying \"Here is a summary\" or anything like that.\n",
    "Just give the summary as it is.\n",
    "\n",
    "Table or text chunk: {element}\n",
    "\n",
    "\"\"\"\n",
    "prompt = ChatPromptTemplate.from_template(prompt_text)\n",
    "\n",
    "# Summary chain\n",
    "model = ChatGroq(temperature=0.5, model=\"llama-3.1-8b-instant\")\n",
    "summarize_chain = {\"element\": lambda x: x} | prompt | model | StrOutputParser()"
   ]
  },
  {
   "cell_type": "code",
   "execution_count": 70,
   "id": "1b502617-ba32-49c9-86d4-b9c7ec2f33d7",
   "metadata": {},
   "outputs": [],
   "source": [
    "from langchain_core.prompts import PromptTemplate\n",
    "from langchain_core.output_parsers import StrOutputParser\n",
    "from langchain_core.runnables import RunnableLambda, RunnableMap\n",
    "from transformers import AutoTokenizer, AutoModelForCausalLM, pipeline\n",
    "\n",
    "# HF model setup\n",
    "model_name = \"meta-llama/Llama-3.2-1B\"\n",
    "tokenizer = AutoTokenizer.from_pretrained(model_name, use_auth_token=True)\n",
    "hf_model = AutoModelForCausalLM.from_pretrained(model_name, device_map=\"auto\", torch_dtype=\"auto\")\n",
    "hf_pipe = pipeline(\"text-generation\", model=hf_model, tokenizer=tokenizer)\n",
    "\n",
    "# LangChain wrapper for HF pipeline\n",
    "def run_hf_pipeline(input_text):\n",
    "    result = hf_pipe(input_text, max_new_tokens=200, do_sample=False)\n",
    "    return result[0]['generated_text']\n",
    "\n",
    "# Prompt setup (LangChain style)\n",
    "prompt_text = \"\"\"\n",
    "You are an assistant tasked with summarizing tables and text.\n",
    "Give a concise summary of the table or text.\n",
    "\n",
    "Respond only with the summary, no additional comment.\n",
    "Do not start your message by saying \"Here is a summary\" or anything like that.\n",
    "Just give the summary as it is.\n",
    "\n",
    "Table or text chunk: {element}\n",
    "\"\"\"\n",
    "prompt = PromptTemplate.from_template(prompt_text)\n",
    "\n",
    "# Chain setup\n",
    "summarize_chain = (\n",
    "    {\"element\": lambda x: x}\n",
    "    | prompt\n",
    "    | RunnableLambda(run_hf_pipeline)\n",
    "    | StrOutputParser()\n",
    ")\n"
   ]
  },
  {
   "cell_type": "code",
   "execution_count": 72,
   "id": "d8925631-1da5-4ced-a604-360935d7c4bb",
   "metadata": {},
   "outputs": [],
   "source": [
    "from langchain_core.runnables import RunnableLambda\n",
    "from langchain_core.output_parsers import StrOutputParser\n",
    "\n",
    "def run_hf_pipeline(input_prompt):\n",
    "    # Convert from LangChain's StringPromptValue to a plain string\n",
    "    if hasattr(input_prompt, \"to_string\"):\n",
    "        input_prompt = input_prompt.to_string()\n",
    "    result = hf_pipe(input_prompt, max_new_tokens=200, do_sample=False)\n",
    "    return result[0]['generated_text']\n"
   ]
  },
  {
   "cell_type": "code",
   "execution_count": null,
   "id": "102f4adf-741c-49a1-8593-a360bbeb59b3",
   "metadata": {},
   "outputs": [
    {
     "name": "stdout",
     "output_type": "stream",
     "text": [
      "/bin/bash: /home/jac/miniconda3/envs/tf/lib/libtinfo.so.6: no version information available (required by /bin/bash)\n",
      "\n",
      "    _|    _|  _|    _|    _|_|_|    _|_|_|  _|_|_|  _|      _|    _|_|_|      _|_|_|_|    _|_|      _|_|_|  _|_|_|_|\n",
      "    _|    _|  _|    _|  _|        _|          _|    _|_|    _|  _|            _|        _|    _|  _|        _|\n",
      "    _|_|_|_|  _|    _|  _|  _|_|  _|  _|_|    _|    _|  _|  _|  _|  _|_|      _|_|_|    _|_|_|_|  _|        _|_|_|\n",
      "    _|    _|  _|    _|  _|    _|  _|    _|    _|    _|    _|_|  _|    _|      _|        _|    _|  _|        _|\n",
      "    _|    _|    _|_|      _|_|_|    _|_|_|  _|_|_|  _|      _|    _|_|_|      _|        _|    _|    _|_|_|  _|_|_|_|\n",
      "\n",
      "    A token is already saved on your machine. Run `huggingface-cli whoami` to get more information or `huggingface-cli logout` if you want to log out.\n",
      "    Setting a new token will erase the existing one.\n",
      "    To log in, `huggingface_hub` requires a token generated from https://huggingface.co/settings/tokens .\n",
      "Enter your token (input will not be visible): "
     ]
    }
   ],
   "source": [
    "!huggingface-cli login\n"
   ]
  },
  {
   "cell_type": "code",
   "execution_count": 84,
   "id": "155a536f-e7aa-4bc0-bb2b-180dbe804a73",
   "metadata": {},
   "outputs": [
    {
     "data": {
      "application/vnd.jupyter.widget-view+json": {
       "model_id": "117fb81de41347a4b33f4ea66f8810eb",
       "version_major": 2,
       "version_minor": 0
      },
      "text/plain": [
       "tokenizer_config.json:   0%|          | 0.00/26.0 [00:00<?, ?B/s]"
      ]
     },
     "metadata": {},
     "output_type": "display_data"
    },
    {
     "data": {
      "application/vnd.jupyter.widget-view+json": {
       "model_id": "905df687c1f44da99db66c1750980361",
       "version_major": 2,
       "version_minor": 0
      },
      "text/plain": [
       "config.json:   0%|          | 0.00/665 [00:00<?, ?B/s]"
      ]
     },
     "metadata": {},
     "output_type": "display_data"
    },
    {
     "data": {
      "application/vnd.jupyter.widget-view+json": {
       "model_id": "5b9aac18e64c4aa8bb7604b60ed88c97",
       "version_major": 2,
       "version_minor": 0
      },
      "text/plain": [
       "vocab.json:   0%|          | 0.00/1.04M [00:00<?, ?B/s]"
      ]
     },
     "metadata": {},
     "output_type": "display_data"
    },
    {
     "data": {
      "application/vnd.jupyter.widget-view+json": {
       "model_id": "37914865c6574fdb9c278ea49fdf926e",
       "version_major": 2,
       "version_minor": 0
      },
      "text/plain": [
       "merges.txt:   0%|          | 0.00/456k [00:00<?, ?B/s]"
      ]
     },
     "metadata": {},
     "output_type": "display_data"
    },
    {
     "data": {
      "application/vnd.jupyter.widget-view+json": {
       "model_id": "afc57c80756649519a142a451050aeb8",
       "version_major": 2,
       "version_minor": 0
      },
      "text/plain": [
       "tokenizer.json:   0%|          | 0.00/1.36M [00:00<?, ?B/s]"
      ]
     },
     "metadata": {},
     "output_type": "display_data"
    },
    {
     "data": {
      "application/vnd.jupyter.widget-view+json": {
       "model_id": "1e976489d4dd4b0ca327bc605164d92a",
       "version_major": 2,
       "version_minor": 0
      },
      "text/plain": [
       "model.safetensors:   0%|          | 0.00/548M [00:00<?, ?B/s]"
      ]
     },
     "metadata": {},
     "output_type": "display_data"
    },
    {
     "data": {
      "application/vnd.jupyter.widget-view+json": {
       "model_id": "c8ddd17206314bcda430aabdc0bb1ebd",
       "version_major": 2,
       "version_minor": 0
      },
      "text/plain": [
       "generation_config.json:   0%|          | 0.00/124 [00:00<?, ?B/s]"
      ]
     },
     "metadata": {},
     "output_type": "display_data"
    },
    {
     "name": "stderr",
     "output_type": "stream",
     "text": [
      "Hardware accelerator e.g. GPU is available in the environment, but no `device` argument is passed to the `Pipeline` object. Model will be on CPU.\n"
     ]
    }
   ],
   "source": [
    "from langchain_core.prompts import PromptTemplate\n",
    "from langchain_core.output_parsers import StrOutputParser\n",
    "from langchain_core.runnables import RunnableLambda\n",
    "from transformers import AutoTokenizer, AutoModelForCausalLM, pipeline\n",
    "from transformers import AutoProcessor, BlipForConditionalGeneration\n",
    "from PIL import Image\n",
    "import torch\n",
    "\n",
    "# 1. Load image-to-text model for image captioning\n",
    "caption_model_id = \"Salesforce/blip-image-captioning-base\"\n",
    "processor = AutoProcessor.from_pretrained(caption_model_id)\n",
    "caption_model = BlipForConditionalGeneration.from_pretrained(caption_model_id).to(\"cuda\" if torch.cuda.is_available() else \"cpu\")\n",
    "\n",
    "# 2. Load GPT-2 style model for text summarization\n",
    "gpt2_model_name = \"gpt2\"\n",
    "tokenizer = AutoTokenizer.from_pretrained(gpt2_model_name)\n",
    "gpt2_model = AutoModelForCausalLM.from_pretrained(gpt2_model_name)\n",
    "hf_pipe = pipeline(\"text-generation\", model=gpt2_model, tokenizer=tokenizer)\n",
    "\n",
    "# 3. Step: Caption the image using BLIP\n",
    "def image_to_caption(img: Image.Image) -> str:\n",
    "    inputs = processor(images=img, return_tensors=\"pt\").to(caption_model.device)\n",
    "    output_ids = caption_model.generate(**inputs, max_new_tokens=64, pad_token_id=processor.tokenizer.eos_token_id)\n",
    "    caption = processor.batch_decode(output_ids, skip_special_tokens=True)[0]\n",
    "    return caption.strip()\n",
    "\n",
    "# 4. Step: Feed image caption to GPT-2 with prompt\n",
    "prompt_template = \"\"\"\n",
    "You are an assistant tasked with summarizing a caption generated from a research paper image.\n",
    "Focus on highlighting meaningful aspects of the image, especially any figures or graphs.\n",
    "\n",
    "Caption text: {element}\n",
    "\"\"\"\n",
    "\n",
    "prompt = PromptTemplate.from_template(prompt_template)\n",
    "\n",
    "def run_gpt2_pipeline(input_prompt):\n",
    "    if hasattr(input_prompt, \"to_string\"):\n",
    "        input_prompt = input_prompt.to_string()\n",
    "    result = hf_pipe(input_prompt, max_new_tokens=100, do_sample=False)\n",
    "    return result[0]['generated_text']\n",
    "\n",
    "# 5. LangChain Chain\n",
    "summarize_chain = (\n",
    "    {\"element\": lambda x: x}\n",
    "    | prompt\n",
    "    | RunnableLambda(run_gpt2_pipeline)\n",
    "    | StrOutputParser()\n",
    ")\n",
    "\n",
    "# 6. Final pipeline: image → caption → GPT2 summary\n",
    "def summarize_image(img: Image.Image) -> str:\n",
    "    caption = image_to_caption(img)\n",
    "    return summarize_chain.invoke(caption)\n",
    "\n",
    "# 7. For multiple images:\n",
    "def summarize_images(image_list):\n",
    "    return [summarize_image(img) for img in image_list]\n",
    "\n",
    "# ✅ Example usage\n",
    "# from PIL import Image\n",
    "# img1 = Image.open(\"transformer_diagram.jpg\")\n",
    "# summaries = summarize_images([img1])\n",
    "# print(summaries[0])\n"
   ]
  },
  {
   "cell_type": "code",
   "execution_count": null,
   "id": "32c825e1",
   "metadata": {
    "id": "32c825e1",
    "outputId": "3ef8d057-2214-41e8-80e1-c5f902a01ac8"
   },
   "outputs": [
    {
     "name": "stdout",
     "output_type": "stream",
     "text": [
      "Note: you may need to restart the kernel to use updated packages.\n"
     ]
    }
   ],
   "source": [
    "%pip install -Uq langchain_openai"
   ]
  },
  {
   "cell_type": "code",
   "execution_count": 76,
   "id": "1616f577-9f04-456a-a152-7fbe594c64bf",
   "metadata": {},
   "outputs": [],
   "source": [
    "from transformers import VisionEncoderDecoderModel, ViTImageProcessor, AutoTokenizer\n",
    "from PIL import Image\n",
    "import torch\n",
    "import base64\n",
    "from io import BytesIO\n",
    "\n",
    "# Load model, processor, tokenizer\n",
    "model_name = \"nlpconnect/vit-gpt2-image-captioning\"\n",
    "model = VisionEncoderDecoderModel.from_pretrained(model_name)\n",
    "feature_extractor = ViTImageProcessor.from_pretrained(model_name)\n",
    "tokenizer = AutoTokenizer.from_pretrained(model_name)\n",
    "\n",
    "device = \"cuda\" if torch.cuda.is_available() else \"cpu\"\n",
    "model.to(device)\n",
    "\n",
    "# Helper: Convert base64 image string to PIL Image\n",
    "def decode_image(base64_image_str):\n",
    "    image_bytes = base64.b64decode(base64_image_str)\n",
    "    return Image.open(BytesIO(image_bytes)).convert(\"RGB\")\n",
    "\n",
    "# Image description function\n",
    "def describe_image(base64_image_str):\n",
    "    image = decode_image(base64_image_str)\n",
    "    pixel_values = feature_extractor(images=image, return_tensors=\"pt\").pixel_values.to(device)\n",
    "\n",
    "    output_ids = model.generate(\n",
    "    pixel_values,\n",
    "    attention_mask=torch.ones(pixel_values.shape[:2], device=device),  # All 1s mask\n",
    "    max_length=64,\n",
    "    num_beams=4\n",
    ")\n",
    "\n",
    "    caption = tokenizer.decode(output_ids[0], skip_special_tokens=True).strip()\n",
    "    return caption\n"
   ]
  },
  {
   "cell_type": "code",
   "execution_count": 77,
   "id": "134bbf0c-2c13-4ff4-8ef2-bf59186a7251",
   "metadata": {},
   "outputs": [],
   "source": [
    "# Assume 'images' is a list of base64 strings\n",
    "image_summaries = [describe_image(img) for img in images]\n"
   ]
  },
  {
   "cell_type": "code",
   "execution_count": 78,
   "id": "laF_8o1gzHT0",
   "metadata": {
    "colab": {
     "base_uri": "https://localhost:8080/"
    },
    "id": "laF_8o1gzHT0",
    "outputId": "f82547af-0885-4d78-9f50-940dd9e6551e"
   },
   "outputs": [
    {
     "data": {
      "text/plain": [
       "['a painting of a tree with a vase of flowers on top of it',\n",
       " 'a blue and white photo of a building',\n",
       " 'a sign with a picture of an american flag on it',\n",
       " 'a collage of photos showing different types of electronic devices',\n",
       " 'a screen shot of a remote control in a room',\n",
       " 'a collage of photos showing different types of planes']"
      ]
     },
     "execution_count": 78,
     "metadata": {},
     "output_type": "execute_result"
    }
   ],
   "source": [
    "image_summaries"
   ]
  },
  {
   "cell_type": "code",
   "execution_count": 79,
   "id": "aHNDEd_2txQI",
   "metadata": {
    "colab": {
     "base_uri": "https://localhost:8080/",
     "height": 143
    },
    "id": "aHNDEd_2txQI",
    "outputId": "fbd7c64e-f463-4203-e1ca-f79c7426aaf6"
   },
   "outputs": [
    {
     "name": "stdout",
     "output_type": "stream",
     "text": [
      "a blue and white photo of a building\n"
     ]
    }
   ],
   "source": [
    "print(image_summaries[1])"
   ]
  },
  {
   "cell_type": "code",
   "execution_count": 81,
   "id": "ab1b9c33-b36c-4c35-8a08-db75a823cfdc",
   "metadata": {},
   "outputs": [
    {
     "data": {
      "text/plain": [
       "['a painting of a tree with a vase of flowers on top of it',\n",
       " 'a blue and white photo of a building',\n",
       " 'a sign with a picture of an american flag on it',\n",
       " 'a collage of photos showing different types of electronic devices',\n",
       " 'a screen shot of a remote control in a room',\n",
       " 'a collage of photos showing different types of planes']"
      ]
     },
     "execution_count": 81,
     "metadata": {},
     "output_type": "execute_result"
    }
   ],
   "source": [
    "image_summaries"
   ]
  }
 ],
 "metadata": {
  "colab": {
   "collapsed_sections": [
    "74b56bde-1ba0-4525-a11d-cab02c5659e4",
    "8b55862c",
    "b1feadda-8171-4aed-9a60-320a88dc9ee1",
    "bb4d2379",
    "2bf26669",
    "4b45fb81-46b1-426e-aa2c-01aed4eac700",
    "69060724-e390-4dda-8250-5f86025c874a"
   ],
   "provenance": []
  },
  "kernelspec": {
   "display_name": "Python 3 (ipykernel)",
   "language": "python",
   "name": "python3"
  },
  "language_info": {
   "codemirror_mode": {
    "name": "ipython",
    "version": 3
   },
   "file_extension": ".py",
   "mimetype": "text/x-python",
   "name": "python",
   "nbconvert_exporter": "python",
   "pygments_lexer": "ipython3",
   "version": "3.9.18"
  },
  "widgets": {
   "application/vnd.jupyter.widget-state+json": {
    "00b164fb36864e53a8a73710d7d855cc": {
     "model_module": "@jupyter-widgets/base",
     "model_module_version": "1.2.0",
     "model_name": "LayoutModel",
     "state": {
      "_model_module": "@jupyter-widgets/base",
      "_model_module_version": "1.2.0",
      "_model_name": "LayoutModel",
      "_view_count": null,
      "_view_module": "@jupyter-widgets/base",
      "_view_module_version": "1.2.0",
      "_view_name": "LayoutView",
      "align_content": null,
      "align_items": null,
      "align_self": null,
      "border": null,
      "bottom": null,
      "display": null,
      "flex": null,
      "flex_flow": null,
      "grid_area": null,
      "grid_auto_columns": null,
      "grid_auto_flow": null,
      "grid_auto_rows": null,
      "grid_column": null,
      "grid_gap": null,
      "grid_row": null,
      "grid_template_areas": null,
      "grid_template_columns": null,
      "grid_template_rows": null,
      "height": null,
      "justify_content": null,
      "justify_items": null,
      "left": null,
      "margin": null,
      "max_height": null,
      "max_width": null,
      "min_height": null,
      "min_width": null,
      "object_fit": null,
      "object_position": null,
      "order": null,
      "overflow": null,
      "overflow_x": null,
      "overflow_y": null,
      "padding": null,
      "right": null,
      "top": null,
      "visibility": null,
      "width": null
     }
    },
    "01ef4b60c3144e17afffb86281466bab": {
     "model_module": "@jupyter-widgets/base",
     "model_module_version": "1.2.0",
     "model_name": "LayoutModel",
     "state": {
      "_model_module": "@jupyter-widgets/base",
      "_model_module_version": "1.2.0",
      "_model_name": "LayoutModel",
      "_view_count": null,
      "_view_module": "@jupyter-widgets/base",
      "_view_module_version": "1.2.0",
      "_view_name": "LayoutView",
      "align_content": null,
      "align_items": null,
      "align_self": null,
      "border": null,
      "bottom": null,
      "display": null,
      "flex": null,
      "flex_flow": null,
      "grid_area": null,
      "grid_auto_columns": null,
      "grid_auto_flow": null,
      "grid_auto_rows": null,
      "grid_column": null,
      "grid_gap": null,
      "grid_row": null,
      "grid_template_areas": null,
      "grid_template_columns": null,
      "grid_template_rows": null,
      "height": null,
      "justify_content": null,
      "justify_items": null,
      "left": null,
      "margin": null,
      "max_height": null,
      "max_width": null,
      "min_height": null,
      "min_width": null,
      "object_fit": null,
      "object_position": null,
      "order": null,
      "overflow": null,
      "overflow_x": null,
      "overflow_y": null,
      "padding": null,
      "right": null,
      "top": null,
      "visibility": null,
      "width": null
     }
    },
    "052ec73371404595b7dec973dda308d4": {
     "model_module": "@jupyter-widgets/controls",
     "model_module_version": "1.5.0",
     "model_name": "DescriptionStyleModel",
     "state": {
      "_model_module": "@jupyter-widgets/controls",
      "_model_module_version": "1.5.0",
      "_model_name": "DescriptionStyleModel",
      "_view_count": null,
      "_view_module": "@jupyter-widgets/base",
      "_view_module_version": "1.2.0",
      "_view_name": "StyleView",
      "description_width": ""
     }
    },
    "0e7ed203dde24ec9a8d0f9c95a8877fd": {
     "model_module": "@jupyter-widgets/base",
     "model_module_version": "1.2.0",
     "model_name": "LayoutModel",
     "state": {
      "_model_module": "@jupyter-widgets/base",
      "_model_module_version": "1.2.0",
      "_model_name": "LayoutModel",
      "_view_count": null,
      "_view_module": "@jupyter-widgets/base",
      "_view_module_version": "1.2.0",
      "_view_name": "LayoutView",
      "align_content": null,
      "align_items": null,
      "align_self": null,
      "border": null,
      "bottom": null,
      "display": null,
      "flex": null,
      "flex_flow": null,
      "grid_area": null,
      "grid_auto_columns": null,
      "grid_auto_flow": null,
      "grid_auto_rows": null,
      "grid_column": null,
      "grid_gap": null,
      "grid_row": null,
      "grid_template_areas": null,
      "grid_template_columns": null,
      "grid_template_rows": null,
      "height": null,
      "justify_content": null,
      "justify_items": null,
      "left": null,
      "margin": null,
      "max_height": null,
      "max_width": null,
      "min_height": null,
      "min_width": null,
      "object_fit": null,
      "object_position": null,
      "order": null,
      "overflow": null,
      "overflow_x": null,
      "overflow_y": null,
      "padding": null,
      "right": null,
      "top": null,
      "visibility": null,
      "width": null
     }
    },
    "15b9261bb07f4bbb95d276b92feabade": {
     "model_module": "@jupyter-widgets/controls",
     "model_module_version": "1.5.0",
     "model_name": "HTMLModel",
     "state": {
      "_dom_classes": [],
      "_model_module": "@jupyter-widgets/controls",
      "_model_module_version": "1.5.0",
      "_model_name": "HTMLModel",
      "_view_count": null,
      "_view_module": "@jupyter-widgets/controls",
      "_view_module_version": "1.5.0",
      "_view_name": "HTMLView",
      "description": "",
      "description_tooltip": null,
      "layout": "IPY_MODEL_0e7ed203dde24ec9a8d0f9c95a8877fd",
      "placeholder": "​",
      "style": "IPY_MODEL_e64cfd87330d4b238596da66db63d984",
      "value": "Downloading (…)lve/main/config.json: 100%"
     }
    },
    "2045ffddb5c4407f9235d1bf472e9ba5": {
     "model_module": "@jupyter-widgets/controls",
     "model_module_version": "1.5.0",
     "model_name": "HTMLModel",
     "state": {
      "_dom_classes": [],
      "_model_module": "@jupyter-widgets/controls",
      "_model_module_version": "1.5.0",
      "_model_name": "HTMLModel",
      "_view_count": null,
      "_view_module": "@jupyter-widgets/controls",
      "_view_module_version": "1.5.0",
      "_view_name": "HTMLView",
      "description": "",
      "description_tooltip": null,
      "layout": "IPY_MODEL_9eab400a02dc46269e2537db44a78625",
      "placeholder": "​",
      "style": "IPY_MODEL_415ddcb74bc2467fa9399039b7d0cafb",
      "value": "Downloading model.safetensors: 100%"
     }
    },
    "21318da3ae0644c28ec63983a34bd2ee": {
     "model_module": "@jupyter-widgets/controls",
     "model_module_version": "1.5.0",
     "model_name": "HTMLModel",
     "state": {
      "_dom_classes": [],
      "_model_module": "@jupyter-widgets/controls",
      "_model_module_version": "1.5.0",
      "_model_name": "HTMLModel",
      "_view_count": null,
      "_view_module": "@jupyter-widgets/controls",
      "_view_module_version": "1.5.0",
      "_view_name": "HTMLView",
      "description": "",
      "description_tooltip": null,
      "layout": "IPY_MODEL_7ad056a7d71847d498f270ecac5cbf62",
      "placeholder": "​",
      "style": "IPY_MODEL_309bad22d08c47af8d51942da599328e",
      "value": " 46.8M/46.8M [00:00&lt;00:00, 103MB/s]"
     }
    },
    "27e36e7f92d7417bb221fa95406cfb2f": {
     "model_module": "@jupyter-widgets/controls",
     "model_module_version": "1.5.0",
     "model_name": "FloatProgressModel",
     "state": {
      "_dom_classes": [],
      "_model_module": "@jupyter-widgets/controls",
      "_model_module_version": "1.5.0",
      "_model_name": "FloatProgressModel",
      "_view_count": null,
      "_view_module": "@jupyter-widgets/controls",
      "_view_module_version": "1.5.0",
      "_view_name": "ProgressView",
      "bar_style": "success",
      "description": "",
      "description_tooltip": null,
      "layout": "IPY_MODEL_7185b40a7fa74088ad7ff6efb524e6b5",
      "max": 46807446,
      "min": 0,
      "orientation": "horizontal",
      "style": "IPY_MODEL_cc6672c78dac468d9264efd90902c87d",
      "value": 46807446
     }
    },
    "2bcca7acc6f047d6ad4efbf1e5333c58": {
     "model_module": "@jupyter-widgets/base",
     "model_module_version": "1.2.0",
     "model_name": "LayoutModel",
     "state": {
      "_model_module": "@jupyter-widgets/base",
      "_model_module_version": "1.2.0",
      "_model_name": "LayoutModel",
      "_view_count": null,
      "_view_module": "@jupyter-widgets/base",
      "_view_module_version": "1.2.0",
      "_view_name": "LayoutView",
      "align_content": null,
      "align_items": null,
      "align_self": null,
      "border": null,
      "bottom": null,
      "display": null,
      "flex": null,
      "flex_flow": null,
      "grid_area": null,
      "grid_auto_columns": null,
      "grid_auto_flow": null,
      "grid_auto_rows": null,
      "grid_column": null,
      "grid_gap": null,
      "grid_row": null,
      "grid_template_areas": null,
      "grid_template_columns": null,
      "grid_template_rows": null,
      "height": null,
      "justify_content": null,
      "justify_items": null,
      "left": null,
      "margin": null,
      "max_height": null,
      "max_width": null,
      "min_height": null,
      "min_width": null,
      "object_fit": null,
      "object_position": null,
      "order": null,
      "overflow": null,
      "overflow_x": null,
      "overflow_y": null,
      "padding": null,
      "right": null,
      "top": null,
      "visibility": null,
      "width": null
     }
    },
    "2df0c4cc59044ec8a59aadf2d5d2a9c9": {
     "model_module": "@jupyter-widgets/controls",
     "model_module_version": "1.5.0",
     "model_name": "FloatProgressModel",
     "state": {
      "_dom_classes": [],
      "_model_module": "@jupyter-widgets/controls",
      "_model_module_version": "1.5.0",
      "_model_name": "FloatProgressModel",
      "_view_count": null,
      "_view_module": "@jupyter-widgets/controls",
      "_view_module_version": "1.5.0",
      "_view_name": "ProgressView",
      "bar_style": "success",
      "description": "",
      "description_tooltip": null,
      "layout": "IPY_MODEL_b2fc825e7e6949e0a18f491ff261ac2b",
      "max": 115434268,
      "min": 0,
      "orientation": "horizontal",
      "style": "IPY_MODEL_df6e6c84cc1c4c7b8cf5f8555eb42166",
      "value": 115434268
     }
    },
    "2ee43f14fa654a66ad0cfb559826f266": {
     "model_module": "@jupyter-widgets/controls",
     "model_module_version": "1.5.0",
     "model_name": "FloatProgressModel",
     "state": {
      "_dom_classes": [],
      "_model_module": "@jupyter-widgets/controls",
      "_model_module_version": "1.5.0",
      "_model_name": "FloatProgressModel",
      "_view_count": null,
      "_view_module": "@jupyter-widgets/controls",
      "_view_module_version": "1.5.0",
      "_view_name": "ProgressView",
      "bar_style": "success",
      "description": "",
      "description_tooltip": null,
      "layout": "IPY_MODEL_00b164fb36864e53a8a73710d7d855cc",
      "max": 216625723,
      "min": 0,
      "orientation": "horizontal",
      "style": "IPY_MODEL_64a0c4aa0bba4b6f8e8f5775a4341147",
      "value": 216625723
     }
    },
    "3095817ccc8f4ec6bae9b0c201d8e40a": {
     "model_module": "@jupyter-widgets/controls",
     "model_module_version": "1.5.0",
     "model_name": "HTMLModel",
     "state": {
      "_dom_classes": [],
      "_model_module": "@jupyter-widgets/controls",
      "_model_module_version": "1.5.0",
      "_model_name": "HTMLModel",
      "_view_count": null,
      "_view_module": "@jupyter-widgets/controls",
      "_view_module_version": "1.5.0",
      "_view_name": "HTMLView",
      "description": "",
      "description_tooltip": null,
      "layout": "IPY_MODEL_547eb1582628438c9f0ef01554dfcdb4",
      "placeholder": "​",
      "style": "IPY_MODEL_40b532d4d85740a2a16251bb321f489a",
      "value": " 115M/115M [00:02&lt;00:00, 36.9MB/s]"
     }
    },
    "309bad22d08c47af8d51942da599328e": {
     "model_module": "@jupyter-widgets/controls",
     "model_module_version": "1.5.0",
     "model_name": "DescriptionStyleModel",
     "state": {
      "_model_module": "@jupyter-widgets/controls",
      "_model_module_version": "1.5.0",
      "_model_name": "DescriptionStyleModel",
      "_view_count": null,
      "_view_module": "@jupyter-widgets/base",
      "_view_module_version": "1.2.0",
      "_view_name": "StyleView",
      "description_width": ""
     }
    },
    "3494ef9884224fa9a0a65999d7fc2945": {
     "model_module": "@jupyter-widgets/controls",
     "model_module_version": "1.5.0",
     "model_name": "DescriptionStyleModel",
     "state": {
      "_model_module": "@jupyter-widgets/controls",
      "_model_module_version": "1.5.0",
      "_model_name": "DescriptionStyleModel",
      "_view_count": null,
      "_view_module": "@jupyter-widgets/base",
      "_view_module_version": "1.2.0",
      "_view_name": "StyleView",
      "description_width": ""
     }
    },
    "3bd05fe4e6bd4ea2b7bfcfba705369c5": {
     "model_module": "@jupyter-widgets/controls",
     "model_module_version": "1.5.0",
     "model_name": "HTMLModel",
     "state": {
      "_dom_classes": [],
      "_model_module": "@jupyter-widgets/controls",
      "_model_module_version": "1.5.0",
      "_model_name": "HTMLModel",
      "_view_count": null,
      "_view_module": "@jupyter-widgets/controls",
      "_view_module_version": "1.5.0",
      "_view_name": "HTMLView",
      "description": "",
      "description_tooltip": null,
      "layout": "IPY_MODEL_01ef4b60c3144e17afffb86281466bab",
      "placeholder": "​",
      "style": "IPY_MODEL_3494ef9884224fa9a0a65999d7fc2945",
      "value": "Downloading model.safetensors: 100%"
     }
    },
    "40b532d4d85740a2a16251bb321f489a": {
     "model_module": "@jupyter-widgets/controls",
     "model_module_version": "1.5.0",
     "model_name": "DescriptionStyleModel",
     "state": {
      "_model_module": "@jupyter-widgets/controls",
      "_model_module_version": "1.5.0",
      "_model_name": "DescriptionStyleModel",
      "_view_count": null,
      "_view_module": "@jupyter-widgets/base",
      "_view_module_version": "1.2.0",
      "_view_name": "StyleView",
      "description_width": ""
     }
    },
    "415ddcb74bc2467fa9399039b7d0cafb": {
     "model_module": "@jupyter-widgets/controls",
     "model_module_version": "1.5.0",
     "model_name": "DescriptionStyleModel",
     "state": {
      "_model_module": "@jupyter-widgets/controls",
      "_model_module_version": "1.5.0",
      "_model_name": "DescriptionStyleModel",
      "_view_count": null,
      "_view_module": "@jupyter-widgets/base",
      "_view_module_version": "1.2.0",
      "_view_name": "StyleView",
      "description_width": ""
     }
    },
    "5246faf4e8194647a4b41d9de5a168f6": {
     "model_module": "@jupyter-widgets/controls",
     "model_module_version": "1.5.0",
     "model_name": "HBoxModel",
     "state": {
      "_dom_classes": [],
      "_model_module": "@jupyter-widgets/controls",
      "_model_module_version": "1.5.0",
      "_model_name": "HBoxModel",
      "_view_count": null,
      "_view_module": "@jupyter-widgets/controls",
      "_view_module_version": "1.5.0",
      "_view_name": "HBoxView",
      "box_style": "",
      "children": [
       "IPY_MODEL_c8f31460d7d5420db2c7840e287fac5b",
       "IPY_MODEL_2ee43f14fa654a66ad0cfb559826f266",
       "IPY_MODEL_e7e6388db19d47ceb06afc75fbb8486c"
      ],
      "layout": "IPY_MODEL_922be25533bd448e9ce92614f7bd2677"
     }
    },
    "547eb1582628438c9f0ef01554dfcdb4": {
     "model_module": "@jupyter-widgets/base",
     "model_module_version": "1.2.0",
     "model_name": "LayoutModel",
     "state": {
      "_model_module": "@jupyter-widgets/base",
      "_model_module_version": "1.2.0",
      "_model_name": "LayoutModel",
      "_view_count": null,
      "_view_module": "@jupyter-widgets/base",
      "_view_module_version": "1.2.0",
      "_view_name": "LayoutView",
      "align_content": null,
      "align_items": null,
      "align_self": null,
      "border": null,
      "bottom": null,
      "display": null,
      "flex": null,
      "flex_flow": null,
      "grid_area": null,
      "grid_auto_columns": null,
      "grid_auto_flow": null,
      "grid_auto_rows": null,
      "grid_column": null,
      "grid_gap": null,
      "grid_row": null,
      "grid_template_areas": null,
      "grid_template_columns": null,
      "grid_template_rows": null,
      "height": null,
      "justify_content": null,
      "justify_items": null,
      "left": null,
      "margin": null,
      "max_height": null,
      "max_width": null,
      "min_height": null,
      "min_width": null,
      "object_fit": null,
      "object_position": null,
      "order": null,
      "overflow": null,
      "overflow_x": null,
      "overflow_y": null,
      "padding": null,
      "right": null,
      "top": null,
      "visibility": null,
      "width": null
     }
    },
    "5ffb0b594f51466284af380fd4d47b40": {
     "model_module": "@jupyter-widgets/controls",
     "model_module_version": "1.5.0",
     "model_name": "FloatProgressModel",
     "state": {
      "_dom_classes": [],
      "_model_module": "@jupyter-widgets/controls",
      "_model_module_version": "1.5.0",
      "_model_name": "FloatProgressModel",
      "_view_count": null,
      "_view_module": "@jupyter-widgets/controls",
      "_view_module_version": "1.5.0",
      "_view_name": "ProgressView",
      "bar_style": "success",
      "description": "",
      "description_tooltip": null,
      "layout": "IPY_MODEL_c13aff2b064743be941b4672550e56c9",
      "max": 1469,
      "min": 0,
      "orientation": "horizontal",
      "style": "IPY_MODEL_ef5fba5f330748faa9bd583d637087a6",
      "value": 1469
     }
    },
    "64a0c4aa0bba4b6f8e8f5775a4341147": {
     "model_module": "@jupyter-widgets/controls",
     "model_module_version": "1.5.0",
     "model_name": "ProgressStyleModel",
     "state": {
      "_model_module": "@jupyter-widgets/controls",
      "_model_module_version": "1.5.0",
      "_model_name": "ProgressStyleModel",
      "_view_count": null,
      "_view_module": "@jupyter-widgets/base",
      "_view_module_version": "1.2.0",
      "_view_name": "StyleView",
      "bar_color": null,
      "description_width": ""
     }
    },
    "7185b40a7fa74088ad7ff6efb524e6b5": {
     "model_module": "@jupyter-widgets/base",
     "model_module_version": "1.2.0",
     "model_name": "LayoutModel",
     "state": {
      "_model_module": "@jupyter-widgets/base",
      "_model_module_version": "1.2.0",
      "_model_name": "LayoutModel",
      "_view_count": null,
      "_view_module": "@jupyter-widgets/base",
      "_view_module_version": "1.2.0",
      "_view_name": "LayoutView",
      "align_content": null,
      "align_items": null,
      "align_self": null,
      "border": null,
      "bottom": null,
      "display": null,
      "flex": null,
      "flex_flow": null,
      "grid_area": null,
      "grid_auto_columns": null,
      "grid_auto_flow": null,
      "grid_auto_rows": null,
      "grid_column": null,
      "grid_gap": null,
      "grid_row": null,
      "grid_template_areas": null,
      "grid_template_columns": null,
      "grid_template_rows": null,
      "height": null,
      "justify_content": null,
      "justify_items": null,
      "left": null,
      "margin": null,
      "max_height": null,
      "max_width": null,
      "min_height": null,
      "min_width": null,
      "object_fit": null,
      "object_position": null,
      "order": null,
      "overflow": null,
      "overflow_x": null,
      "overflow_y": null,
      "padding": null,
      "right": null,
      "top": null,
      "visibility": null,
      "width": null
     }
    },
    "7ad056a7d71847d498f270ecac5cbf62": {
     "model_module": "@jupyter-widgets/base",
     "model_module_version": "1.2.0",
     "model_name": "LayoutModel",
     "state": {
      "_model_module": "@jupyter-widgets/base",
      "_model_module_version": "1.2.0",
      "_model_name": "LayoutModel",
      "_view_count": null,
      "_view_module": "@jupyter-widgets/base",
      "_view_module_version": "1.2.0",
      "_view_name": "LayoutView",
      "align_content": null,
      "align_items": null,
      "align_self": null,
      "border": null,
      "bottom": null,
      "display": null,
      "flex": null,
      "flex_flow": null,
      "grid_area": null,
      "grid_auto_columns": null,
      "grid_auto_flow": null,
      "grid_auto_rows": null,
      "grid_column": null,
      "grid_gap": null,
      "grid_row": null,
      "grid_template_areas": null,
      "grid_template_columns": null,
      "grid_template_rows": null,
      "height": null,
      "justify_content": null,
      "justify_items": null,
      "left": null,
      "margin": null,
      "max_height": null,
      "max_width": null,
      "min_height": null,
      "min_width": null,
      "object_fit": null,
      "object_position": null,
      "order": null,
      "overflow": null,
      "overflow_x": null,
      "overflow_y": null,
      "padding": null,
      "right": null,
      "top": null,
      "visibility": null,
      "width": null
     }
    },
    "7d37b6f0ba8b4c5eb875635b98778d26": {
     "model_module": "@jupyter-widgets/controls",
     "model_module_version": "1.5.0",
     "model_name": "DescriptionStyleModel",
     "state": {
      "_model_module": "@jupyter-widgets/controls",
      "_model_module_version": "1.5.0",
      "_model_name": "DescriptionStyleModel",
      "_view_count": null,
      "_view_module": "@jupyter-widgets/base",
      "_view_module_version": "1.2.0",
      "_view_name": "StyleView",
      "description_width": ""
     }
    },
    "922be25533bd448e9ce92614f7bd2677": {
     "model_module": "@jupyter-widgets/base",
     "model_module_version": "1.2.0",
     "model_name": "LayoutModel",
     "state": {
      "_model_module": "@jupyter-widgets/base",
      "_model_module_version": "1.2.0",
      "_model_name": "LayoutModel",
      "_view_count": null,
      "_view_module": "@jupyter-widgets/base",
      "_view_module_version": "1.2.0",
      "_view_name": "LayoutView",
      "align_content": null,
      "align_items": null,
      "align_self": null,
      "border": null,
      "bottom": null,
      "display": null,
      "flex": null,
      "flex_flow": null,
      "grid_area": null,
      "grid_auto_columns": null,
      "grid_auto_flow": null,
      "grid_auto_rows": null,
      "grid_column": null,
      "grid_gap": null,
      "grid_row": null,
      "grid_template_areas": null,
      "grid_template_columns": null,
      "grid_template_rows": null,
      "height": null,
      "justify_content": null,
      "justify_items": null,
      "left": null,
      "margin": null,
      "max_height": null,
      "max_width": null,
      "min_height": null,
      "min_width": null,
      "object_fit": null,
      "object_position": null,
      "order": null,
      "overflow": null,
      "overflow_x": null,
      "overflow_y": null,
      "padding": null,
      "right": null,
      "top": null,
      "visibility": null,
      "width": null
     }
    },
    "93205e664daa4921959605eb99dfa9cc": {
     "model_module": "@jupyter-widgets/base",
     "model_module_version": "1.2.0",
     "model_name": "LayoutModel",
     "state": {
      "_model_module": "@jupyter-widgets/base",
      "_model_module_version": "1.2.0",
      "_model_name": "LayoutModel",
      "_view_count": null,
      "_view_module": "@jupyter-widgets/base",
      "_view_module_version": "1.2.0",
      "_view_name": "LayoutView",
      "align_content": null,
      "align_items": null,
      "align_self": null,
      "border": null,
      "bottom": null,
      "display": null,
      "flex": null,
      "flex_flow": null,
      "grid_area": null,
      "grid_auto_columns": null,
      "grid_auto_flow": null,
      "grid_auto_rows": null,
      "grid_column": null,
      "grid_gap": null,
      "grid_row": null,
      "grid_template_areas": null,
      "grid_template_columns": null,
      "grid_template_rows": null,
      "height": null,
      "justify_content": null,
      "justify_items": null,
      "left": null,
      "margin": null,
      "max_height": null,
      "max_width": null,
      "min_height": null,
      "min_width": null,
      "object_fit": null,
      "object_position": null,
      "order": null,
      "overflow": null,
      "overflow_x": null,
      "overflow_y": null,
      "padding": null,
      "right": null,
      "top": null,
      "visibility": null,
      "width": null
     }
    },
    "9eab400a02dc46269e2537db44a78625": {
     "model_module": "@jupyter-widgets/base",
     "model_module_version": "1.2.0",
     "model_name": "LayoutModel",
     "state": {
      "_model_module": "@jupyter-widgets/base",
      "_model_module_version": "1.2.0",
      "_model_name": "LayoutModel",
      "_view_count": null,
      "_view_module": "@jupyter-widgets/base",
      "_view_module_version": "1.2.0",
      "_view_name": "LayoutView",
      "align_content": null,
      "align_items": null,
      "align_self": null,
      "border": null,
      "bottom": null,
      "display": null,
      "flex": null,
      "flex_flow": null,
      "grid_area": null,
      "grid_auto_columns": null,
      "grid_auto_flow": null,
      "grid_auto_rows": null,
      "grid_column": null,
      "grid_gap": null,
      "grid_row": null,
      "grid_template_areas": null,
      "grid_template_columns": null,
      "grid_template_rows": null,
      "height": null,
      "justify_content": null,
      "justify_items": null,
      "left": null,
      "margin": null,
      "max_height": null,
      "max_width": null,
      "min_height": null,
      "min_width": null,
      "object_fit": null,
      "object_position": null,
      "order": null,
      "overflow": null,
      "overflow_x": null,
      "overflow_y": null,
      "padding": null,
      "right": null,
      "top": null,
      "visibility": null,
      "width": null
     }
    },
    "a9a67e81e91e46e19b23f58dea634525": {
     "model_module": "@jupyter-widgets/controls",
     "model_module_version": "1.5.0",
     "model_name": "HBoxModel",
     "state": {
      "_dom_classes": [],
      "_model_module": "@jupyter-widgets/controls",
      "_model_module_version": "1.5.0",
      "_model_name": "HBoxModel",
      "_view_count": null,
      "_view_module": "@jupyter-widgets/controls",
      "_view_module_version": "1.5.0",
      "_view_name": "HBoxView",
      "box_style": "",
      "children": [
       "IPY_MODEL_2045ffddb5c4407f9235d1bf472e9ba5",
       "IPY_MODEL_2df0c4cc59044ec8a59aadf2d5d2a9c9",
       "IPY_MODEL_3095817ccc8f4ec6bae9b0c201d8e40a"
      ],
      "layout": "IPY_MODEL_93205e664daa4921959605eb99dfa9cc"
     }
    },
    "b12ba9f2111c44eeb5ae65820cc7d5d7": {
     "model_module": "@jupyter-widgets/controls",
     "model_module_version": "1.5.0",
     "model_name": "HBoxModel",
     "state": {
      "_dom_classes": [],
      "_model_module": "@jupyter-widgets/controls",
      "_model_module_version": "1.5.0",
      "_model_name": "HBoxModel",
      "_view_count": null,
      "_view_module": "@jupyter-widgets/controls",
      "_view_module_version": "1.5.0",
      "_view_name": "HBoxView",
      "box_style": "",
      "children": [
       "IPY_MODEL_15b9261bb07f4bbb95d276b92feabade",
       "IPY_MODEL_5ffb0b594f51466284af380fd4d47b40",
       "IPY_MODEL_fc994e0c5ced45c78c0b9bb6f19c073f"
      ],
      "layout": "IPY_MODEL_c58471c60519419e9cdb3c7ff174d702"
     }
    },
    "b2fc825e7e6949e0a18f491ff261ac2b": {
     "model_module": "@jupyter-widgets/base",
     "model_module_version": "1.2.0",
     "model_name": "LayoutModel",
     "state": {
      "_model_module": "@jupyter-widgets/base",
      "_model_module_version": "1.2.0",
      "_model_name": "LayoutModel",
      "_view_count": null,
      "_view_module": "@jupyter-widgets/base",
      "_view_module_version": "1.2.0",
      "_view_name": "LayoutView",
      "align_content": null,
      "align_items": null,
      "align_self": null,
      "border": null,
      "bottom": null,
      "display": null,
      "flex": null,
      "flex_flow": null,
      "grid_area": null,
      "grid_auto_columns": null,
      "grid_auto_flow": null,
      "grid_auto_rows": null,
      "grid_column": null,
      "grid_gap": null,
      "grid_row": null,
      "grid_template_areas": null,
      "grid_template_columns": null,
      "grid_template_rows": null,
      "height": null,
      "justify_content": null,
      "justify_items": null,
      "left": null,
      "margin": null,
      "max_height": null,
      "max_width": null,
      "min_height": null,
      "min_width": null,
      "object_fit": null,
      "object_position": null,
      "order": null,
      "overflow": null,
      "overflow_x": null,
      "overflow_y": null,
      "padding": null,
      "right": null,
      "top": null,
      "visibility": null,
      "width": null
     }
    },
    "c13aff2b064743be941b4672550e56c9": {
     "model_module": "@jupyter-widgets/base",
     "model_module_version": "1.2.0",
     "model_name": "LayoutModel",
     "state": {
      "_model_module": "@jupyter-widgets/base",
      "_model_module_version": "1.2.0",
      "_model_name": "LayoutModel",
      "_view_count": null,
      "_view_module": "@jupyter-widgets/base",
      "_view_module_version": "1.2.0",
      "_view_name": "LayoutView",
      "align_content": null,
      "align_items": null,
      "align_self": null,
      "border": null,
      "bottom": null,
      "display": null,
      "flex": null,
      "flex_flow": null,
      "grid_area": null,
      "grid_auto_columns": null,
      "grid_auto_flow": null,
      "grid_auto_rows": null,
      "grid_column": null,
      "grid_gap": null,
      "grid_row": null,
      "grid_template_areas": null,
      "grid_template_columns": null,
      "grid_template_rows": null,
      "height": null,
      "justify_content": null,
      "justify_items": null,
      "left": null,
      "margin": null,
      "max_height": null,
      "max_width": null,
      "min_height": null,
      "min_width": null,
      "object_fit": null,
      "object_position": null,
      "order": null,
      "overflow": null,
      "overflow_x": null,
      "overflow_y": null,
      "padding": null,
      "right": null,
      "top": null,
      "visibility": null,
      "width": null
     }
    },
    "c428c0bd915d455986b3193e9636ea80": {
     "model_module": "@jupyter-widgets/base",
     "model_module_version": "1.2.0",
     "model_name": "LayoutModel",
     "state": {
      "_model_module": "@jupyter-widgets/base",
      "_model_module_version": "1.2.0",
      "_model_name": "LayoutModel",
      "_view_count": null,
      "_view_module": "@jupyter-widgets/base",
      "_view_module_version": "1.2.0",
      "_view_name": "LayoutView",
      "align_content": null,
      "align_items": null,
      "align_self": null,
      "border": null,
      "bottom": null,
      "display": null,
      "flex": null,
      "flex_flow": null,
      "grid_area": null,
      "grid_auto_columns": null,
      "grid_auto_flow": null,
      "grid_auto_rows": null,
      "grid_column": null,
      "grid_gap": null,
      "grid_row": null,
      "grid_template_areas": null,
      "grid_template_columns": null,
      "grid_template_rows": null,
      "height": null,
      "justify_content": null,
      "justify_items": null,
      "left": null,
      "margin": null,
      "max_height": null,
      "max_width": null,
      "min_height": null,
      "min_width": null,
      "object_fit": null,
      "object_position": null,
      "order": null,
      "overflow": null,
      "overflow_x": null,
      "overflow_y": null,
      "padding": null,
      "right": null,
      "top": null,
      "visibility": null,
      "width": null
     }
    },
    "c58471c60519419e9cdb3c7ff174d702": {
     "model_module": "@jupyter-widgets/base",
     "model_module_version": "1.2.0",
     "model_name": "LayoutModel",
     "state": {
      "_model_module": "@jupyter-widgets/base",
      "_model_module_version": "1.2.0",
      "_model_name": "LayoutModel",
      "_view_count": null,
      "_view_module": "@jupyter-widgets/base",
      "_view_module_version": "1.2.0",
      "_view_name": "LayoutView",
      "align_content": null,
      "align_items": null,
      "align_self": null,
      "border": null,
      "bottom": null,
      "display": null,
      "flex": null,
      "flex_flow": null,
      "grid_area": null,
      "grid_auto_columns": null,
      "grid_auto_flow": null,
      "grid_auto_rows": null,
      "grid_column": null,
      "grid_gap": null,
      "grid_row": null,
      "grid_template_areas": null,
      "grid_template_columns": null,
      "grid_template_rows": null,
      "height": null,
      "justify_content": null,
      "justify_items": null,
      "left": null,
      "margin": null,
      "max_height": null,
      "max_width": null,
      "min_height": null,
      "min_width": null,
      "object_fit": null,
      "object_position": null,
      "order": null,
      "overflow": null,
      "overflow_x": null,
      "overflow_y": null,
      "padding": null,
      "right": null,
      "top": null,
      "visibility": null,
      "width": null
     }
    },
    "c8f31460d7d5420db2c7840e287fac5b": {
     "model_module": "@jupyter-widgets/controls",
     "model_module_version": "1.5.0",
     "model_name": "HTMLModel",
     "state": {
      "_dom_classes": [],
      "_model_module": "@jupyter-widgets/controls",
      "_model_module_version": "1.5.0",
      "_model_name": "HTMLModel",
      "_view_count": null,
      "_view_module": "@jupyter-widgets/controls",
      "_view_module_version": "1.5.0",
      "_view_name": "HTMLView",
      "description": "",
      "description_tooltip": null,
      "layout": "IPY_MODEL_f63ee7f4234c45d48829e011f24eafde",
      "placeholder": "​",
      "style": "IPY_MODEL_f8bcfb1381aa46d89034ea50e30b43cf",
      "value": "Downloading yolox_l0.05.onnx: 100%"
     }
    },
    "cc6672c78dac468d9264efd90902c87d": {
     "model_module": "@jupyter-widgets/controls",
     "model_module_version": "1.5.0",
     "model_name": "ProgressStyleModel",
     "state": {
      "_model_module": "@jupyter-widgets/controls",
      "_model_module_version": "1.5.0",
      "_model_name": "ProgressStyleModel",
      "_view_count": null,
      "_view_module": "@jupyter-widgets/base",
      "_view_module_version": "1.2.0",
      "_view_name": "StyleView",
      "bar_color": null,
      "description_width": ""
     }
    },
    "daabde9b4b764797af6b96370e40c1d2": {
     "model_module": "@jupyter-widgets/base",
     "model_module_version": "1.2.0",
     "model_name": "LayoutModel",
     "state": {
      "_model_module": "@jupyter-widgets/base",
      "_model_module_version": "1.2.0",
      "_model_name": "LayoutModel",
      "_view_count": null,
      "_view_module": "@jupyter-widgets/base",
      "_view_module_version": "1.2.0",
      "_view_name": "LayoutView",
      "align_content": null,
      "align_items": null,
      "align_self": null,
      "border": null,
      "bottom": null,
      "display": null,
      "flex": null,
      "flex_flow": null,
      "grid_area": null,
      "grid_auto_columns": null,
      "grid_auto_flow": null,
      "grid_auto_rows": null,
      "grid_column": null,
      "grid_gap": null,
      "grid_row": null,
      "grid_template_areas": null,
      "grid_template_columns": null,
      "grid_template_rows": null,
      "height": null,
      "justify_content": null,
      "justify_items": null,
      "left": null,
      "margin": null,
      "max_height": null,
      "max_width": null,
      "min_height": null,
      "min_width": null,
      "object_fit": null,
      "object_position": null,
      "order": null,
      "overflow": null,
      "overflow_x": null,
      "overflow_y": null,
      "padding": null,
      "right": null,
      "top": null,
      "visibility": null,
      "width": null
     }
    },
    "df6e6c84cc1c4c7b8cf5f8555eb42166": {
     "model_module": "@jupyter-widgets/controls",
     "model_module_version": "1.5.0",
     "model_name": "ProgressStyleModel",
     "state": {
      "_model_module": "@jupyter-widgets/controls",
      "_model_module_version": "1.5.0",
      "_model_name": "ProgressStyleModel",
      "_view_count": null,
      "_view_module": "@jupyter-widgets/base",
      "_view_module_version": "1.2.0",
      "_view_name": "StyleView",
      "bar_color": null,
      "description_width": ""
     }
    },
    "e64cfd87330d4b238596da66db63d984": {
     "model_module": "@jupyter-widgets/controls",
     "model_module_version": "1.5.0",
     "model_name": "DescriptionStyleModel",
     "state": {
      "_model_module": "@jupyter-widgets/controls",
      "_model_module_version": "1.5.0",
      "_model_name": "DescriptionStyleModel",
      "_view_count": null,
      "_view_module": "@jupyter-widgets/base",
      "_view_module_version": "1.2.0",
      "_view_name": "StyleView",
      "description_width": ""
     }
    },
    "e7e6388db19d47ceb06afc75fbb8486c": {
     "model_module": "@jupyter-widgets/controls",
     "model_module_version": "1.5.0",
     "model_name": "HTMLModel",
     "state": {
      "_dom_classes": [],
      "_model_module": "@jupyter-widgets/controls",
      "_model_module_version": "1.5.0",
      "_model_name": "HTMLModel",
      "_view_count": null,
      "_view_module": "@jupyter-widgets/controls",
      "_view_module_version": "1.5.0",
      "_view_name": "HTMLView",
      "description": "",
      "description_tooltip": null,
      "layout": "IPY_MODEL_2bcca7acc6f047d6ad4efbf1e5333c58",
      "placeholder": "​",
      "style": "IPY_MODEL_052ec73371404595b7dec973dda308d4",
      "value": " 217M/217M [00:07&lt;00:00, 37.2MB/s]"
     }
    },
    "ef5fba5f330748faa9bd583d637087a6": {
     "model_module": "@jupyter-widgets/controls",
     "model_module_version": "1.5.0",
     "model_name": "ProgressStyleModel",
     "state": {
      "_model_module": "@jupyter-widgets/controls",
      "_model_module_version": "1.5.0",
      "_model_name": "ProgressStyleModel",
      "_view_count": null,
      "_view_module": "@jupyter-widgets/base",
      "_view_module_version": "1.2.0",
      "_view_name": "StyleView",
      "bar_color": null,
      "description_width": ""
     }
    },
    "ef897646c62444929b91935d3917b14d": {
     "model_module": "@jupyter-widgets/controls",
     "model_module_version": "1.5.0",
     "model_name": "HBoxModel",
     "state": {
      "_dom_classes": [],
      "_model_module": "@jupyter-widgets/controls",
      "_model_module_version": "1.5.0",
      "_model_name": "HBoxModel",
      "_view_count": null,
      "_view_module": "@jupyter-widgets/controls",
      "_view_module_version": "1.5.0",
      "_view_name": "HBoxView",
      "box_style": "",
      "children": [
       "IPY_MODEL_3bd05fe4e6bd4ea2b7bfcfba705369c5",
       "IPY_MODEL_27e36e7f92d7417bb221fa95406cfb2f",
       "IPY_MODEL_21318da3ae0644c28ec63983a34bd2ee"
      ],
      "layout": "IPY_MODEL_c428c0bd915d455986b3193e9636ea80"
     }
    },
    "f63ee7f4234c45d48829e011f24eafde": {
     "model_module": "@jupyter-widgets/base",
     "model_module_version": "1.2.0",
     "model_name": "LayoutModel",
     "state": {
      "_model_module": "@jupyter-widgets/base",
      "_model_module_version": "1.2.0",
      "_model_name": "LayoutModel",
      "_view_count": null,
      "_view_module": "@jupyter-widgets/base",
      "_view_module_version": "1.2.0",
      "_view_name": "LayoutView",
      "align_content": null,
      "align_items": null,
      "align_self": null,
      "border": null,
      "bottom": null,
      "display": null,
      "flex": null,
      "flex_flow": null,
      "grid_area": null,
      "grid_auto_columns": null,
      "grid_auto_flow": null,
      "grid_auto_rows": null,
      "grid_column": null,
      "grid_gap": null,
      "grid_row": null,
      "grid_template_areas": null,
      "grid_template_columns": null,
      "grid_template_rows": null,
      "height": null,
      "justify_content": null,
      "justify_items": null,
      "left": null,
      "margin": null,
      "max_height": null,
      "max_width": null,
      "min_height": null,
      "min_width": null,
      "object_fit": null,
      "object_position": null,
      "order": null,
      "overflow": null,
      "overflow_x": null,
      "overflow_y": null,
      "padding": null,
      "right": null,
      "top": null,
      "visibility": null,
      "width": null
     }
    },
    "f8bcfb1381aa46d89034ea50e30b43cf": {
     "model_module": "@jupyter-widgets/controls",
     "model_module_version": "1.5.0",
     "model_name": "DescriptionStyleModel",
     "state": {
      "_model_module": "@jupyter-widgets/controls",
      "_model_module_version": "1.5.0",
      "_model_name": "DescriptionStyleModel",
      "_view_count": null,
      "_view_module": "@jupyter-widgets/base",
      "_view_module_version": "1.2.0",
      "_view_name": "StyleView",
      "description_width": ""
     }
    },
    "fc994e0c5ced45c78c0b9bb6f19c073f": {
     "model_module": "@jupyter-widgets/controls",
     "model_module_version": "1.5.0",
     "model_name": "HTMLModel",
     "state": {
      "_dom_classes": [],
      "_model_module": "@jupyter-widgets/controls",
      "_model_module_version": "1.5.0",
      "_model_name": "HTMLModel",
      "_view_count": null,
      "_view_module": "@jupyter-widgets/controls",
      "_view_module_version": "1.5.0",
      "_view_name": "HTMLView",
      "description": "",
      "description_tooltip": null,
      "layout": "IPY_MODEL_daabde9b4b764797af6b96370e40c1d2",
      "placeholder": "​",
      "style": "IPY_MODEL_7d37b6f0ba8b4c5eb875635b98778d26",
      "value": " 1.47k/1.47k [00:00&lt;00:00, 66.9kB/s]"
     }
    }
   }
  }
 },
 "nbformat": 4,
 "nbformat_minor": 5
}
