{
 "cells": [
  {
   "cell_type": "markdown",
   "id": "812a4dbc-fe04-4b84-bdf9-390045e30806",
   "metadata": {
    "id": "812a4dbc-fe04-4b84-bdf9-390045e30806"
   },
   "source": [
    "# Multi-modal RAG with LangChain"
   ]
  },
  {
   "cell_type": "markdown",
   "id": "ecXPgawqG7XH",
   "metadata": {
    "id": "ecXPgawqG7XH"
   },
   "source": [
    "## SetUp\n",
    "\n",
    "Install the dependencies you need to run the notebook."
   ]
  },
  {
   "cell_type": "code",
   "execution_count": 3,
   "id": "05666d51-c8e7-41b1-a58f-86c00ebe3da9",
   "metadata": {},
   "outputs": [
    {
     "name": "stdout",
     "output_type": "stream",
     "text": [
      "/bin/bash: /home/jac/miniconda3/envs/tf/lib/libtinfo.so.6: no version information available (required by /bin/bash)\n",
      "\u001b[0m\u001b[01;32m'2022_SOD_survey[1].pdf'\u001b[0m*   \u001b[01;32mUntitled.ipynb\u001b[0m*   \u001b[01;32mlangchain_multimodal.ipynb\u001b[0m*\n"
     ]
    }
   ],
   "source": [
    "ls\n"
   ]
  },
  {
   "cell_type": "markdown",
   "id": "e62ec070",
   "metadata": {
    "id": "e62ec070"
   },
   "source": [
    "### Partition PDF tables, text, and images"
   ]
  },
  {
   "cell_type": "code",
   "execution_count": 1,
   "id": "dafb72c3-3083-443b-b258-c99864bde5df",
   "metadata": {},
   "outputs": [],
   "source": [
    "from unstructured.partition.pdf import partition_pdf\n"
   ]
  },
  {
   "cell_type": "code",
   "execution_count": 2,
   "id": "0a046528-8d22-4f4e-a520-962026562939",
   "metadata": {
    "colab": {
     "base_uri": "https://localhost:8080/",
     "height": 308,
     "referenced_widgets": [
      "5246faf4e8194647a4b41d9de5a168f6",
      "c8f31460d7d5420db2c7840e287fac5b",
      "2ee43f14fa654a66ad0cfb559826f266",
      "e7e6388db19d47ceb06afc75fbb8486c",
      "922be25533bd448e9ce92614f7bd2677",
      "f63ee7f4234c45d48829e011f24eafde",
      "f8bcfb1381aa46d89034ea50e30b43cf",
      "00b164fb36864e53a8a73710d7d855cc",
      "64a0c4aa0bba4b6f8e8f5775a4341147",
      "2bcca7acc6f047d6ad4efbf1e5333c58",
      "052ec73371404595b7dec973dda308d4",
      "b12ba9f2111c44eeb5ae65820cc7d5d7",
      "15b9261bb07f4bbb95d276b92feabade",
      "5ffb0b594f51466284af380fd4d47b40",
      "fc994e0c5ced45c78c0b9bb6f19c073f",
      "c58471c60519419e9cdb3c7ff174d702",
      "0e7ed203dde24ec9a8d0f9c95a8877fd",
      "e64cfd87330d4b238596da66db63d984",
      "c13aff2b064743be941b4672550e56c9",
      "ef5fba5f330748faa9bd583d637087a6",
      "daabde9b4b764797af6b96370e40c1d2",
      "7d37b6f0ba8b4c5eb875635b98778d26",
      "a9a67e81e91e46e19b23f58dea634525",
      "2045ffddb5c4407f9235d1bf472e9ba5",
      "2df0c4cc59044ec8a59aadf2d5d2a9c9",
      "3095817ccc8f4ec6bae9b0c201d8e40a",
      "93205e664daa4921959605eb99dfa9cc",
      "9eab400a02dc46269e2537db44a78625",
      "415ddcb74bc2467fa9399039b7d0cafb",
      "b2fc825e7e6949e0a18f491ff261ac2b",
      "df6e6c84cc1c4c7b8cf5f8555eb42166",
      "547eb1582628438c9f0ef01554dfcdb4",
      "40b532d4d85740a2a16251bb321f489a",
      "ef897646c62444929b91935d3917b14d",
      "3bd05fe4e6bd4ea2b7bfcfba705369c5",
      "27e36e7f92d7417bb221fa95406cfb2f",
      "21318da3ae0644c28ec63983a34bd2ee",
      "c428c0bd915d455986b3193e9636ea80",
      "01ef4b60c3144e17afffb86281466bab",
      "3494ef9884224fa9a0a65999d7fc2945",
      "7185b40a7fa74088ad7ff6efb524e6b5",
      "cc6672c78dac468d9264efd90902c87d",
      "7ad056a7d71847d498f270ecac5cbf62",
      "309bad22d08c47af8d51942da599328e"
     ]
    },
    "id": "0a046528-8d22-4f4e-a520-962026562939",
    "outputId": "85bfb6b1-557f-4d4d-be94-b0c7200150e2",
    "scrolled": true
   },
   "outputs": [
    {
     "name": "stderr",
     "output_type": "stream",
     "text": [
      "2025-04-16 19:04:35.539961: I tensorflow/core/util/port.cc:153] oneDNN custom operations are on. You may see slightly different numerical results due to floating-point round-off errors from different computation orders. To turn them off, set the environment variable `TF_ENABLE_ONEDNN_OPTS=0`.\n",
      "2025-04-16 19:04:35.807396: E external/local_xla/xla/stream_executor/cuda/cuda_fft.cc:485] Unable to register cuFFT factory: Attempting to register factory for plugin cuFFT when one has already been registered\n",
      "2025-04-16 19:04:35.891234: E external/local_xla/xla/stream_executor/cuda/cuda_dnn.cc:8454] Unable to register cuDNN factory: Attempting to register factory for plugin cuDNN when one has already been registered\n",
      "2025-04-16 19:04:35.916306: E external/local_xla/xla/stream_executor/cuda/cuda_blas.cc:1452] Unable to register cuBLAS factory: Attempting to register factory for plugin cuBLAS when one has already been registered\n",
      "2025-04-16 19:04:36.110394: I tensorflow/core/platform/cpu_feature_guard.cc:210] This TensorFlow binary is optimized to use available CPU instructions in performance-critical operations.\n",
      "To enable the following instructions: AVX2 AVX512F AVX512_VNNI FMA, in other operations, rebuild TensorFlow with the appropriate compiler flags.\n",
      "2025-04-16 19:04:37.262566: W tensorflow/compiler/tf2tensorrt/utils/py_utils.cc:38] TF-TRT Warning: Could not find TensorRT\n"
     ]
    }
   ],
   "source": [
    "from unstructured.partition.pdf import partition_pdf\n",
    "\n",
    "output_path = \"/mnt/c/Users/91940/projects/Prj/Doc chatbot/\"\n",
    "file_path = output_path + 'DSE_3121_Slide-9_Generative Adversarial Networks.pdf'\n",
    "# Reference: https://docs.unstructured.io/open-source/core-functionality/chunking\n",
    "chunks = partition_pdf(\n",
    "    filename=file_path,\n",
    "    infer_table_structure=True,            \n",
    "    strategy=\"hi_res\",                     \n",
    "\n",
    "    extract_image_block_types=[\"Image\",\"Table\"],\n",
    "    #extract_image_block_output_dir=\n",
    "    extract_image_block_output_dir=output_path,\n",
    "    \n",
    "\n",
    "    extract_image_block_to_payload=True,   \n",
    "\n",
    "    chunking_strategy=\"by_title\",          # or 'basic'\n",
    "    max_characters=10000,                  # defaults to 500\n",
    "    combine_text_under_n_chars=2000,       # defaults to 0\n",
    "    new_after_n_chars=6000,\n",
    "\n",
    "    # extract_images_in_pdf=True,          # deprecated\n",
    ")"
   ]
  },
  {
   "cell_type": "code",
   "execution_count": 3,
   "id": "038f6733",
   "metadata": {
    "id": "038f6733",
    "outputId": "9645206b-5b1d-45b5-ae1d-1883d78247f6"
   },
   "outputs": [
    {
     "data": {
      "text/plain": [
       "{\"<class 'unstructured.documents.elements.CompositeElement'>\"}"
      ]
     },
     "execution_count": 3,
     "metadata": {},
     "output_type": "execute_result"
    }
   ],
   "source": [
    "# We get 2 types of elements from the partition_pdf function\n",
    "set([str(type(el)) for el in chunks])\n"
   ]
  },
  {
   "cell_type": "code",
   "execution_count": 4,
   "id": "cccca0db",
   "metadata": {
    "id": "cccca0db",
    "outputId": "46f33bf2-d1d8-4bef-a0bf-d903ae2179d3"
   },
   "outputs": [
    {
     "data": {
      "text/plain": [
       "[<unstructured.documents.elements.Title at 0x7f33a81ea8e0>,\n",
       " <unstructured.documents.elements.Image at 0x7f33a81eabe0>,\n",
       " <unstructured.documents.elements.NarrativeText at 0x7f33a81eaf40>,\n",
       " <unstructured.documents.elements.NarrativeText at 0x7f33a81eab20>,\n",
       " <unstructured.documents.elements.NarrativeText at 0x7f33acf55160>,\n",
       " <unstructured.documents.elements.Footer at 0x7f33acf55340>,\n",
       " <unstructured.documents.elements.Image at 0x7f33a81ea940>,\n",
       " <unstructured.documents.elements.Image at 0x7f33acf552b0>,\n",
       " <unstructured.documents.elements.Footer at 0x7f33acf55580>,\n",
       " <unstructured.documents.elements.Footer at 0x7f33acf55760>,\n",
       " <unstructured.documents.elements.Image at 0x7f33acf555e0>,\n",
       " <unstructured.documents.elements.Image at 0x7f33acf558e0>,\n",
       " <unstructured.documents.elements.ListItem at 0x7f33acf55ac0>,\n",
       " <unstructured.documents.elements.ListItem at 0x7f33acf55ca0>,\n",
       " <unstructured.documents.elements.ListItem at 0x7f33acf55e80>,\n",
       " <unstructured.documents.elements.ListItem at 0x7f33acf580a0>,\n",
       " <unstructured.documents.elements.ListItem at 0x7f33acf58280>,\n",
       " <unstructured.documents.elements.ListItem at 0x7f355289b700>,\n",
       " <unstructured.documents.elements.ListItem at 0x7f33acf58640>,\n",
       " <unstructured.documents.elements.Footer at 0x7f33acf58820>,\n",
       " <unstructured.documents.elements.Footer at 0x7f33acf58a00>,\n",
       " <unstructured.documents.elements.Footer at 0x7f33acf58be0>,\n",
       " <unstructured.documents.elements.Image at 0x7f33acf55fa0>,\n",
       " <unstructured.documents.elements.NarrativeText at 0x7f33a81eaf70>,\n",
       " <unstructured.documents.elements.ListItem at 0x7f33acf583d0>,\n",
       " <unstructured.documents.elements.ListItem at 0x7f33acf58d00>,\n",
       " <unstructured.documents.elements.Image at 0x7f33acf58e80>,\n",
       " <unstructured.documents.elements.Footer at 0x7f33acf560a0>,\n",
       " <unstructured.documents.elements.Footer at 0x7f33acf56280>,\n",
       " <unstructured.documents.elements.Footer at 0x7f33acf56460>,\n",
       " <unstructured.documents.elements.Image at 0x7f33acf58fa0>,\n",
       " <unstructured.documents.elements.NarrativeText at 0x7f33acf55a30>,\n",
       " <unstructured.documents.elements.ListItem at 0x7f33acf564c0>,\n",
       " <unstructured.documents.elements.ListItem at 0x7f33acf56760>,\n",
       " <unstructured.documents.elements.Image at 0x7f33acf56940>,\n",
       " <unstructured.documents.elements.Footer at 0x7f33acf56b20>,\n",
       " <unstructured.documents.elements.Footer at 0x7f33acf56d00>,\n",
       " <unstructured.documents.elements.Footer at 0x7f33acf56ee0>,\n",
       " <unstructured.documents.elements.Image at 0x7f33acf56d60>,\n",
       " <unstructured.documents.elements.NarrativeText at 0x7f33acf56880>,\n",
       " <unstructured.documents.elements.ListItem at 0x7f33acf51040>,\n",
       " <unstructured.documents.elements.ListItem at 0x7f33acf51220>,\n",
       " <unstructured.documents.elements.Image at 0x7f33a81ea130>,\n",
       " <unstructured.documents.elements.NarrativeText at 0x7f33a81ea430>,\n",
       " <unstructured.documents.elements.NarrativeText at 0x7f33acf51460>,\n",
       " <unstructured.documents.elements.Footer at 0x7f33acf51640>,\n",
       " <unstructured.documents.elements.Footer at 0x7f33acf51820>,\n",
       " <unstructured.documents.elements.Footer at 0x7f33acf51a00>,\n",
       " <unstructured.documents.elements.Image at 0x7f33a81ea340>,\n",
       " <unstructured.documents.elements.NarrativeText at 0x7f33acf51940>,\n",
       " <unstructured.documents.elements.Image at 0x7f33acf515b0>,\n",
       " <unstructured.documents.elements.NarrativeText at 0x7f33acf51be0>,\n",
       " <unstructured.documents.elements.Footer at 0x7f33acf51dc0>,\n",
       " <unstructured.documents.elements.Footer at 0x7f33acf51fa0>,\n",
       " <unstructured.documents.elements.Footer at 0x7f33acf491c0>,\n",
       " <unstructured.documents.elements.Image at 0x7f33acf51e20>,\n",
       " <unstructured.documents.elements.NarrativeText at 0x7f33acf558b0>,\n",
       " <unstructured.documents.elements.Image at 0x7f33acf49370>,\n",
       " <unstructured.documents.elements.NarrativeText at 0x7f33acf49550>,\n",
       " <unstructured.documents.elements.Footer at 0x7f33acf49730>,\n",
       " <unstructured.documents.elements.Footer at 0x7f33acf49910>,\n",
       " <unstructured.documents.elements.Footer at 0x7f33acf49af0>,\n",
       " <unstructured.documents.elements.Image at 0x7f33acf49970>,\n",
       " <unstructured.documents.elements.NarrativeText at 0x7f33acf49670>,\n",
       " <unstructured.documents.elements.Image at 0x7f33acf49ca0>,\n",
       " <unstructured.documents.elements.NarrativeText at 0x7f33acf49e80>,\n",
       " <unstructured.documents.elements.Footer at 0x7f33a814c0a0>,\n",
       " <unstructured.documents.elements.Footer at 0x7f33a814c280>,\n",
       " <unstructured.documents.elements.Footer at 0x7f33a814c460>,\n",
       " <unstructured.documents.elements.Image at 0x7f33acf56c40>,\n",
       " <unstructured.documents.elements.ListItem at 0x7f33a814c3a0>,\n",
       " <unstructured.documents.elements.Image at 0x7f33a814c610>,\n",
       " <unstructured.documents.elements.ListItem at 0x7f33a814c7f0>,\n",
       " <unstructured.documents.elements.ListItem at 0x7f33a814c9d0>,\n",
       " <unstructured.documents.elements.ListItem at 0x7f33a814cbb0>,\n",
       " <unstructured.documents.elements.ListItem at 0x7f33a814cd90>,\n",
       " <unstructured.documents.elements.ListItem at 0x7f33a814cf70>,\n",
       " <unstructured.documents.elements.Footer at 0x7f33a8174190>,\n",
       " <unstructured.documents.elements.Footer at 0x7f33a8174370>,\n",
       " <unstructured.documents.elements.Footer at 0x7f33a8174550>,\n",
       " <unstructured.documents.elements.Text at 0x7f355289bd60>,\n",
       " <unstructured.documents.elements.Image at 0x7f33a814caf0>,\n",
       " <unstructured.documents.elements.Image at 0x7f33acf49dc0>,\n",
       " <unstructured.documents.elements.Image at 0x7f33a8174670>,\n",
       " <unstructured.documents.elements.Footer at 0x7f33a8174850>,\n",
       " <unstructured.documents.elements.Footer at 0x7f33a81749d0>,\n",
       " <unstructured.documents.elements.Footer at 0x7f33a8174bb0>,\n",
       " <unstructured.documents.elements.Image at 0x7f33a814c5b0>,\n",
       " <unstructured.documents.elements.ListItem at 0x7f33a8174910>,\n",
       " <unstructured.documents.elements.Image at 0x7f33a8174df0>,\n",
       " <unstructured.documents.elements.ListItem at 0x7f33a8174fd0>,\n",
       " <unstructured.documents.elements.ListItem at 0x7f33a814f1f0>,\n",
       " <unstructured.documents.elements.ListItem at 0x7f355289b2e0>,\n",
       " <unstructured.documents.elements.Image at 0x7f33a814f5b0>,\n",
       " <unstructured.documents.elements.Footer at 0x7f33a814f790>,\n",
       " <unstructured.documents.elements.Footer at 0x7f33a814f970>]"
      ]
     },
     "execution_count": 4,
     "metadata": {},
     "output_type": "execute_result"
    }
   ],
   "source": [
    "# Each CompositeElement containes a bunch of related elements.\n",
    "# This makes it easy to use these elements together in a RAG pipeline.\n",
    "\n",
    "chunks[0].metadata.orig_elements"
   ]
  },
  {
   "cell_type": "code",
   "execution_count": 43,
   "id": "9376ba8c-cad1-42de-b8c9-aa58af55e7f4",
   "metadata": {},
   "outputs": [
    {
     "name": "stdout",
     "output_type": "stream",
     "text": [
      "0: <class 'unstructured.documents.elements.Title'>\n",
      "1: <class 'unstructured.documents.elements.Title'>\n",
      "2: <class 'unstructured.documents.elements.Title'>\n",
      "3: <class 'unstructured.documents.elements.Title'>\n",
      "4: <class 'unstructured.documents.elements.Title'>\n",
      "5: <class 'unstructured.documents.elements.Text'>\n",
      "6: <class 'unstructured.documents.elements.Text'>\n",
      "7: <class 'unstructured.documents.elements.Title'>\n",
      "8: <class 'unstructured.documents.elements.Title'>\n",
      "9: <class 'unstructured.documents.elements.Title'>\n",
      "10: <class 'unstructured.documents.elements.Text'>\n",
      "11: <class 'unstructured.documents.elements.NarrativeText'>\n",
      "12: <class 'unstructured.documents.elements.NarrativeText'>\n",
      "13: <class 'unstructured.documents.elements.Text'>\n",
      "14: <class 'unstructured.documents.elements.Title'>\n",
      "15: <class 'unstructured.documents.elements.NarrativeText'>\n",
      "16: <class 'unstructured.documents.elements.NarrativeText'>\n",
      "17: <class 'unstructured.documents.elements.NarrativeText'>\n",
      "18: <class 'unstructured.documents.elements.NarrativeText'>\n",
      "19: <class 'unstructured.documents.elements.Text'>\n",
      "20: <class 'unstructured.documents.elements.NarrativeText'>\n",
      "21: <class 'unstructured.documents.elements.Title'>\n",
      "22: <class 'unstructured.documents.elements.NarrativeText'>\n",
      "23: <class 'unstructured.documents.elements.Title'>\n",
      "24: <class 'unstructured.documents.elements.NarrativeText'>\n",
      "25: <class 'unstructured.documents.elements.Text'>\n",
      "26: <class 'unstructured.documents.elements.NarrativeText'>\n",
      "27: <class 'unstructured.documents.elements.NarrativeText'>\n",
      "28: <class 'unstructured.documents.elements.Title'>\n",
      "29: <class 'unstructured.documents.elements.NarrativeText'>\n",
      "30: <class 'unstructured.documents.elements.Text'>\n",
      "31: <class 'unstructured.documents.elements.NarrativeText'>\n",
      "32: <class 'unstructured.documents.elements.Footer'>\n",
      "33: <class 'unstructured.documents.elements.Header'>\n",
      "34: <class 'unstructured.documents.elements.Header'>\n",
      "35: <class 'unstructured.documents.elements.NarrativeText'>\n",
      "36: <class 'unstructured.documents.elements.Table'>\n"
     ]
    }
   ],
   "source": [
    "for i, el in enumerate(elements):\n",
    "    print(f\"{i}: {type(el)}\")\n"
   ]
  },
  {
   "cell_type": "code",
   "execution_count": 5,
   "id": "b8766f03",
   "metadata": {
    "id": "b8766f03",
    "outputId": "8bd43211-e0a6-4d35-833e-ee7cb374c9b6"
   },
   "outputs": [
    {
     "data": {
      "text/plain": [
       "{'type': 'Image',\n",
       " 'element_id': '99964048-87ae-4d03-ae16-0012295a27cd',\n",
       " 'text': 'Generative Adversarial Networks ',\n",
       " 'metadata': {'coordinates': {'points': ((495.3333333333333,\n",
       "     478.6749999999999),\n",
       "    (495.3333333333333, 749.6666666666666),\n",
       "    (2299.666666666666, 749.6666666666666),\n",
       "    (2299.666666666666, 478.6749999999999)),\n",
       "   'system': 'PixelSpace',\n",
       "   'layout_width': 2667,\n",
       "   'layout_height': 1500},\n",
       "  'last_modified': '2024-11-12T19:28:50',\n",
       "  'filetype': 'PPM',\n",
       "  'languages': ['eng'],\n",
       "  'page_number': 1,\n",
       "  'image_base64': '/9j/4AAQSkZJRgABAQAAAQABAAD/2wBDAAgGBgcGBQgHBwcJCQgKDBQNDAsLDBkSEw8UHRofHh0aHBwgJC4nICIsIxwcKDcpLDAxNDQ0Hyc5PTgyPC4zNDL/2wBDAQkJCQwLDBgNDRgyIRwhMjIyMjIyMjIyMjIyMjIyMjIyMjIyMjIyMjIyMjIyMjIyMjIyMjIyMjIyMjIyMjIyMjL/wAARCAEPBw0DASIAAhEBAxEB/8QAHwAAAQUBAQEBAQEAAAAAAAAAAAECAwQFBgcICQoL/8QAtRAAAgEDAwIEAwUFBAQAAAF9AQIDAAQRBRIhMUEGE1FhByJxFDKBkaEII0KxwRVS0fAkM2JyggkKFhcYGRolJicoKSo0NTY3ODk6Q0RFRkdISUpTVFVWV1hZWmNkZWZnaGlqc3R1dnd4eXqDhIWGh4iJipKTlJWWl5iZmqKjpKWmp6ipqrKztLW2t7i5usLDxMXGx8jJytLT1NXW19jZ2uHi4+Tl5ufo6erx8vP09fb3+Pn6/8QAHwEAAwEBAQEBAQEBAQAAAAAAAAECAwQFBgcICQoL/8QAtREAAgECBAQDBAcFBAQAAQJ3AAECAxEEBSExBhJBUQdhcRMiMoEIFEKRobHBCSMzUvAVYnLRChYkNOEl8RcYGRomJygpKjU2Nzg5OkNERUZHSElKU1RVVldYWVpjZGVmZ2hpanN0dXZ3eHl6goOEhYaHiImKkpOUlZaXmJmaoqOkpaanqKmqsrO0tba3uLm6wsPExcbHyMnK0tPU1dbX2Nna4uPk5ebn6Onq8vP09fb3+Pn6/9oADAMBAAIRAxEAPwD3+iiuT8ceN7Xwhp4ChZtRmB8iA9B/tN/sj9enqRdOnKpJQgrtibsbes69pnh+z+1andx28fRQeWc+iqOT+FeXa18bJSzR6JpqKoPE12ckj/cU8fmfpXmOravf65fve6jcvPO/djwo9AOgHsKo19Dh8rpQV6mr/Ayc30Ouufid4vuXJ/tYxKTkLFCigfjjP61B/wALE8W/9Buf/vlf8K5iiu5YaivsL7kTdnT/APCxPFv/AEG5/wDvlf8ACj/hYni3/oNz/wDfK/4VzFFH1ej/ACL7kF2dP/wsTxb/ANBuf/vlf8KP+FieLf8AoNz/APfK/wCFcxRR9Xo/yL7kF2dP/wALE8W/9Buf/vlf8KP+FieLf+g3P/3yv+FcxRR9Xo/yL7kF2dP/AMLE8W/9Buf/AL5X/Cj/AIWJ4t/6Dc//AHyv+FcxRR9Xo/yL7kF2dP8A8LE8W/8AQbn/AO+V/wAKP+FieLf+g3P/AN8r/hXMUUfV6P8AIvuQXZ0//CxPFv8A0G5/++V/wo/4WJ4t/wCg3P8A98r/AIVzFFH1ej/IvuQXZ0//AAsTxb/0G5/++V/wo/4WJ4t/6Dc//fK/4VzFFH1ej/IvuQXZ0/8AwsTxb/0G5/8Avlf8KP8AhYni3/oNz/8AfK/4VzFFH1ej/IvuQXZ0/wDwsTxb/wBBuf8A75X/AAo/4WJ4t/6Dc/8A3yv+FcxRR9Xo/wAi+5BdnT/8LE8W/wDQbn/75X/Cj/hYni3/AKDc/wD3yv8AhXMUUfV6P8i+5BdnT/8ACxPFv/Qbn/75X/Cj/hYni3/oNz/98r/hXMUUfV6P8i+5BdnT/wDCxPFv/Qbn/wC+V/wo/wCFieLf+g3P/wB8r/hXMUUfV6P8i+5BdnT/APCxPFv/AEG5/wDvlf8ACj/hYni3/oNz/wDfK/4VzFFH1ej/ACL7kF2dP/wsTxb/ANBuf/vlf8KP+FieLf8AoNz/APfK/wCFcxRR9Xo/yL7kF2dP/wALE8W/9Buf/vlf8KP+FieLf+g3P/3yv+FcxRR9Xo/yL7kF2dP/AMLE8W/9Buf/AL5X/Cj/AIWJ4t/6Dc//AHyv+FcxRR9Xo/yL7kF2dP8A8LE8W/8AQbn/AO+V/wAKP+FieLf+g3P/AN8r/hXMUUfV6P8AIvuQXZ0//CxPFv8A0G5/++V/wo/4WJ4t/wCg3P8A98r/AIVzFFH1ej/IvuQXZ0//AAsTxb/0G5/++V/wo/4WJ4t/6Dc//fK/4VzFFH1ej/IvuQXZ0/8AwsTxb/0G5/8Avlf8KP8AhYni3/oNz/8AfK/4VzFFH1ej/IvuQXZ0/wDwsTxb/wBBuf8A75X/AAo/4WJ4t/6Dc/8A3yv+FcxRR9Xo/wAi+5BdnT/8LE8W/wDQbn/75X/Cj/hYni3/AKDc/wD3yv8AhXMUUfV6P8i+5BdnT/8ACxPFv/Qbn/75X/Cj/hYni3/oNz/98r/hXMUUfV6P8i+5BdnT/wDCxPFv/Qbn/wC+V/wo/wCFieLf+g3P/wB8r/hXMUUfV6P8i+5BdnT/APCxPFv/AEG5/wDvlf8ACj/hYni3/oNz/wDfK/4VzFFH1ej/ACL7kF2dP/wsTxb/ANBuf/vlf8KP+FieLf8AoNz/APfK/wCFcxRR9Xo/yL7kF2dP/wALE8W/9Buf/vlf8KP+FieLf+g3P/3yv+FcxRR9Xo/yL7kF2dP/AMLE8W/9Buf/AL5X/Cj/AIWJ4t/6Dc//AHyv+FcxRR9Xo/yL7kF2dP8A8LE8W/8AQbn/AO+V/wAKP+FieLf+g3P/AN8r/hXMUUfV6P8AIvuQXZ0//CxPFv8A0G5/++V/wo/4WJ4t/wCg3P8A98r/AIVzFFH1ej/IvuQXZ0//AAsTxb/0G5/++V/wo/4WJ4t/6Dc//fK/4VzFFH1ej/IvuQXZ0/8AwsTxb/0G5/8Avlf8KP8AhYni3/oNz/8AfK/4VzFFH1ej/IvuQXZ0/wDwsTxb/wBBuf8A75X/AAo/4WJ4t/6Dc/8A3yv+FcxRR9Xo/wAi+5BdnT/8LE8W/wDQbn/75X/Cj/hYni3/AKDc/wD3yv8AhXMUUfV6P8i+5BdnT/8ACxPFv/Qbn/75X/Cj/hYni3/oNz/98r/hXMUUfV6P8i+5BdnT/wDCxPFv/Qbn/wC+V/wo/wCFieLf+g3P/wB8r/hXMUUfV6P8i+5BdnT/APCxPFv/AEG5/wDvlf8ACj/hYni3/oNz/wDfK/4VzFFH1ej/ACL7kF2dP/wsTxb/ANBuf/vlf8KP+FieLf8AoNz/APfK/wCFcxRR9Xo/yL7kF2dP/wALE8W/9Buf/vlf8KP+FieLf+g3P/3yv+FcxRR9Xo/yL7kF2dP/AMLE8W/9Buf/AL5X/Cj/AIWJ4t/6Dc//AHyv+FcxRR9Xo/yL7kF2dP8A8LE8W/8AQbn/AO+V/wAKP+FieLf+g3P/AN8r/hXMUUfV6P8AIvuQXZ0//CxPFv8A0G5/++V/wo/4WJ4t/wCg3P8A98r/AIVzFFH1ej/IvuQXZ0//AAsTxb/0G5/++V/wo/4WJ4t/6Dc//fK/4VzFFH1ej/IvuQXZ0/8AwsTxb/0G5/8Avlf8KP8AhYni3/oNz/8AfK/4VzFFH1ej/IvuQXZ0/wDwsTxb/wBBuf8A75X/AAo/4WJ4t/6Dc/8A3yv+FcxRR9Xo/wAi+5BdnT/8LE8W/wDQbn/75X/Cj/hYni3/AKDc/wD3yv8AhXMUUfV6P8i+5BdnT/8ACxPFv/Qbn/75X/Cj/hYni3/oNz/98r/hXMUUfV6P8i+5BdnT/wDCxPFv/Qbn/wC+V/wo/wCFieLf+g3P/wB8r/hXMUUfV6P8i+5BdnT/APCxPFv/AEG5/wDvlf8ACj/hYni3/oNz/wDfK/4VzFFH1ej/ACL7kF2dP/wsTxb/ANBuf/vlf8KP+FieLf8AoNz/APfK/wCFcxRR9Xo/yL7kF2dP/wALE8W/9Buf/vlf8KP+FieLf+g3P/3yv+FcxRR9Xo/yL7kF2dP/AMLE8W/9Buf/AL5X/Cj/AIWJ4t/6Dc//AHyv+FcxRR9Xo/yL7kF2dP8A8LE8W/8AQbn/AO+V/wAKP+FieLf+g3P/AN8r/hXMUUfV6P8AIvuQXZ0//CxPFv8A0G5/++V/wo/4WJ4t/wCg3P8A98r/AIVzFFH1ej/IvuQXZ0//AAsTxb/0G5/++V/wo/4WJ4t/6Dc//fK/4VzFFH1ej/IvuQXZ0/8AwsTxb/0G5/8Avlf8KP8AhYni3/oNz/8AfK/4VzFFH1ej/IvuQXZ0/wDwsTxb/wBBuf8A75X/AAo/4WJ4t/6Dc/8A3yv+FcxRR9Xo/wAi+5BdnT/8LE8W/wDQbn/75X/Cj/hYni3/AKDc/wD3yv8AhXMUUfV6P8i+5BdnT/8ACxPFv/Qbn/75X/Cj/hYni3/oNz/98r/hXMUUfV6P8i+5BdnT/wDCxPFv/Qbn/wC+V/wo/wCFieLf+g3P/wB8r/hXMUUfV6P8i+5BdnT/APCxPFv/AEG5/wDvlf8ACj/hYni3/oNz/wDfK/4VzFFH1ej/ACL7kF2dP/wsTxb/ANBuf/vlf8KP+FieLf8AoNz/APfK/wCFcxRR9Xo/yL7kF2dP/wALE8W/9Buf/vlf8KP+FieLf+g3P/3yv+FcxRR9Xo/yL7kF2dP/AMLE8W/9Buf/AL5X/Cj/AIWJ4t/6Dc//AHyv+FcxRR9Xo/yL7kF2dP8A8LE8W/8AQbn/AO+V/wAKP+FieLf+g3P/AN8r/hXMUUfV6P8AIvuQXZ0//CxPFv8A0G5/++V/wo/4WJ4t/wCg3P8A98r/AIVzFFH1ej/IvuQXZ0//AAsTxb/0G5/++V/wo/4WJ4t/6Dc//fK/4VzFFH1ej/IvuQXZ0/8AwsTxb/0G5/8Avlf8KP8AhYni3/oNz/8AfK/4VzFFH1ej/IvuQXZ0/wDwsTxb/wBBuf8A75X/AAo/4WJ4t/6Dc/8A3yv+FcxRR9Xo/wAi+5BdnT/8LE8W/wDQbn/75X/Cj/hYni3/AKDc/wD3yv8AhXMUUfV6P8i+5BdnT/8ACxPFv/Qbn/75X/Cj/hYni3/oNz/98r/hXMUUfV6P8i+5BdnT/wDCxPFv/Qbn/wC+V/wo/wCFieLf+g3P/wB8r/hXMUUfV6P8i+5BdnT/APCxPFv/AEG5/wDvlf8ACj/hYni3/oNz/wDfK/4VzFFH1ej/ACL7kF2dP/wsTxb/ANBuf/vlf8KP+FieLf8AoNz/APfK/wCFcxRR9Xo/yL7kF2dP/wALE8W/9Buf/vlf8KP+FieLf+g3P/3yv+FcxRR9Xo/yL7kF2dP/AMLE8W/9Buf/AL5X/Cj/AIWJ4t/6Dc//AHyv+FcxRR9Xo/yL7kF2dP8A8LE8W/8AQbn/AO+V/wAKP+FieLf+g3P/AN8r/hXMUUfV6P8AIvuQXZ0//CxPFv8A0G5/++V/wo/4WJ4t/wCg3P8A98r/AIVzFFH1ej/IvuQXZ0//AAsTxb/0G5/++V/wo/4WJ4t/6Dc//fK/4VzFFH1ej/IvuQXZ0/8AwsTxb/0G5/8Avlf8KP8AhYni3/oNz/8AfK/4VzFFH1ej/IvuQXZ0/wDwsTxb/wBBuf8A75X/AAo/4WJ4t/6Dc/8A3yv+FcxRR9Xo/wAi+5BdnT/8LE8W/wDQbn/75X/Cj/hYni3/AKDc/wD3yv8AhXMUUfV6P8i+5BdnT/8ACxPFv/Qbn/75X/Cj/hYni3/oNz/98r/hXMUUfV6P8i+5BdnT/wDCxPFv/Qbn/wC+V/wo/wCFieLf+g3P/wB8r/hXMUUfV6P8i+5BdnT/APCxPFv/AEG5/wDvlf8ACj/hYni3/oNz/wDfK/4VzFFH1ej/ACL7kF2dP/wsTxb/ANBuf/vlf8KP+FieLf8AoNz/APfK/wCFcxRR9Xo/yL7kF2dP/wALE8W/9Buf/vlf8KP+FieLf+g3P/3yv+FcxRR9Xo/yL7kF2dP/AMLE8W/9Buf/AL5X/Cj/AIWJ4t/6Dc//AHyv+FcxRR9Xo/yL7kF2dP8A8LE8W/8AQbn/AO+V/wAKP+FieLf+g3P/AN8r/hXMUUfV6P8AIvuQXZ0//CxPFv8A0G5/++V/wo/4WJ4t/wCg3P8A98r/AIVzFFH1ej/IvuQXZ0//AAsTxb/0G5/++V/wo/4WJ4t/6Dc//fK/4VzFFH1ej/IvuQXZ0/8AwsTxb/0G5/8Avlf8KP8AhYni3/oNz/8AfK/4VzFFH1ej/IvuQXZ0/wDwsTxb/wBBuf8A75X/AAo/4WJ4t/6Dc/8A3yv+FcxRR9Xo/wAi+5BdnT/8LE8W/wDQbn/75X/Cj/hYni3/AKDc/wD3yv8AhXMUUfV6P8i+5BdnT/8ACxPFv/Qbn/75X/Cj/hYni3/oNz/98r/hXMUUfV6P8i+5BdnT/wDCxPFv/Qbn/wC+V/wo/wCFieLf+g3P/wB8r/hXMUUfV6P8i+5BdnT/APCxPFv/AEG5/wDvlf8ACj/hYni3/oNz/wDfK/4VzFFH1ej/ACL7kF2dP/wsTxb/ANBuf/vlf8KP+FieLf8AoNz/APfK/wCFcxRR9Xo/yL7kF2dP/wALE8W/9Buf/vlf8KP+FieLf+g3P/3yv+FcxRR9Xo/yL7kF2dP/AMLE8W/9Buf/AL5X/Cj/AIWJ4t/6Dc//AHyv+FcxRR9Xo/yL7kF2dP8A8LE8W/8AQbn/AO+V/wAKP+FieLf+g3P/AN8r/hXMUUfV6P8AIvuQXZ0//CxPFv8A0G5/++V/wo/4WJ4t/wCg3P8A98r/AIVzFFH1ej/IvuQXZ0//AAsTxb/0G5/++V/wo/4WJ4t/6Dc//fK/4VzFFH1ej/IvuQXZ0/8AwsTxb/0G5/8Avlf8KP8AhYni3/oNz/8AfK/4VzFFH1ej/IvuQXZ0/wDwsTxb/wBBuf8A75X/AAqe2+J3i+2cH+1jKoOSssKMD+OM/rXI0UPDUX9hfcguz1zRfjZKGWPW9NRlJ5mtDggf7jHn8x9K9R0bXtM8QWf2rTLyO4j6MBwyH0ZTyPxr5Sq9pOr3+iX6XunXLwTp3U8MPQjoR7GuHEZXSmr09H+BSm+p9YUVyPgjxxbeLdPIYLDqMIHnwdj/ALS/7J/Tp6E9WG9xXz1SnKnJwmrNGqdx9FJmlqBhRRRQAUUUUAUdY1S30TSLrUro4ht4y5A6sewHuTgfjXy/resXev6vcalevummbOOyDso9gOK9W+NestFZ6fo0b485jcTAHsvCj6Elj/wEV4zX0WVYdRp+1e7/ACMpvWwUUUV6xmFFFFABRRRQAUUUUAFFFFABRRRQAUUUUAFFFFABRRRQAUUUUAFFFFABRRRQAUUUUAFFFFABRRRQAUUUUAFFFFABRRRQAUUUUAFFFFABRRRQAUUUUAFFFFABRRRQAUUUUAFFFFABRRRQAUUUUAFFFFABRRRQAUUUUAFFFFABRRRQAUUUUAFFFFABRRRQAUUUUAFFFFABRRRQAUUUUAFFFFABRRRQAUUUUAFFFFABRRRQAUUUUAFFFFABRRRQAUUUUAFFFFABRRRQAUUUUAFFFFABRRRQAUUUUAFFFFABRRRQAUUUUAFFFFABRRRQAUUUUAFFFFABRRRQAUUUUAFFFFABRRRQAUUUUAFFFFABRRRQAUUUUAFFFFABRRRQAUUUUAFFFFABRRRQAUUUUAFFFFABRRRQAUUUUAFFFFABRRRQAUUUUAFFFFABRRRQAUUUUAFFFFABRRRQAUUUUAFFFFABRRRQAUUUUAFFFFABRRRQAUUUUAFFFFABRRRQAUUUUAFFFFABRRRQAUUUUAFFFFABRRRQAUUUUAFFFFABRRRQAUUUUAFFFFABRRRQBf0bV7vQtWt9Rs32ywtnHZh3U+xHFfSuj6zb6xpdtqFuy+VPGHAJ5U9wfcHI/CvluvU/hRrTC2vdLkcYjImi3HseGA9sgH8TXk5rh1Kn7Vbr8jSD1seyLKD3HSpA30rJhuc45Tp61ejlzjlelfOmpaBpaYrZ9KcKAFooooA+fvi/cNN47eM9IbaOMfTlv/Zq4Kuv+KP/ACUbVf8Atj/6JSuQr7DCK1CHojnluFFFFdAgooooAKKKKACiiigAooooAKKKKACiiigAooooAKKKKACiiigAooooAKKKKACiiigAooooAKKKKACiiigAooooAKKKKACiiigAooooAKKKKACiiigAooooAKKKKACiiigAooooAKKKKACiiigAooooAKKKKACiiigAooooAKKKKACiiigAooooAKKKKACiiigAooooAKKKKACiiigAooooAKKKKACiiigAooooAKKKKACiiigAooooAKKKKACiiigAooooAKKKKACiiigAooooAKKKKACiiigAooooAKKKKACiiigAooooAKKKKACiiigAooooAKKKKACiiigAooooAKKKKACiiigAooooAKKKKACiiigAooooAKKKKACiiigAooooAKKKKACiiigAooooAKKKKACiiigAooooAKKKKACiiigAooooAKKKKACiiigAooooAKKKKACiiigAooooAKKKKACiiigAooooAKKKKACiiigAooooAKKKKACiiigAooooAKKKKACiiigAooooAKKKKACiiigAooooAKKKKACiiigAooooAKKKKACuo8A3Jt/Ey4xiSF0OfwP9K5etnwo23xNaH/f/APQGrnxavQn6Mcdz3G2u+Ryn3a17a4zjlfu1x9vcEH+H7tbdncdOV+5Xx50HURSZA5HSrCmsu2lyByPu1oI2QPpQBNRSCloA+cPij/yUbVf+2P8A6JSuQrr/AIo/8lG1X/tj/wCiUrkK+xwv8CHovyOeW4UUUVuIKKKKACiiigAooooAKKKKACiiigAooooAKKKKACiiigAooooAKKKKACiiigAooooAKKKKACiiigAooooAKKKKACiiigAooooAKKKKACiiigAooooAKKKKACiiigAooooAKKKKACiiigAooooAKKKKACiiigAooooAKKKKACiiigAooooAKKKKACiiigAooooAKKKKACiiigAooooAKKKKACiiigAooooAKKKKACiiigAooooAKKKKACiiigAooooAKKKKACiiigAooooAKKKKACiiigAooooAKKKKACiiigAooooAKKKKACiiigAooooAKKKKACiiigAooooAKKKKACiiigAooooAKKKKACiiigAooooAKKKKACiiigAooooAKKKKACiiigAooooAKKKKACiiigAooooAKKKKACiiigAooooAKKKKACiiigAooooAKKKKACiiigAooooAKKKKACiiigAooooAKKKKACiiigAooooAKKKKACiiigAooooAKKKKACiiigAooooAKKKKACiiigAooooAKKKKACiiigAooooAKKKKACiiigArX8MceIrX/gf/AKA1ZFa3hn/kYbX/AIH/AOgGsMV/An6P8hx3PToXwe3StezlOR0+7WFGefwrUtG5HT7tfHHQdVZSZC9PuVsQtkD6Vz9i33en3P8ACty3PA/3aALq0tNXoPpTqAPnD4o/8lG1X/tj/wCiUrkK6/4o/wDJRtV/7Y/+iUrkK+xwv8CHovyOeW4UUUVuIKKKKACiiigAooooAKKKKACiiigAooooAKKKKACiiigAooooAKKKKACiiigAooooAKKKKACiiigAooooAKKKKACiiigAooooAKKKKACiiigAooooAKKKKACiiigAooooAKKKKACiiigAooooAKKKKACiiigAooooAKKKKACiiigAooooAKKKKACiiigAooooAKKKKACiiigAooooAKKKKACiiigAooooAKKKKACiiigAooooAKKKKACiiigAooooAKKKKACiiigAooooAKKKKACiiigAooooAKKKKACiiigAooooAKKKKACiiigAooooAKKKKACiiigAooooAKKKKACiiigAooooAKKKKACiiigAooooAKKKKACiiigAooooAKKKKACiiigAooooAKKKKACiiigAooooAKKKKACiiigAooooAKKKKACiiigAooooAKKKKACiiigAooooAKKKKACiiigAooooAKKKKACiiigAooooAKKKKACiiigAooooAKKKKACiiigAooooAKKKKACiiigAooooAKKKKACiiigAooooAKKKKACiiigArW8M/wDIw2v/AAP/ANANZNa3hn/kYbX/AIH/AOgGsMV/An6P8hx3PR06/hWlaHkf7tZqdfwrRteo/wB2vjjoOjsD93/c/wAK3rf7q/7tYFh/D/uf4VvW3Qf7tAF1eg+lPpi9B9KfQB84fFH/AJKNqv8A2x/9EpXIV1/xR/5KNqv/AGx/9EpXIV9jhf4EPRfkc8twooorcQUUUUAFFFFABRRRQAUUUUAFFFFABRRRQAUUUUAFFFFABRRRQAUUUUAFFFFABRRRQAUUUUAFFFFABRRRQAUUUUAFFaOi6HqPiDUFstNt2mmPJ7Kg9WPYV63onwX0+CNZNavZbmbqYoDsjHtnqfrxXNXxdKh8b17FKLZ4nRX0xb/DzwnbKFTRLdsd5Czn/wAeJp8vgHwpMpVtDtAD/cUqfzBFcP8AbFK/wv8AAr2bPmSiveNW+DegXaM2nTXFhL/CN3mp+Ibn9a8c8R6DceGtcn0u5kjkkiwd8Z4IIyOvTg124fGUsQ7QevYlxaMqiiiuokKKKKACiiigAooooAKKKKACiiigAooooAKKKKACiiigAooooAKKKKACiiigAooooAKKKKACit7wXYW+p+MtLs7uMSQSTfOh6MACcH24r6KPhbw8U2HQtM24xj7In+FcGLx8cNJRavcqMbnyvRWz4ssYNM8WapZWqbIIrhljXP3RngfhWNXbCSlFSXUkKKKKoAooooAKKKKACiiigAooooAKKKKACiiigAoroPBvheXxbry2CyGGFUMs0oGdqjjj3JIFeqj4KeHsc3+p5/66R/8AxFclfG0aEuWb1KUWzwqivS/HXwwg8N6MdV0y6uJoYmAnjnwSoJwGBAHcgYx3rzStaNeFaPPB6Caa3CiiithBRRRQAUVueDdPt9U8YaXZXab7eWYb0P8AEACcfpX0U/hPw7JCYm0LTdhGMC1QfqBxXDisdHDSUWr3KjG58s0Vd1i2js9bv7WEERQ3MkaAnPAYgfyqlXandXJCiiimAUUUUAFFFFABRRRQAUUUUAFFFFABRRRQAUUUUAFFFFABRRRQAUUUUAFFFFABRRXpHwf0XTtV1fUJNQs4boQQr5aTIHUEk5ODxnisq9VUabqPoNK7seb0V9L+IfCXh+fw/fj+x7GNlt3ZJIoFRlYKSCCBnrXzRWOExccSm0rWHKNgooorrJCiiigAoor6V8NeEtAg8N6cDpFjK720bvJLArs7FQSSSM9TXJi8XHDJNq9yoxufNVFd18V9GsNG8WRJp9vHbxT2qytHGu1Q25lOB0HCiuFrejVVWCmuomrOwUUUVoIKKK6TwP4XXxb4h/s+WdoIUiaaRkGW2ggYGe+WFRUnGnFzlshpXObor3X/AIUp4e/5/wDVP+/kf/xFcb48+Gn/AAi9gupadcS3NkGCSrKBvjz0ORgEE8dOuPWuSlmFCpJQi9WNwaPPKKKK7iQor0P4e/Dyz8W6bc6hfXk8UUcxhWODAJIUEkkg/wB4dqg+IfgG18IRWdzY3U00E7NGyz4LKwGRyAMjr27VzLF0nV9jfUrldrnB0UUV0khRRRQAUUUUAFFFFABRRRQAUUUUAFFFFABRRRQAUUUUAFFFFABRRRQAUUUUAFFFFABRX0N4E8LaF/whmmzy6VZzzzwiSSWaBXZieepHT2ryj4l6XZ6R41ubewgSCBo0kEaDCqSOcDsK4qGOjVquklsU42VzkKKKK7SQooooAKKKKACiiigAooooAKKKKACiiigAooooAKKKKACiiigAooooAKKKKACiiigAooooAKKKKACiiigAooooAKKKKACiiigAooooAKKKKACiiigArW8M/wDIw2v/AAP/ANANZNa3hn/kYbX/AIH/AOgGsMV/An6P8hx3PR06/hWja9R/u1nJ1/CtG16j/dr446DorD+H/c/wretug/3awbD+H/c/wretug/3aALq9B9KfTF6D6U+gD5w+KP/ACUbVf8Atj/6JSuQrr/ij/yUbVf+2P8A6JSuQr7HC/wIei/I55bhRRRW4gooooAKKKKACiiigAooooAKKKKACiiigAooooAKKKKACiiigAooooAKKKKACiiigAooooAKKKKACiiigAqSCGS5uI4IULyysERR1ZicAVHXafCzTl1Dx5aM67ktUe4I9wMD/wAeYGs61T2dNzfRDSuz2rwf4XtvCmhxWcSq1y4D3MwHMj/4DoP/AK5ql438dWvg+2RBGLjUJgTFBuwAP7zHsP511tfLvjDWH1zxXqN8zFkaYpF7IvC/oM/jXzuCofW6zlU1W7NZPlWhf1H4keKtSlZjqklsh6R2wEYX8Rz+ZNVrbx54qtJA8euXjEdpX8wfk2RXO0V9AsPSStyq3oZXZ7V4O+LcV9Mtj4i8q3lbhLtfljY+jj+H69PpXmnjbUo9W8Z6reRSCSJpyiOpyGVQFBHthawKKzpYOnRqOpDS43JtWYUUV0/hzwBr/iaMT2lssNqelxcHYh+nBJ/AVvOpCmuabshJXOYor1mL4HXJTM2uxI/olsWH5lhWbq3wb12yhaWwube/CjPljMbn6A8frXNHH4aTspj5WecUVJPBLbTvBPE8UsbFXR1wykdiDVvRdGvNf1aDTbFFa4mJxuOFAAyST6ACutySXM3oSUKK7+9+D/iSzs5bnztPm8pC5jilfcQBnjKgfrXPeH/BuueJiTp1mTADhp5DsjB+p6/QZrGOJoyi5KSsh2Zg0V6evwS1gx5bVLEP/dAcj88f0rlPEvgXW/CqrLfQpJbMdouIG3Jn0PAI/EUqeLoVJcsZK4OLRzdFFWLGwu9Su47Syt5Li4kOFjjXJNbtpK7EV6K9K034L63cxq9/e2tnn+AZlYfXGB+RNX5vgfcrGTBrsLv2D2xUfmGP8q5HmGGTtz/mVys8moroPEngzWvCzg6hbgwMcLcRHdGx9M9j7ECufrqhOM1zRd0TawUV2Xh/4Za94i0qPUrZ7OG3lz5ZuJGBYA4zhVPcHrWVr/hHVvDmqQ6fdwrLNOMwm3JcSc4wOM5z2xWccRSlNwUlcdnuYVFehaX8HvEN9brNdSW1juGRHKxZ/wAQBgfnmuDurZ7S9ntXwZIZGjbb0JBxxTp16dRtQd7A00Q0V2mjfC7xNq6LK1sljC3Ia7YqSP8AdALfmBXTRfA64KAy69EreiWxYfnuFZTx2Hg7Sl+v5DUWzyWivTr/AOCmrwxlrLUrW5I/gdTGT9Oo/WvPNS0y90e+kstQtnt7iP7yOP1B6Ee4q6WJpVv4criaa3Kleu+Hfg/Y6joNnf3+o3KzXUKzbIQoChhkDkHJwa8+8OeEdX8UyTLpkKMsAHmPI4VVz0H14NfSeiWkthoOnWc+PNt7WKJ9pyNyqAcfiK4MyxcqaUacrPqXCN9z5z8beFx4S8QHT0uDPE8SzRuwwdpJGD75BrnK9s+I3gLWvE/iOG+04W5hS1WI+ZJtO4Mx6Y9xXm/iLwLrvhi1S61CCP7O7bPMikDAN2B7iunC4uFSnFSkuZkyjZmTo+qT6LrFrqVsFM1vIHUP0PsfqK9N/wCF4zbMf2BHvx1+1HGfpsrym2tpry6itreMyTTOEjRerMTgCu1Pwi8ViLf5FqWxnYJxn6en608VTwsmnXtf1sEXLochqmozatql1qFxt865laRgo4BJ6D2qpVlNPu31NdNELfbGm8gRHg+Zu27frniuvn+E3iuC2aYW1vKVXd5ccwLH6Dua2lVpUrKTS7Cs2cPRSkFSQQQRwQaSthBRXY6X8MfE+rWEd7FaxRRSruj86UKzA9DjqPxrmNR0+50rUZ7C8j8u4gbY65BwfqKzhWpzk4xkm0OzKtFXtJ0bUdcvRaabaSXEx5IQcKPUk8Ae5r0Kx+CeqzRhr7U7W2Y/wxoZSPr0FRVxNKjpOVgSb2PL6K9WufghepGTa63byv2EsBjH5gt/KuA1/wAM6t4ZuhBqdqYt3+rkU7kf6N/TrSpYujVdoSuwcWtzIoooroEFFFFABRRUttby3d1DbQrulmdY0X1YnAFD0A9u+DOjfZPD1zqsi4kvZdqE/wDPNMj/ANCLfkK9Cmv7aC/tbKSQLPchzEv97YAW/nUekadFpGj2enQ/ctoljB9cDk/iea8e8ceLmtfirZXETkwaSyRsB3zzJ+ODt/CvllCWNxEmvN/5fob35Uexarp8WraTd6fN/q7mJoyfTIxn8OtfKV1bS2d3NazrtlhkaN19GBwf5V9cI6yIrowZWGQR0Ir5++LWjf2Z4xa7RcQ38YmGOm8cMP0B/wCBV05RV5Zum+pNRaXODooor6AyCit7w94N1vxOxOnWhMCnDTyHbGD9e/0Ga7FfglrJjy2qWAf+6A5H54/pXPUxdGm+Wclcai2ct8PP+R+0f/rsf/QTX0xXiHh34feIPDfjjSbi7tkmtVm+a4t23qvynr0I+pGK9vrws0qQqVIyg7q36msFZHyp4i/5GfVv+vyb/wBDNZlafiL/AJGfVv8Ar8m/9DNdMnwk8VvbiX7PbhiufLM4DfT0z+Ne97anThHndrmVm9jhqKlubaazupba4jaKaJijowwVYcEVFW6dxBRXU6F8PfEPiGxF7Z2qJbMSEkmkCB8eg6496x9c0O/8Pam+n6jEI51Ab5WDAg9CCKzjWpyk4KSuh2ZnUVYsbC71K7jtLK3kuLiQ4WONck16FpvwX1u5jV7+9tbPP8AzKw+uMD8iamriKVH+JKwJN7HmtFeszfA+5WMmDXYXfsHtio/MMf5Vw3iTwZrXhZwdQtwYGOFuIjujY+mex9iBUUsZQqvlhLUbi0c/RRXd6Z8JfEeqabBfJJYwJOgkRJpWDbSMgkBTjj3rWpWp0lebsJJvY4SitnUPC2r6d4gOhvaNLfcbUh+feCMgj2/l3rqofg7r5057q6ubO3dUL+SWLNwM4JAx+RNRPE0YJOUlqFmeeUVLbW095cx21tE8s0jBUjQZLE9gK9F0z4Ma1dQrJf3ttZFhnywDIw+uMD8iadXEUqP8R2BJvY81or1qX4HThMxa9Gzej2pUfnuNch4j+Hev+GrZ7u5iins0xungfIXJwMg4I/LFZ08bQqPljLUbi0cpRRjJwK7TRvhd4m1dFla2SxhbkNdsVJH+6AW/MCtqlWFNXm7CSbOLor1qL4HXBQGXXolb0S2LD89wqnf/AAU1eGMtZala3JH8DqYyfp1H61zrMMM3bn/MfIzzGirepaZe6PfSWWoWz29xH95HH6g9CPcVVVSzBVBJJwAO9daaauiRKK9Ci+DXiaSBZGm06NiM+W8zbh7cKR+tcnF4Z1ifXZdFhsZJb+FykkaYIXHcnoB79KxhiaM78sloOzMmuk8G+MLnwdqM1zDbJcxzpskidiucHIIPY/41s6j8J9Z0rQLnVLu7sx9njMjQoWY4HUZxjNcroWgaj4k1H7DpkIlmCl2ywUKo7kn6ipdShXpyu049Qs0zvdX+M11qOlXNnb6PHbPPG0fmm4L7QRgkDaOa8vrsNW+GXiXR9Omv57eGSCFS8hhlDFVHU444FcfRhYUIxfsLW+8cr9QorqtC+HfiPX4kngsxb2zgFZ7ltikeoHUj3AxXXQfA+7ZAbjXIY27iO3Lj8ywpVMbQpu0pf18gUWzyeivU7v4I6lHGTZ6vazMOiyxtHn8Rurz7W9A1Pw9ffZNTtWgkIyp6q49VI4NXSxVGq7QlcTi1uZtfV2hf8i9pn/XpF/6AK+Ua+rtC/wCRe0z/AK9Iv/QBXmZz8MPmXTPGvjX/AMjdZf8AXgv/AKMevNq9J+Nf/I3WX/Xgv/ox682rvwP+7w9CZbhRRRXWSFejfBb/AJHO6/68H/8ARkdec16N8Fv+Rzuv+vB//RkdcuO/3efoVHc9u1G/h0vT5r65JEEK7pCOy9zRfWVtq2mT2dwBJbXMZRsHqCOoP6g1keOv+RG1n/r1esD4T+Jv7Y8Of2dcPm70/Ccnlov4T+HT8B6181Gi3RdaPRm19bHiOu6RPoOt3emXI/eW7ld2PvL1DD6jBrPr2v4x+GftVhD4gtkzLbYiuMDrGT8rfgTj8favFK+mwldV6Sn16+pjJWZ7t8Ff+ROvP+wg/wD6Ljqt8bv+QFpn/Xy3/oJqz8Ff+ROvP+wg/wD6Ljqt8bv+QFpn/Xy3/oJrxo/8jH5/oX9g8SoorW0Lw1q3iS5MGl2jzbfvueET6seB/OvoJSUVeTsjIyaK9UtPgjqDxg3msW0L91iiaTH4krTb34JalFGWstWtrhx/DLG0efxBauX+0MNe3P8AmVyM8toq/q+i6joN81nqVq9vMBkBuQw9QRwR9Km0Dw7qXiXUDZaZCJJVQuxZgqqvTJJ9yK6XUio899O4rHdeCvhbaeIvDsOrX9/PEJy3lxwADAViuSSD3BrB+IHgqPwde2i29089vdIxXzAAylcZBxweor27wVpF1oXhGw029CC4gDh9jZHLsw5+hFc78TfB2q+K30w6YIT9mEvmebJt+9sxjj/ZNeJSx83impS9y79PI0cfdPAqK6zW/hz4i0DTnv7u3ie2jx5jQyhtgJxkjris/wAOeE9W8VSzppkSMIADI8jhQuc4/PB/KvZVek4OakrLqZ2exh0V0HiLwXrfheOOXUrdRBI21ZY3DLu64PofrXP1cJxmuaLuhWsFFdH4e8D674nt3udPtl+zo23zZXCKW9B61l6zot/oGovYalbmG4UBsZBBB6EEcEVKqwcnBNXXQdmUKKK6/Sfhn4l1jT4r6C2ijglXdGZpQpdexA64PvTqVYU1ebsCVzkKKt6ppl1o+pT6fex+XcwNtdcg9sjkexBqXR9E1LXr0WmmWklxL1O3gKPVieAPrT548vNfQRn0V6jZfBLU5Yw17qtrbsf4Y42kx+e2rE3wPulQmDXYXbsHtyo/MMa5HmGGTtz/AJlcjPJqK6XxH4E13wwnnXtuslrnH2iA70H17j8QK5quqFSNRc0HdCasFFdD4X8Gar4uknXTvIRIMeZJO5VQTnA4BJ6HtVvxL8PNb8LWC3t6bWa3LhC9vIW2k9MggGoeIpKfs3LXsFna5ydFdj4e+GniDxBAtysUdnasMrLckrvHqqgEn68CsjxT4buPCusnTbmaOZ/LWQPHnBB+v0ojXpyn7OMrsLPc+hPA3/IjaL/16p/KvHPi7/yPk3/XvH/KvY/A3/IjaL/16p/KvHPi7/yPk3/XvH/KvFy//fJfP8zSXwnCUVd0rSL/AFu+Sy022e4uG52r2HqSeAPc12A+EHioqCY7MH0M/wD9avbqV6VN2nJIzSbOCoqxf2U+m39xZXKhZ4JDHIAQQGBweRW54Z8D614qzJYwpHbKdrXEx2pn0Hcn6CqlUhCPPJ2QWObor1qL4HXBTMuvRI3olsWH57hVHUPgrrMEZex1C0uyP4GBiY/TqPzIrmWYYZu3P+Y+RnmdFWtS0280i/lsb+BoLmIgPG2OMjI6cHiqtdaaauiQooopgFFFFABRRRQAUUUUAFFFFABRRRQAUUUUAFFFFABRRRQAUUUUAFFFFABRRRQAUUUUAFFFFABRRRQAUUUUAFFFFABRRRQAVreGf+Rhtf8Agf8A6Aaya1vDP/Iw2v8AwP8A9ANYYr+BP0f5Djuejp1/CtG16j/drOTr+FaNr1H+7Xxx0HRWH8P+5/hW9bdB/u1g2H8P+5/hW9bdB/u0AXV6D6U+mL0H0p9AHzh8Uf8Ako2q/wDbH/0SlchXX/FH/ko2q/8AbH/0SlchX2OF/gQ9F+Rzy3CiiitxBRRRQAUUUUAFFFFABRRRQAUUUUAFFFFABRRRQAUUUUAFFFFABRRRQAUUUUAFFFFABRRRQAUUUUAFFFFABXpvwTQHxNqD9xZkD8XX/CvMq9E+DNyIfGU8LH/X2bqvuQyn+QNcmOV8PO3YqO57tcOY7aVx1VCR+VfItfXrKHRlbkEYNfJF5bPZX1xayDEkMjRsPcHB/lXnZM1769P1LqENOEbsMqjEeoFNr6S8Ia5o0Xg7R4jqdjG6WkaujTopVgoyCM9c5r0cXiXh4pqN7kRVz5w8mT/nm/8A3yaaQVOCCD6GvrxWV0DowZWGQQcgivDvjYoHiewYAZNmMn1+dq5sLmXt6ns+W3z/AOAOULK5h/DjwvH4m8Shbpd1jar50y/3+cKv4n9Aa+gNT1C10HRbi+mAS2tYt21BjgdFA/ICvOfghAq6Rq1wB87zohPsq5H/AKEa77xLoMXiXRJdLnuJYIpWUs0WMnBzjn3ArzswqqeK5Zv3Vb/glxVonh2pfFfxTe3jS212llDn5IYolbA9ywJJ/wA4r0T4Z+O7vxOLnT9U2NewIJFlRQvmJnByBxkEjp61T/4Ulo//AEFL78k/wra8L/Daw8K6x/aNrf3Ur+W0ZSQLgg49B7CtsRWwU6TjTVn00ElK+pzXxm8ORG1t/EECBZlcQXGB95T91j7jGPxHpXKfCT/kfrf/AK4y/wDoNeqfFF4V+HupLK6qWMYjBPJbzFOB+AP615X8JP8Akfrf/rhL/wCg1rhpylgJp9Lr8BNe8fQjKHRlYZVhgj2rybxl8Sm8PXZ0Hw1BbxLaDy5JSmVQj+FF6cdye+a9ar5Jv5Wn1K6mc5d5nZj6kkmuXK8PCrOTnql0Km7Hs/w08f6p4j1afTNV8qRhCZo5UQKeCAQQOO/6V6BrljHqehX9lKgZJoHTBHfHB/A4NeI/Bz/kd2/69JP5rXvU3+ok/wB0/wAqzzCEaWI9xW2YQd1qfIlfRvw68KQeHPD0MzxD+0btBJPIRyoPIQegH8818+6XAtzq9lbuMrLOiH6FgK+s6784qtRjTXUmmup5r8SPiJc+HbtNJ0jyxeFA80zru8oHoADxnvz2x68cHpnxX8UWV8kt3dre2+4eZDJEi5HfBUAg/wCcV6Rrvwq07X9butUudSvEluGBKoFwMAAAZHoBWd/wpLR/+gpffkn+FZUK2BhSUZq766Dalc7+WGx8R6FslQTWN9AGwe6sMg+x6GvmDWtMk0bW73TZTlraVo9394A8H8Rg19RaPpqaPo9pp0crypbRiNXfqQOma+fPic8L/ELU2hdWGYwxU8bhGoI/MUZTO1WUFtuE1pc9o+HX/IgaP/1yP/oTVuTWFkdQj1SeNPtFvEyJK/8AyzU8tj06dfSsP4df8iBo/wD1yP8A6E1c38Z9XuLLQbLT4HKLeyN5pB+8qAfL9CWH5Vw+ylVxTpxdrtlXtG5b1f4v+H9OneC0juNQdeN8QCx5/wB48n6gYrw2e+afV5dQ2bWeczbc5wS27FVKVVZ2CqpZmOAAMkmvosPg6WHT5Opk5NnuPi34t2enKLbQPKvblhlpmyY489uPvH9B+lecT/EnxdcS7zrEic8LHGigfkK2tB+D+talEk+pTx6bEwyEZd8uPdcgD8Tn2rr4fg74asofMvr68kA+8zyrGn8v61wRngMOuX4n6X/4BXvM2Pht4ouvFHhx5b9la8tpTFI6qBvGAQ2BwDzj8KyvjFosN34XTVQgFxZSKC/cxsdpH5kH8/Wul8JaP4f0a2uYdAuUmjZwZttwJcNjjOOnFU/if/yTrVvpF/6NSvPhOKxilTVk2vxLfw6niXhXxpqnhB7g6esEkdxjzI51JGRnBGCCDya+kdNuXvdKs7qQKHmgSRgvQEqCcfnXyXX1doP/ACLumf8AXpF/6AK7M4pxXLNLVk02cL8QPiJqnhPX4rCytbOWJ7ZZi0ysWyWYdmHHyivOPE/xE1nxVYJY3cdrDbq4cpAhG4jpkkn1rY+NH/I523/Xgn/ocledV2YHDUvZQqcupMm72N/wP/yPGi/9fafzr6fr5h8D/wDI8aL/ANfafzr6erz84/ix9Cqex8v+Jp5LTx7q1xC22WLUpZEb0YSEg/nX0ppWoR6rpNpqEX3LmFZQPTIzj8OlfM/i/wD5HPW/+v8Am/8AQzXr/wAHNX+3eFJdPdsyWExAH+w/zD9d35VvmVLmw8Ki6W/EUHrY8x+I+kf2P43v0VdsVw32mP6Pyf8Ax7cPwrL8LaQdd8T6dp2CUmmHmf7g5b9Aa9S+Nej+dpthrEa/NBIYJCP7rcg/gQf++qy/gpo/m6lf6xIvywRiCMn+83JP4AD/AL6reGK/2L2nVK3z2E4+9Y9lllitbZ5ZCEhiQsx7KoGT+lfKuo3c+v8AiC4ugpae9uCyp3yzcL/IV718UtX/ALK8EXUaNiW9YWyfQ8t/46CPxrxjwFAtx470ZHGQLgP+K5YfqK5srh7OlOs/6sOerse/+E/DNr4W0OGxgVTMQGuJgOZH7n6eg9K8/wDiB8Tr/TtYl0jQ3SI252zXJQOS/dVB4AHQ8dfpz65Xm978HdLv7+4vJdUvvMnlaV8BOrHJ7e9cOFq0XVdTEalyTtZHG+Gvivrttq8CaxdLd2MjhZd8aq0YP8QKgdOuDXsniTQrbxJoVzptwq/vFzG5H+rcfdYfj+mRXDf8KS0f/oKX35J/hXpcMfkW8cW4tsQLubqcDqavGVaDnGeH0a8regop7M+SJont55IZV2yRsUYehBwaZWv4qaF/FusPbsrRNezFWXoQXPT2rIr6WD5opmIUUUVQBXd/CbRv7T8ZR3TrmGwQzHPTf0Ufmc/8BrhK9++EOjf2d4RN9IuJr+Qye+xflUf+hH8a4cxreyoO270Kgrs7XU7+LStKur+f/V28TSt74GcV8pXd1Le3k93O26aeRpHPqxOT/OvoP4nxate+Fxp2k2U9zJdSgS+UudqLzz9SF/WvF/8AhBPFX/QCvP8AviuPKvZ06bnJpN+ZU7tnt/w01n+2fBFmXbdNa5tpP+A/d/8AHStZ3xd0b+0fCH22NczWEgk467D8rD+R/wCA1j/CbTdf0LUb601LTLq3tLmMOryLhRIp6fiCfyFeoXlpFf2M9pOu6GeNo3HqpGD/ADrgrSWHxfPB3V7lrWJ8kVs+FNDPiPxNZaZkrHK+ZWHUIBlvxwPzNUNTsJdL1S6sJx+9t5Wib3IOM13vwWhV/F91IwyY7JtvsS6D+Wa+hxFXkoSnHsYpa2PcbS0t7C0itLWFIYIlCpGgwFFeO+Kfi/qC6nNa6EkMVtE5QXEi72kI4yAeAPwP9K9e1OVodJvJUOGSB2B9CFNfJdeNleHhWcp1FexpN22PYvAXxM1jWfENvo+qRwTLcbgsyLsZSFLcgcEcegr1yvm74Zf8lE0n/ek/9FvX0jWOZ0oU6yUFa6/zHB3R8qeIv+Rn1b/r8m/9DNfRngrV/wC3PB+m3rNulMQjlPfevyk/jjP4185+Iv8AkZ9W/wCvyb/0M16f8E9XzFqWjO3KkXMQ9jhW/wDZPzr0cxpc+GUl0sTB6mB8YdI+w+LEv0XEV/EGJ/21+Vv02n8a4OytJb+/t7OAZlnkWJB7scD+de9fFzR/7R8GtdouZbCQSjHXYflYfqD/AMBrzv4R6P8A2j4yW7dcxWEZlOem8/Ko/Un/AIDV4TFJYPnf2dP8hSj7x7zYWUWnadbWUAxFbxLEn0AxXzV451f+2/GWpXatuiEvlRemxPlBH1xn8a+gfGOr/wBh+EtRv1bbIkRWI/7bfKv6kH8K+aNLgW51eygcZWWdEP0LAVy5TD460vT9WVN9D6C+HXhSDw54ehmeIf2jdoJJ5COVB5CD0A/nmsb4kfES58O3aaTpHli8KB5pnXd5QPQAHjPfntj149Krgdd+FWna/rd1qlzqV4ktwwJVAuBgAADI9AK4qFWnOu6mI1RTTtZHm+mfFfxRZXyS3d2t7b7h5kMkSLkd8FQCD/nFe7Sw2PiPQtkqCaxvoA2D3VhkH2PQ1wH/AApLR/8AoKX35J/hXoWj6amj6PaadHK8qW0YjV36kDpmtMbVw8+WVDRrysKKfU+Xda0yTRtbvdNlOWtpWj3f3gDwfxGDX0/oX/IvaZ/16Rf+gCvn/wCJzwv8QtTaF1YZjDFTxuEagj8xX0BoX/IvaZ/16Rf+gCujM5udClJ7v/JChuwlt9N065utanEUMpiCzXMhxtRegyeg/n+VcFrnxi0SOG4ttPtbm7ZkZFlIEaEkYzzzj8BWR8a9XuBd6fo6OVt/K+0SKD98liq5+m0/nXktVgsvhUgqtXW+wSnZ2R6p8E9Mhn1PU9SkUNJbIkcRPbfuyR74XH4muk+KXi7WfDSWMOlEQC4DF7kxhiCMfKM5A65rh/hR4otdA1y4tL6QRW18qr5rHhHUnbn0B3EZ+le73Vpa39sYLq3huIH6pKgdT+BrLGy9ljOepG8f+B/mEdY2R8+WfxU8W2kwd9QS5QHmOaFMH8VAP61v+J/ibZeJPAVxY+S9tqUzorxfeUqGDFg3pwODzz3613Go/Czwpfhiti9pIf47aUrj8Dlf0ryfxt8Pb3wltuo5ftWnO20TbcMh7Bh/X+VdNGpgq9SPKuWS26f8ATUkjkIJTDPHKOqMGH4HNe3eLfi3Z6cottA8q9uWGWmbJjjz24+8f0H6V4cqs7BVUszHAAGSTXomg/B/WtSiSfUp49NiYZCMu+XHuuQB+Jz7V1YyGHbjOu9vxJi30MWf4k+LriXedYkTnhY40UD8hXsPw28UXXijw48t+yteW0pikdVA3jAIbA4B5x+FY8Pwd8NWUPmX19eSAfeZ5VjT+X9a6jwlo/h/Rra5h0C5SaNnBm23Alw2OM46cV5eMr4WpStSjqutrFxUk9TmvjFosN34XTVQgFxZSKC/cxsdpH5kH8/WvELD/kIW3/XVf5ivoj4n/wDJOtW+kX/o1K+d7D/kIW3/AF1X+YrtyqTeHafRsme59bVkznR/DUF9qlw8Vqs8nmXE79XbGAPU+wFa1eCfGDV7i78XHTS5FtZRrtTPBZlDFvrggfhXj4PDuvU5L2XU0k7K5t+LfixpWp6Jf6Xp9lcyG4jMQmlwigHuBkk/pVD4Jf8AIxal/wBeg/8AQxXmFen/AAS/5GHUv+vQf+hivaxGHp0MJOMDNNuWp6z4p/5FHWv+vCf/ANFtXyvX1R4o/wCRR1r/AK8J/wD0W1fK9Y5P8EvUdTc9tuvinp+jeEtLisNl7qbWkYaPPyQsFAO8+uc8D9K4C8+Jvi27lL/2qYV7JDGqgfpn8zVzw58K9c12CO6uCmn2rjKtMCXYeoT0+pFdxa/BjQbaPffajeTFR8xDLGn8if1p82Bw7afvP7/+AHvMsfCvxjqHiO2vbPVJRNcWu1kl2gFlbIwcccEdfetX4l6LDq/gq9kdAZ7NDcxP3Xbyw+hXP6elSeE/D3hfQ7y5/sK6Sa4dAJlF0JSFzxkDpzWr4p/5FDWv+vCf/wBFtXmTqRWKU6SsrryLS93U+V6+rtC/5F7TP+vSL/0AV8o19XaF/wAi9pn/AF6Rf+gCvRzn4YfMimeNfGv/AJG6y/68F/8ARj15tXpPxr/5G6y/68F/9GPXm1d+B/3eHoTLcKKKK6yQr0b4Lf8AI53X/Xg//oyOvOa9G+C3/I53X/Xg/wD6Mjrlx3+7z9Co7nq/jr/kRtZ/69XrwDwd4hfwz4ltdQBPk58u4UfxRnr+XBHuBXv/AI6/5EbWf+vV6+Yq4Mqgp0Jxls3+hU9z62mittU054pAs1rcxFT3Dow/qDXy/wCJdDm8OeILvTJsnyn/AHbn+NDyrfl+ua9g+EPib+0tDfRrh83NgP3eTy0R6f8AfJ4+hFM+MHhn+0NGj1u3TNxZDbLgctET/wCynn6E1hg5vC4l0Z7P+kOXvK4/4K/8idef9hB//RcdVvjd/wAgLTP+vlv/AEE1Z+Cv/InXn/YQf/0XHVb43f8AIC0z/r5b/wBBNTH/AJGPz/QPsHkGjaZNrWs2mmwcSXMojB/ug9T+Ayfwr6h0bR7LQdLh0+wiEcMQx7se7E9ya8K+EcCzePYXYcwwSOv1xt/9mNfQMqGSF0DFCykBh1Ge9Vm9VuoqfRahTWlzxPxf8V9VfV57TQZktrSBygmCKzykcE8ggD0x/wDWqx4E+J2r3Ov22ma3OlzBdMIklKKrI5+70ABBPH41sf8ACktH/wCgpffkn+FTWfwb0qyvYLqPVL7fDIsi5CdQcjt7Vbq4D2XIl87ahaV7m/8AEHw5F4h8K3K7Abu1Rp7d8chgMlfoQMfl6V4J4a8T6h4U1Jr3T/KLuhjdJVLKy5B5wQeoHQ19RSvHHC7zMqxKpLsxwAO+favkZ9okbYcrk4+lVlL9pTnTnqv8xT0dz6j8KatPrvhix1O5SNJrhCzLGCFHzEcZJPaud+I3jbUPB7aaLG3tZftQk3+erHG3bjGCP7xrT+HX/JP9I/65N/6G1cN8cv8AWaF9J/8A2nXFh6UJYz2bWl3+pTfu3OY1/wCKOu+INJl02aKzt4JsCQwI25hnOMljxWj8GdU+yeKriwZsJewHaPV05H6b684rT8O6mdG8RafqIJAgnVnx3XPzD8s17tTCw9hKnBWv+ZmpO92fQ3j/AEv+1/BGpwBcyRxefH67k+bj6gEfjXzNX14QskeDhkYfUEV836f4YJ+JsegMhMcd8VYHvEp3Z/FR+tedlVdRhOMumv8AmXNanu/hDSv7F8JaZYldrpAGkH+23zN+pNeffG7S8xaZq6L90tbSH6/Mv8nruvEGvLpfiDw7YlsC+unVvcBCAP8Avp1/KoviDpf9reB9ThVcyRR+fH65T5uPqAR+NcOHqShiIVZfaf5uxTV1Y+ddH099W1qy09M5uZkjyOwJwT+A5r6uRI7eBUUBIo1AA6BQBXgnwf0v7b4yN4y5jsYWkz/tN8o/Qsfwr1rx7qn9keCdUuA2JHi8mP13P8vH0yT+FdeZydWvGiv6uTDRXPnrW72TxB4nvLuMF3u7lvKXvgnCj8sCvo3wp4btfC+hQWMCL5uA08oHMknc/TsPavn7wJbrc+OtGjYZAuVf/vn5v6V9O082m48tGO1gprqeS/EL4majpWsy6PopjhaDAmuWUO24jOFB44z3HWuV0j4seJbG+jkvrpb623fvInjVSR3wVAIP6Vz3i52k8Z62zHJ+3zj8A5ArGr0KODoKkouKehDk7n1pBLa6vpccyqs1pdwhgHXIdGGeR9DXzl498Nr4Y8Uz2kAP2SVRNb57Ic8fgQR+Ar3PwA5fwHoxY5P2cD8iRXBfHG3UPotyB8xE0bH2G0j+Zry8vm6WKdJbO6+40nrG5a+B/wDyD9Y/66x/yavTdQ0201SBIL2FZolkWTY3QspyMjvz2rzL4H/8g/WP+usf8mrufGmqzaL4O1O/tztnjixG391mIUH8M5rHGqUsY1HdtfoOPwmf4j+I2geGp2tZpZLm7XhoLZQxT/eJIA+nX2rxHxr4lTxX4hbUorZrePyljVGbJwM8n8655mZ3LuxZmOSSckmkr28LgaeHfMtWZSk2fT3gb/kRtF/69U/lXmXjvw5qHib4oPY6fFk+REZJG+5EuOrH/Oa9N8Df8iNov/Xqn8q3VhiSSSRI1WSTG9gOWwMDJrwYYh0K85xWuv5mtroxfC3hTT/CmmC1s03StgzXDD5pW9/Qeg7frXHfEL4lppQl0jRJQ99ys1wvIg9h6t/L69Og+I9xrdr4RuJtEbay/wDHwy58xYsclfT3PYZr5vJycmuzAYVYiTr1Xfy/zJlK2iHZeaXLMWd25JOSSa+rbGxi0PQobOzh3JawbUReC5A/mT/OvlAEg5HUV9PeD/FFp4p0SG6hkX7UihbmHPzI+OePQ9Qa2ziMuWLWy3FTPFLz4oeL5rt3Go/ZhuOIY4EwntyCfzroPDnxkvoJ0h1+FLmAnBuIUCyL7lRwR9MfjXqOq+EPD+tu0moaVbyyt1kC7HP1ZcH9a4fX/gzp88Dy6HcyW1wBlYZ23xt7Z6j681lHE4KrHknDl/rutR2kjzHxprEOveL9Q1G2cvbyuBExBGVVQoOD06ZrBqe8s7jT72azu4miuIWKSI3UEVBXt04qMFGOyM2FFFFWIKKKKACiiigAooooAKKKKACiiigAooooAKKKKACiiigAooooAKKKKACiiigAooooAKKKKACiiigAooooAKKKKACiiigArW8M/wDIw2v/AAP/ANANZNa3hn/kYbX/AIH/AOgGsMV/An6P8hx3PR06/hWja9R/u1nJ1/CtG16j/dr446DorD+H/c/wretug/3awbD+H/c/wretug/3aALq9B9KfTF6D6U+gD5w+KP/ACUbVf8Atj/6JSuQrr/ij/yUbVf+2P8A6JSuQr7HC/wIei/I55bhRRRW4gooooAKKKKACiiigAooooAKKKKACiiigAooooAKKKKACiiigAooooAKKKKACiiigAooooAKKKKACiiigArW8MawdA8S2Gp87YJQZAOpQ8N+hNZNFTKKlFxezA+u4pY54UlicPG6hlZTkMDyCK8P+LHg+ew1eTXrSIvZXRBn2j/VSdyfZuufXPtU3w6+JUek28eja27fZF4t7nr5Q/ut/s+h7fTp7NFLa6haB4niubaVeGUh0cH9CK+aSq4Ctdq6/NG2kkfJFFfRWo/CvwrqErSrZyWjtyfs0m0f98nIH4CqcHwd8LxNlzfTD0knAH/jqivUWbULXdyPZs7LRv8AkBaf/wBe0f8A6CK8c+Nn/Iy6f/15/wDs7V7bBDHbW8cEQ2xxqEUZzgAYFeFfGS+tbzxRapbXEcxhtQknlsG2tuY4OO/tXmZZrirrzLn8Ju/BC+TydW08nDhkmUeo5U/l8v5113xMtbi48C3z2rOssBWb5CQdoPzfoSfwrwfwv4huPDGvQanbjeE+WWPOBIh6r/X6gV9IaLr+leJ9O8+wnSeNlxJE2NyZ6qy9v5GtsfSlRxCrpXWgou6sfMH9oXv/AD+XH/f1v8aP7Qvf+fy4/wC/rf417JrHwW0+7u3m0zUpLJHOfJeLzFX2ByCB9c0ul/BXTLeVZNS1Ke8UHPlxp5Sn2JyT+RFd39pYXlvf5WJ5JHjMpvLi3+0SmeWFW2eY2WUMRnGemcDpXY/CT/kfrf8A64S/+g12vxPn0HS/BX9g2b20M4kRorSHGVweSQOnGeT1riPhNIieP7UMwBaKVVz3O0n+lN1/b4Sc+W2jC1pH0PXyNc/8fc3++386+t5JEijaSRgqICzMTwAOpr5HnYPcSOvRmJH51x5NvP5fqVUO9+Dn/I7t/wBekn81r3qb/USf7p/lXgfwedV8c4ZgC1rIFB7nKn+QNe9XLrHaTSOwVFRixPQACufNf94+SHDY+TLO4NpewXIGTFIsgH0Oa+tIJo7m3jniYNHIodGHcEZBr5Fr2P4ZfEK1Swh0HWJ1heL5bWeQ4Vl7IT2I7dscfXvzXDyqQU4q9iYOxyPxJF/pvjrUE+0TpFMVmiw5AKsBnH4gj8K5P+0L3/n8uP8Av63+NfSXivwbpni+0jW73RzxZ8m4ixuUHt7j2rg1+Bo835vEGY89rTn/ANDpYbMKCpJVNGvIHB30PKlvr+Rgi3VyzMcBRIxJPpUEsckMzxTI6SoxV0cYZSOoIPevozQ/BHhrwZEb9ipmjGWvLxx8n06Bf5+9eG+M7201Hxjql3YSCS2lm3I4GA3AyfzzXThsZGvUcYR0XUlxstT3n4df8iBo/wD1yP8A6E1cV8cv9XoX1n/9p12nw4dX+H+kFWBAjYHHqHauJ+OTrjQ03DcPPJHfH7uvJw3+/wDzl+po/gPIK9H+Dek2194lub24RXayhDRKezscbvwAP515xXXfDnxNF4Z8UJLdNts7lPImb+4CQQ34EfkTXt4uMpUJKG9jKO5774h1N9G8O6hqMaB5LeBnRT0LAcZ9s18xaprGo61dNc6jeS3ErHOXbIHsB0A9hX1TNFbajYPFIEntbiMqwByrow9R2INeXP8ABC2a+Z01qVbQtkRmAFwPTdux+OPwrxctxFCipe00ZrNN7E3wRRhoeqOQdpuVAPuF5/mK6T4n/wDJOtW+kX/o1K0fDMGhaXbS6Jos0b/YiDOqvuYM2eWPqcH6Y7VmfFF1T4d6oGYAt5SqD3Pmqf6GsXU9pjVO1rtfoO1onzjX1boBz4c0s/8ATpF/6AK+Uq+mPAGrQ6v4K0143BkghW3lXPKsgC8/UAH8a9HOIt04y8yKe55Z8aM/8Jpb5H/LimP++3rzqvo7xn8P7Pxhc21zJdyWs8KmMsiBgyZzgjjoSfzrmvEngbwp4X8EX6vIv2948w3Fw4MruDkKgHTPTgdDzTwmPpRpQp6t7BKLvc828D/8jxov/X2n86+nq+X/AAS6p430VmYAfa4xk/WvqCuXOP4kfQdPY+W/F/8AyOet/wDX/N/6Ga6L4Sav/ZvjNLV2xFfRmE56bh8yn9CP+BVzfix1l8Ya06MGVr6YgjoRvNZ1ldy2F9b3kBxLBIsqH0KnI/lXsSpe0w/I+qM72dz6g8U6QNd8Mahp2AXmhPl5/vjlf/HgKy/hzox0XwTYxOm2e4BuJQRg5bkZ9wu0fhXQ6bfwappttf2zBobiNZFIPYjp9e1TTzRW0Ek8zrHFGpd3Y4CgDJJr5b2k1TdHzub21ueJfGjV/tXiC00tGylnFvcf7b8/+ghfzrjPCF8mm+MNJupDtjS5QOx7KTgn8jVbXtUfWtfvtSfP+kTM6g9lz8o/AYFZ1fU0aChQVJ9vz3MG9bn19XzB4nOoaX4o1Oye6uF8q5faPMIypOVPXuCDXrnw9+IdprNhBpmp3Cw6pEoRWkOBcAdCD/e9R36j21fF/wAPtM8WutxJI9rfIu0TxgHcOwYd8fga8TCz+pVnCstH/VzWS5lofPH9oXv/AD+XH/f1v8adHPqN5ItvFLdTvJwI1ZmLe2O9erQfA5BKDPrzNH3EdrtJ/EscflXZ6X4d8L+AbJ7oGK3OMPd3Tgu3sD/RRzXoVMyoJfu1zP0IUH1PmvpRVrU5YZ9WvJbc5ged2jOMfKWJHH0qrXpp3VyAooopgWtNsZdT1O1sIB+9uJViX2JOM19W2VpFYWNvZwLthgjWJB6BRgfyrwz4O6Sl94skvpMFbGEuoP8Afb5R+m79K9o1/WIdB0K81OcqBBGWUE/eb+FfxOBXz+a1HUqxpR6fmzWCsrnN6l8VPDml6nc2E32t5beQxuY4gV3Drg59aqf8Lj8L/wBy/wD+/I/+KrwWaV55pJpWLSSMWZj3JOSaZXaspoW1uTzs99/4XH4X/uX/AP35H/xVd9DNHcQRzRMGjkUOjDuCMg18iV9DfCrXV1bwdDau4NzYHyHGedn8B+mOP+AmuHH4CFGmp0/mVGV3Znn/AMY9G+w+J4dSjXEV/Flj/wBNEwD+m39aj+Dd0sHjWSFjg3Fo6KPUgq38lNei/FbSV1LwRcT8ebZOs6E+nRh+RJ/AV4No2qT6JrNpqVt/rbeQOAejDuD7EZH412YVvE4J0+q0/wAiZaSufVF9AbnT7m3XrLEyD8QRXyUysjlWBDKcEHsa+qdB1/T/ABHpkd9p8wdGA3pn5o2/usOxrjPEvwisNa1KW/sb5rCWZi8sZi8xCx6kDIIz+NcOX4mOGlKFXS5c1fY81+GX/JRNJ/3pP/Rb19I1wXhbwHongq/gurrUFuNSmJit3lxGMkchFycnHua72scxrwr1VKG1hwVkfKniL/kZ9W/6/Jv/AEM1o+AtX/sTxpp1yzbYnk8mX02v8uT9CQfwrM1+RJfEepyRsGR7uVlI6EFzWd0r6TkU6XI+qMb6n1ve2kV/YXFnOMxTxtE49mGD/OuL+FvhuXw/od410m26nunVuMfLGSg/UMfxroPCOsrr/hawv94aR4gs2D0kXhv1Gfxrb6V8m5zpxlRffX5G++p5L8bNX2WunaMjcyMbmUew+Vf1LflXkNncG0vYLkDJikWQD6HNb/j7Wl13xlf3UTh7dG8mEg5BVeMj2Jyfxrmq+mwdH2dCMX8/mYyd2fXUE0dzbxzxMGjkUOjDuCMg189fEkX+m+OtQT7ROkUxWaLDkAqwGcfiCPwrrvhl8QrVLCHQdYnWF4vltZ5DhWXshPYjt2xx9e48V+DdM8X2ka3e6OeLPk3EWNyg9vce1eNRf1HENVVo/wCrmj95aHzb/aF7/wA/lx/39b/GlW+v5GCLdXLMxwFEjEk+leqr8DR5vzeIMx57WnP/AKHXYaH4I8NeDIjfsVM0Yy15eOPk+nQL/P3r0amZYeK9z3n6EKDPnOWOSGZ4pkdJUYq6OMMpHUEHvX1XoX/IvaZ/16Rf+gCvm7xne2mo+MdUu7CQSW0s25HAwG4GT+ea+j/D7rJ4b0t0YMrWkRBHf5BXNmsnKlTk1YcN2eOfGv8A5G6y/wCvBf8A0Y9ebV6R8aXVvGFooYErYoCB2+d683r0cD/u8PQmW5e0/RtR1aK6ksLSS4W1j82bZ1Vc9cd/wrX0Tx94k0GFbe01Bmt1+7DOokUD0GeQPYEV2vwVvtNtW1KCa6ijvrhoxHG5wXVQ33c9Tk9K6/xD8LvD+vTtcokljcucs9tgKx9SpGPyxXNXxtONV0q8fd6aDUXa6OR0P403DXUUOtafD5TsFae2JUp7lSTn8xXqWv2EOqaBf2VwoMcsDKc9jjIP4HB/CuF0z4MaTZ30dxd6hcXaRsGEWwIrY7HqSPyroPH3ie18O+G7pWmX7bcxNFbxA/MSRjdj0Gc/hivMrqjUrRWFWpaul7x5n8G9Jtr7xLc3twiu1lCGiU9nY43fgAfzr2TxDqb6N4d1DUY0DyW8DOinoWA4z7ZrwL4c+JovDPihJbpttncp5Ezf3ASCG/Aj8ia+iZorbUbB4pAk9rcRlWAOVdGHqOxBrTM4uOIUp6x0/wCCENj5W1TWNR1q6a51G8luJWOcu2QPYDoB7CvXvgijDQ9Ucg7TcqAfcLz/ADFQv8ELZr5nTWpVtC2RGYAXA9N27H44/Cu78MwaFpdtLomizRv9iIM6q+5gzZ5Y+pwfpjtW+NxlGpQ9nS/LYUYtO7M74n/8k61b6Rf+jUr53sP+Qhbf9dV/mK+hvii6p8O9UDMAW8pVB7nzVP8AQ188WbKl9buxwqyKST2Ga2yn/d5er/JCnufW9fOXxT/5KLqf0h/9FJX0aCCMjkV84/FF1f4iaoVYEDygceoiXNcWUfx36fqiqmxx9en/AAS/5GHUv+vQf+hivMK9O+CbqPEmoKWAY2mQPXDrXr4//dpmcdz1rxR/yKOtf9eE/wD6LavBvhnpNtq/je1ju0V4YVaco3RivQH8SD+Fe7+LHWPwfrTOwUfYZhk+pQgV86eEtePhvxNZ6mVLRRsVlUdSjDDfjg5HuBXm5dGUsPUUN/8AgFz3R9P3Ewt7aWYgsI0LkDqcDNfLmveJdU8R3slxqF1I6sxKQhj5cY7BV6f1r6gs7y21Gyiu7SZJreZdyOpyGFeZ6n8FbO61OSey1VrS1kYt5Bg37PZTuHHpx+dYZdXo0JS9roxzTexk/BBGOq6s4B2iBAT7ljj+Rr1PxT/yKGtf9eE//otqzvC2l+H/AAu76Dptykl+U8+cM4aRgMDLY6DkYHv9TV/xY6x+DtaZ2Cj7DMMn1KED9ayxFVVcVzpaOw0rRPlmvq7Qv+Re0z/r0i/9AFfKNfVvh91fw3pbqQVNpEQR3+QV6Gc/DD5kUzxv41/8jdZf9eC/+jHrzavSPjUyt4vtFBBK2KZHp8715vXfgf8Ad4ehMtwooorrJCvRvgt/yOd1/wBeD/8AoyOvOa9E+DEip40nVmAL2LqoPc70P8ga5cd/u8/QqO56z46/5EbWf+vV6+Yq+m/HsiR+BNZZ2Cg2xUE+p4A/M18yVxZP/Cl6lVNzY8L67L4b8Q2mpxZKxtiVB/HGeGH5frivp5GttT08Muye0uYsjurow/kQa+Sa9s+D/ilbrTn8P3Uo8+3y9tuPLxnkqPcH9D7UZrh+aKrR3W/oEH0Om8BeH5PDNlq2nNkxLqLvA5/ijMce0/0PuDXNfG7/AJAWmf8AXy3/AKCa9Rryz43SKNG0qMsN5uGYDuQF5/mK83CTdTFxk93/AJFyVonDfC2+Sy8fWIkO1Z1eHJ9SvH6gD8a+h7qH7TaTQbtvmRsmR2yMV8lQTSW08c8LlJY2Do69VYHIIr6L8FePLDxTZRxSyxwaoq4lt2ON5/vJ6j26j9T25th5cyrR+ZMH0Pn24udStbmW3mublJYnKOplbhgcEdaj/tC9/wCfy4/7+t/jXvfiz4YaZ4mvWv4rh7G9f/WOiB0c+pXI59wa5+0+B8Cyg3muSSR91htwhP4lj/KumGZYZwvLR9rEuDPJll1C9DxrJczhVLsoLNhRySR6D1qpX0hNp/hbwL4cuoh5Fok0TIzSNulnODx6t9Bx9K+b66MJiVX5nGNkvxFJWPpb4cnPw/0j/rk3/obVw3xyz5uh8cbZ+f8Av3XR/CPVob7wZHYhx9osZGR0zztZiyn6ckfhWz4y8G2vjGxt4Z7h7eW3ctHKihsZ6gj0OB+VeHGaoY5ynsm/xuaWvHQ+ZqK92Pw48JeGtBvJdTnEjvCyfarpgNhI42KO/p1NeE172HxUK93DZGTjY+m/Aeqf2v4K0u5LZkWIQyeu5Pl5+uM/jUMPhgR/Em58Q7R5b2SoD/01ztJ/75UfnXH/AAT1ZWs9R0h3G9HFxEpPJBG1sfTC/nXq0sscELzSuqRopZmY4CgckmvnMSpUK84R6/k9TZapHhnxV1yRfiBbeQ3OlpGV56SZ35/Vfyr2+3mhv7GKdMPBcRB1z3Vhn+Rr5Y1zUW1fXb/UWz/pE7yAHsCeB+AwK96+Furrqnge0jLhprMm3cZ5AHK/+OkD8K7sww/Jh6bX2dPv/wCCTB3bI/ht4Zbw7bav5ikPJfPGhP8AFFGSFP5lq57426psstM0lG5kdriQeyjav82/KvWa+cPibqy6t44vDG4eG2C2yEHI+X73/jxassDzYjF+0l01/QctI2M3wXeJY+NNIuJCAguUViewY7c/rX1DXyCCQcg4Ir6F8A+PrTxFp8NlezpFq0ahGRzjz8fxL6k9x/SunNqEpWqxW25NN9DxrxzaPZ+ONZikGC108o+jneP0aufr6S8WfD/SfFki3E7SW16q7RPFj5h2DA9f0PvWHo/wb0ewvEuL68mvwh3LEyBEJ/2hySPbNaUc0oqkubdIHB3Oq8E2r2fgrR4ZRhxbKxB7bvmx+tedfHC7RrjRrMH50WWVh7EqB/6C1eo61rum+HdPa71G5SGNR8q/xOfRR3NfNninxBP4n1+41OZdiudsUec7EHQf1PuTXJltKVWu67Wmv3sc3ZWPTvgf/wAg/WP+usf8mrqfid/yTrVvpF/6NSuU+B7r9i1lNw3CSI49sNXVfFB1X4d6oGYAt5QGe581Kiv/AMjBeq/Qa+A+cKKKK+kMT6e8Df8AIjaL/wBeqfyrkfHfxJvPDniWDTLK3QpAUkuWfrKpGdi+nB6+v69Z4DdX8C6MVII+zKOPUcH9a8Y+K7q/xAvQrA7Y4lOOx2CvnMJRhVxc4zV1r+ZtJ2joe+aVqdnrmlQX9m4ltp0yM9vUEeo6EV4T8SvBJ8Nan9usoz/Zd0x2ADiF+pT6dx+Xak+G3jU+GtU+xXsh/su6YbyekL9A/wBOx9ue1e76nptnrmlTWN2gltrhMHB/Ig+o4INHv5fiO8X+X+aD40fJ1bEkGveEdQgmIuNPuXjEkTq2NyHnqOCPUfnT9c0BvDniiTSr6TMUci5lUfejOCGx9O3rX0TcWeg+MNGVHW2v7JvuOjZ2H2I5U16eKxqpKLteMiIxueN2Pxh8TWu0XIs7xR1MkW1j+KkD9K9W8E+NLfxlYTypbNbXFsyrNEW3DnOCD6HB/KuWufglpbzFrbVbuGMn7jorkfjxXYeFvCem+DdOmitZHYyEPPPMRlsDj2AHP515mLqYOdP90ve+4uKlfU8w+NVhDBr9hexqFkuYCsmO5QgAn8Dj8K8xrtvif4kt/EPicCykElpZx+Skg6O2csw9ug/DNcTXs4KMo4eKlvYzluFFFFdRIUUUUAFFFFABRRRQAUUUUAFFFFABRRRQAUUUUAFFFFABRRRQAUUUUAFFFFABRRRQAUUUUAFFFFABRRRQAUUUUAFFFFABWt4Z/wCRhtf+B/8AoBrJrW8M/wDIw2v/AAP/ANANYYr+BP0f5Djuejp1/CtG16j/AHazk6/hWja9R/u18cdB0Vh/D/uf4VvW3Qf7tYNh/D/uf4VvW3Qf7tAF1eg+lPpi9B9KfQB84fFH/ko2q/8AbH/0SlchXX/FH/ko2q/9sf8A0SlchX2OF/gQ9F+Rzy3CiiitxBRRRQAUUUUAFFFFABRRRQAUUUUAFFFFABRRRQAUUUUAFFFFABRRRQAUUUUAFFFFABRRRQAUUUUAFFFFABRRRQAVoaXruq6LIX03ULi2JOSI3IVvqOh/Gs+ilKKkrNAdxb/FrxZCuHuref3kt1z/AOO4qSX4veKpFIWW0iPqkA4/MmuDorn+p0L35F9w+Zm5qfjLxFrCsl9q9y8bcNGjeWh+qrgGsOiit4wjBWirCCpba6uLOdZ7WeWCVekkTlWH4ioqKpq+4HTwfETxbboFTW7ggf8APRVc/mwNV73xv4nv0KXGt3ZQ8FY38sH67cVgUVkqFJO6ivuQ7sUksSSSSeST3pY5JIZVlidkkQ5VlOCD6g02itRGnceItcu7dre51nUZoWGGjkunZSPcE4rMoopKKjsgJIJ5raZJreV4pUOVeNirKfYjpV+48R65dwNBc6zqM0LjDRy3TspHuCcVmUUnGLd2gCiiiqA19N8U67pCCOw1a7hjHSMSEoP+AnitN/iR4udNp1qUD/ZjQH8wtcrRWUqFKTu4p/Id2XNQ1bUdVkEmoX1zdMOhmlLY+melU6KK0SSVkIv2Wt6tpsRisdUvbWMnJSC4dAT64Bqvd313qE/n3t1PczYx5k0hdsfU1BRS5Yp3tqAUUUVQG1pXi3X9Eh8nTtVuIYR0jyGQfRWyBT9Q8aeJNUiMV3rN08bDDIr7FYe4XGawqKz9jT5ublV/Qd2WbPUL3TpjNY3dxaykYLwSFDj0yDUl7rGqamipf6leXaqcqJ52kAPtk1SoquWN721EFaGk67qmhTtNpl9Nau3DbDw31B4P41n0U5RUlZrQDpbj4g+LLpCsmuXIB/55bYz+agVz89xPdTGa4mkmlbq8jFmP4moqKmFOEPhSQ7gCQcg4IrVPifXzF5R1zUzHjGz7XJjHpjNZVFNxjLdCCiiiqAv2euavp0Pk2Oq31rFnOyC4dBn6A0671/Wb+AwXmr39xCesc1y7qfwJrOoqeSN721C4UUUVQBW5YeMvEemRiO01m7SNeiM+9R9A2QKw6KmUIzVpK4HUS/EbxdMhVtbnAP8AcRFP5gCufvL+81Gbzr27nuZf780hc/mar0VMKVOHwxS+Q7sKKKK0EFFFFAFizv7zTpvOsbue2lxjfBIUbHpkVLe6xqmpIqX+pXl0qnIE87OAfxNUqKnlje9tQCiiiqAKsWd/eadMZrG7ntZSMb4JCjY9Mg1XopNJqzA0bvX9Zv4DBeatf3MJ5Mc1y7qfwJxWdRRQoqOiQFmx1G90y4E9hdzW0v8Afhcqf0rf/wCFjeLvK8v+25tvTOxM/njNcvRUSpU5u8op/Id2WbvUb2+uvtV3dzz3GciWSQsw/E1cfxNr8sJhk1zUniYYKNdyEEemM1lUVXJF9BBRRRVAXLHV9S0wMLDUbu0DcsIJmjz9cGrE3iXXrmFoZ9b1KWJxhkkunZSPcE1l0VLhFu7QXCiiiqAK19N8U67pCCOw1a7hjHSMSEoP+AnisiiplGMlaSuB1T/Ejxc6bTrUoH+zGgP5hawdQ1bUdVkEmoX1zdMOhmlLY+melU6KmNGnB3jFL5DuwrStfEOtWMCwWmsahbwr92OK5dFH4A4rNoq3FS0aESXFxPdzvPczSTTOctJIxZm+pNR0UU9gCtyw8ZeJNNQR2us3ixgYCNJvUfQNkCsOiplCM1aSuB083xE8WzoUfW5wD/cVUP5gA1ztxcz3c7T3M8k0zfekkcsx+pNRUUoUoQ+FJDuwra0rxbr+iQ+Tp2q3EMI6R5DIPorZArFopyhGatJXEbuoeNPEmqRGK71m6eNhhkV9isPcLjNZdnqF7p0xmsbu4tZSMF4JChx6ZBqtRSVOEVZJWHcu3usapqaKl/qV5dqpyonnaQA+2TVKiiqSSVkI1IvEuvQQrDFrepRxKNqol3IFA9AM1mu7yyNJIzO7HLMxySfUmm0UlGK2QBUttdXFnOs9rPLBMv3ZInKsPoRUVFU1cDQu9e1jUIDBe6tfXMJOTHNcu6/kTWfRRSUVHRIDU0nxJrOhbhpmoz2ysclFbKk+u08Z/Cr15488U30Zjn1u62nqIyI8/wDfIFc7RUOjTb5nFX9B3ZNb3lzaXIuba5mhnBJEsblWGfcc1avNe1jUIDBe6tfXMROfLmuHdfyJrPoqnGLd2hBWja+INZsYBBZ6vf28I6Rw3Loo/AGs6im4qWjQEtxcz3c7T3M8k0zfeklcsx+pNRUUU0rAFFFFABUkE81rOk1vLJFKhyrxsVZT7EdKjooAv3ut6tqMQivtUvbqMHISe4dwD9CaoUUUlFJWQBT4pZIZVlikaORTlXQ4IPsaZRTA1x4r8RgYGv6qB/1+Sf41RvNQvdRlEt9eXF1IBgPPKXIH1JqtRUqEU7pBcKVWKsGUkEHII7UlFUB0Nn468UWCBINbu9o6CRvMx/31mpbj4heLLlCr63cAH/nmFQ/moFczRWXsKTd+Vfch3ZLcXM93M01zPJNK3V5HLMfxNRUUVqlYRb07U77SLsXWn3UttOBjfG2CR6H1HtW7N8RfFs6bH1ucD/YVUP5gA1y9FZypU5u8opv0Hdli7vrvUJvOvLqa5l/vzSFz+ZqvRRVpJaIRLb3M9pOs9tNJDMnKyRsVYfQirl14g1q+gMF3q9/cQt1jluXdT+BNZ1FJxi3doAq1Zalf6a7PYXtzauwwzQSshP1waq0U2k1Zgaz+KfEMiFJNd1N0YYKtdyEH9ayaKKUYxjsgCgEggg4IooqgN+y8b+J9PjCW+tXYQcBZH8wD6bs1Zm+Ivi2dCr63OAf7iIh/MAVy9FZOhSbu4r7kO7J7u9ur+cz3lzNcTHq8rl2P4moKKK1StohFmy1C906Uy2N5cWshGC8ErISPTINSX2s6pqaKl/qV5dqpyqzztIAfbJqlRU8sb3tqAUUUVQF+z1zV9Pg8my1S9toic7Ibh0X8gapSSSTStJK7PIxyzMckn1JptFJRSd0gCtO38R65aQLBbazqMMKDCxxXTqoHsAazKKHFS3QEtzdXF7cNcXU8s8z/AHpJXLM31J5qSy1G+02bzrG8ntZP70MhQn8qrUUcqtboB1MfxG8XRJtXW5iOnzIjH8yKzdT8Ua7rKGPUNVup4z1jL4Q/8BHFZFFZxo0ou6ir+g7sKKKK1EFFFFABRRRQAUUUUAFFFFABRRRQAUUUUAFFFFABRRRQAUUUUAFFFFABRRRQAUUUUAFFFFABRRRQAUUUUAFFFFABRRRQAUUUUAFa3hn/AJGG1/4H/wCgGsmtbwz/AMjDa/8AA/8A0A1hiv4E/R/kOO56OnX8K0bXqP8AdrOTr+FaNr1H+7Xxx0HRWH8P+5/hW9bdB/u1g2H8P+5/hW9bdB/u0AXV6D6U+mL0H0p9AHzh8Uf+Sjar/wBsf/RKVyFdf8Uf+Sjar/2x/wDRKVyFfY4X+BD0X5HPLcKKKK3EFFFFABRRRQAUUUUAFFFFABRRRQAUUUUAFFFFABRRRQAUUUUAFFFFABRRRQAUUUUAFFFFABRRRQAUUUUAFFFFABRRRQAUUUUAFFFFABRRRQAUUUUAFFFFABRRRQAUUUUAFFFFABRRRQAUUUUAFFFFABRRRQAUUUUAFFFFABRRRQAUUUUAFFFFABRRRQAUUUUAFFFFABRRRQAUUUUAFFFFABRRRQAUUUUAFFFFABRRRQAUUUUAFFFFABRRRQAUUUUAFFFFABRRRQAUUUUAFFFFABRRRQAUUUUAFFFFABRRRQAUUUUAFFFFABRRRQAUUUUAFFFFABRRRQAUUUUAFFFFABRRRQAUUUUAFFFFABRRRQAUUUUAFFFFABRRRQAUUUUAFFFFABRRRQAUUUUAFFFFABRRRQAUUUUAFFFFABRRRQAUUUUAFFFFABRRRQAUUUUAFFFFABRRRQAUUUUAFFFFABRRRQAUUUUAFFFFABRRRQAUUUUAFFFFABRRRQAUUUUAFFFFABRRRQAUUUUAFFFFABRRRQAUUUUAFFFFABRRRQAUUUUAFFFFABRRRQAVreGf+Rhtf+B/+gGsmtbwz/yMNr/wP/0A1hiv4E/R/kOO56OnX8K0bXqP92s5Ov4Vo2vUf7tfHHQdFYfw/wC5/hW9bdB/u1g2H8P+5/hW9bdB/u0AXV6D6U+mL0H0p9AHzh8Uf+Sjar/2x/8ARKVyFdz8W7fyfH1zJtx50MUmfX5duf8Ax39K4avsMI70Iei/I55bhRRRXQIKKKKACiiigAooooAKKKKACiiigAooooAKKKKACiiigAooooAKKKKACiiigAooooAKKKKACiiigAooooAKKKKACiiigAooooAKKKKACiiigAooooAKKKKACiiigAooooAKKKKACiiigAooooAKKKKACiiigAooooAKKKKACiiigAooooAKKKKACiiigAooooAKKKKACiiigAooooAKKKKACiiigAooooAKKKKACiiigAooooAKKKKACiiigAooooAKKKKACiiigAooooAKKKKACiiigAooooAKKKKACiiigAooooAKKKKACiiigAooooAKKKKACiiigAooooAKKKKACiiigAooooAKKKKACiiigAooooAKKKKACiiigAooooAKKKKACiiigAooooAKKKKACiiigAooooAKKKKACiiigAooooAKKKKACiiigAooooAKKKKACiiigAooooAKKKKACiiigAooooAKKKKACiiigAooooAKKKKACiiigAooooAKKKKACiiigAooooAKKKKACiiigAooooAKKKKACiiigAooooAKKKKACiiigArW8M/8jDa/8D/9ANZNbfhSPfrsbYzsRm+nGP61z4t2oT9H+Q47noSdfwrRteo/3azk6/hWja9R/u18edB0Vh/D/uf4VvW3Qf7tYNh/D/uf4VvW3Qf7tAF1eg+lPpi9B9KfQB478bdJIm0zWEX5SptZG9CMsv8AN/yryOvqbxRoUXiTw9d6ZIQrSrmNz/A45U/n19s18wXlpPYXk1pdRNFPC5R0bqCK+kyqup0fZveP5GM1rcgooor1CAooooAKKKKACiiigAooooAKKKKACiiigAooooAKKKKACiiigAooooAKKKKACiiigAooooAKKKKACiiigAooooAKKKKACiiigAooooAKKKKACiiigAooooAKKKKACiiigAooooAKKKKACiiigAooooAKKKKACiiigAooooAKKKKACiiigAooooAKKKKACiiigAooooAKKKKACiiigAooooAKKKKACiiigAooooAKKKKACiiigAooooAKKKKACiiigAooooAKKKKACiiigAooooAKKKKACiiigAooooAKKKKACiiigAooooAKKKKACiiigAooooAKKKKACiiigAooooAKKKKACiiigAooooAKKKKACiiigAooooAKKKKACiiigAooooAKKKKACiiigAooooAKKKKACiiigAooooAKKKKACiiigAooooAKKKKACiiigAooooAKKKKACiiigAooooAKKKKACiiigAooooAKKKKACiiigAooooAKKKKACiiigAooooAKKKKACiiigAooooAKKKKACiiigAooooAKKKKACiiigAooooAKKKKACur8GWpL3N2RwAI1P6n+lcvDE88yRRKWdzhQO5r0rTLFdOsIrZTkqPmPqT1NeXmtdQo+zW8vyLgtbmgnX8K0bXqP92s5Ov4VpWg5H+7XzZsdDYfw/wC5/hW9bdB/u1hWA+7/ALn+Fb1v0X/doAuL0H0p9MXoPpT6ACvO/iN4AHiKM6ppqquqRphk6CdR2/3h2P4Htj0SmMOD9K1o1p0ZqcNxNXPkeaGW3meGaN45UJV0dSGUjsQelMr6M8WeCdJ8SqZLiIw3gX5bmLhvoezD6/gRXkmsfDfXNNkY26JewjkNEdrY91P9M19Hh8xo1V7z5X5/5mTg0cdRVqbTb+2bbPZXER9HiYfzFVa71JPZkBRRRTAKKKKACiiigAooooAKKKKACiiigAooooAKKKKACiiigAooooAKKKKACiiigAooooAKKKKACiiigAooooAKKKKACiiigAooooAKKKKACiiigAooooAKKKKACiiigAooooAKKKKACiiigAooooAKKKKACiiigAooooAKKKKACiiigAooooAKKKKACiiigAooooAKKKKACiiigAooooAKKKKACiiigAooooAKKKKACiiigAooooAKKKKACiiigAooooAKKKKACiiigAooooAKKKKACiiigAooooAKKKKACiiigAooooAKKKKACiiigAooooAKKKKACiiigAooooAKKKKACiiigAooooAKKKKACiiigAooooAKKKKACiiigAooooAKKKKACiiigAooooAKKKKACiiigAooooAKKKKACiiigAooooAKKKKACiiigAooooAKKKKACiiigAooooAKKKKACiiigAooooAKKKKACiiigAooooAKKKKACiiigAooooAKKKKACiiigAooooAKKKKACiiigAooooAKKKKACiip47K6lOI7aZz/ALKE0nJLcCClRGkcIilmY4CgZJNbdn4V1C4IMyrbp6ucn8h/XFdVpmh2mljdGpebHMr9fw9K4MRmNGkvdfM/L/MtQbKXh7Qf7PX7TcgG5YcD/nmP8a6AUmKeq/WvnK1adabnPc1SsPjHP4VqWi8jg/dqjDHk9D0rYsoeRw33KyGbFiv3eD9z/Ct23HA/3ay7OLAXg/crXhXAHXpQBYXoPpTqatOoAKaRTqKAK0qZB69KyruDOeG+7W065B+lVJosg8HpQByd3bcnh/u+lZE8BB6N09K6+5tc54f7tZFxacn5X+76UAc28RHY9KjKH0Na8loQfuv09Kga1P8Adf8AKgDO2n0NG0+hq8bY/wB1/wAqT7Mf7r/lQBS2n0NG0+hq79mP91/yo+zH+6/5UAUtp9DRtPoau/Zj/df8qPsx/uv+VAFLafQ0bT6Grv2Y/wB1/wAqPsx/uv8AlQBS2n0NG0+hq79mP91/yo+zH+6/5UAUtp9DRtPoau/Zj/df8qPsx/uv+VAFLafQ0bT6Grv2Y/3X/Kj7Mf7r/lQBS2n0NG0+hq79mP8Adf8AKj7Mf7r/AJUAUtp9DRtPoau/Zj/df8qPsx/uv+VAFLafQ0bT6Grv2Y/3X/Kj7Mf7r/lQBS2n0NG0+hq79mP91/yo+zH+6/5UAUtp9DRtPoau/Zj/AHX/ACo+zH+6/wCVAFLafQ0bT6Grv2Y/3X/Kj7Mf7r/lQBS2n0NG0+hq79mP91/yo+zH+6/5UAUtp9DRtPoau/Zj/df8qPsx/uv+VAFLafQ0bT6Grv2Y/wB1/wAqPsx/uv8AlQBS2n0NG0+hq79mP91/yo+zH+6/5UAUtp9DRtPoau/Zj/df8qPsx/uv+VAFLafQ0bT6Grv2Y/3X/Kj7Mf7r/lQBS2n0NG0+hq79mP8Adf8AKj7Mf7r/AJUAUtp9DRtPoau/Zj/df8qPsx/uv+VAFLafQ0bT6Grv2Y/3X/Kj7Mf7r/lQBS2n0NG0+hq79mP91/yo+zH+6/5UAUtp9DRtPoau/Zj/AHX/ACo+zH+6/wCVAFLafQ0bT6Grv2Y/3X/Kj7Mf7r/lQBS2n0NG0+hq79mP91/yo+zH+6/5UAUtp9DRtPoau/Zj/df8qPsx/uv+VAFLafQ0bT6Grv2Y/wB1/wAqPsx/uv8AlQBS2n0NG0+hq79mP91/yo+zH+6/5UAUtp9DRtPoau/Zj/df8qPsx/uv+VAFLafQ0bT6Grv2Y/3X/Kj7Mf7r/lQBS2n0NG0+hq79mP8Adf8AKj7Mf7r/AJUAUtp9DRtPoau/Zj/df8qPsx/uv+VAFLafQ0bT6Grv2Y/3X/Kj7Mf7r/lQBS2n0NG0+hq79mP91/yo+zH+6/5UAUtp9DRtPoau/Zj/AHX/ACo+zH+6/wCVAFLafQ0bT6Grv2Y/3X/Kj7Mf7r/lQBS2n0NG0+hq79mP91/yo+zH+6/5UAUtp9DRtPoau/Zj/df8qPsx/uv+VAFLafQ0bT6Grv2Y/wB1/wAqPsx/uv8AlQBS2n0NG0+hq79mP91/yo+zH+6/5UAUtp9DRtPoau/Zj/df8qPsx/uv+VAFLafQ0bT6Grv2Y/3X/Kj7Mf7r/lQBS2n0NG0+hq79mP8Adf8AKj7Mf7r/AJUAUtp9DRtPoau/Zj/df8qPsx/uv+VAFLafQ0bT6Grv2Y/3X/Kj7Mf7r/lQBS2n0NG0+hq79mP91/yo+zH+6/5UAUtp9DRtPoau/Zj/AHX/ACo+zH+6/wCVAFLafQ0bT6Grv2Y/3X/Kj7Mf7r/lQBS2n0NG0+hq79mP91/yo+zH+6/5UAUtp9DRtPoau/Zj/df8qPsx/uv+VAFLafQ0bT6Grv2Y/wB1/wAqPsx/uv8AlQBS2n0NG0+hq79mP91/yo+zH+6/5UAUtp9DRtPoau/Zj/df8qPsx/uv+VAFLafQ0bT6Grv2Y/3X/Kj7Mf7r/lQBS2n0NG0+hq79mP8Adf8AKj7Mf7r/AJUAUtp9DRtPoau/Zj/df8qPsx/uv+VAFLafQ0bT6Grv2Y/3X/Kj7Mf7r/lQBS2n0NG0+hq79mP91/yo+zH+6/5UAUtp9DRtPoau/Zj/AHX/ACo+zH+6/wCVAFLafQ0bT6Grv2Y/3X/Kj7Mf7r/lQBS2n0NG0+hq79mP91/yo+zH+6/5UAUtp9DRtPoau/Zj/df8qPsx/uv+VAFLafQ0bT6Grv2Y/wB1/wAqPsx/uv8AlQBS2n0NG0+hq79mP91/yo+zH+6/5UAUtp9DRtPoau/Zj/df8qPsx/uv+VAFLafQ0bT6Grv2Y/3X/Kj7Mf7r/lQBS2n0NG0+hq79mP8Adf8AKj7Mf7r/AJUAUtp9DRtPoau/Zj/df8qPsx/uv+VAFLafQ0bT6Grv2Y/3X/Kj7Mf7r/lQBS2n0NG0+hq79mP91/yo+zH+6/5UAUtp9DRtPoau/Zj/AHX/ACo+zH+6/wCVAFLafQ0bT6Grv2Y/3X/Kj7Mf7r/lQBS2n0NG0+hq79mP91/yo+zH+6/5UAUtp9DRtPoau/Zj/df8qPsx/uv+VAFLafQ0bT6Grv2Y/wB1/wAqPsx/uv8AlQBS2n0NG0+hq79mP91/yo+zH+6/5UAUtp9DRtPoau/Zj/df8qPsx/uv+VAFLafQ0bT6Grv2Y/3X/Kj7Mf7r/lQBS2n0NG0+hq79mP8Adf8AKj7Mf7r/AJUAUtp9DRtPoau/Zj/df8qPsx/uv+VAFLafQ0bT6Grv2Y/3X/Kj7Mf7r/lQBS2n0NG0+hq79mP91/yo+zH+6/5UAUtp9DRtPoau/Zj/AHX/ACo+zH+6/wCVAFLafQ0bT6Grv2Y/3X/Kj7Mf7r/lQBS2n0NG0+hq79mP91/yo+zH+6/5UAUtp9DRtPoau/Zj/df8qPsx/uv+VAFLafQ0bT6Grv2Y/wB1/wAqPsx/uv8AlQBS2n0NG0+hq79mP91/yo+zH+6/5UAUtp9DRtPoau/Zj/df8qPsx/uv+VAFLafQ0bT6Grv2Y/3X/Kj7Mf7r/lQBS2n0NG0+hq79mP8Adf8AKj7Mf7r/AJUAUtp9DRtPoau/Zj/df8qPsx/uv+VAFLafQ0bT6Grv2Y/3X/Kj7Mf7r/lQBS2n0NG0+hq79mP91/yo+zH+6/5UAUtp9DRtPoau/Zj/AHX/ACo+zH+6/wCVAFLafQ0bT6Grv2Y/3X/Kj7Mf7r/lQBS2n0NG0+hq79mP91/yo+zH+6/5UAUtp9DRtPoau/Zj/df8qPsx/uv+VAFLafQ0bT6Grv2Y/wB1/wAqPsx/uv8AlQBS2n0NG0+hq79mP91/yo+zH+6/5UAUtp9DRtPoau/Zj/df8qPsx/uv+VAFLafQ0bT6Grv2Y/3X/Kj7Mf7r/lQBS2n0NG0+hq79mP8Adf8AKj7Mf7r/AJUAUtp9DRsPoau/Zj/df8qUWx/uv+VAFMIfQ1NHESejdPSraWpz91+npVuG0Ofuv09KAIba3JI4b7vpW3Z2+McN92m21p0+V/u+la9tb4xw33aAJraLAHB+7WhGuAPpUcSYA69KnUUAKKWiigAooooAQio3XOevSpaQigClLDnP3ulUZrQHPD9K2WX61E0QPr0oA52Wyz2k6elVmsP9mT8q6VoAf71RG2B/vUAc2bD/AGZPypPsH+zJ+VdGbUf7dJ9lHo9AHO/YP9mT8qPsH+zJ+VdF9lHo9H2Uej0Ac79g/wBmT8qPsH+zJ+VdF9lHo9H2Uej0Ac79g/2ZPyo+wf7Mn5V0X2Uej0fZR6PQBzv2D/Zk/Kj7B/syflXRfZR6PR9lHo9AHO/YP9mT8qPsH+zJ+VdF9lHo9H2Uej0Ac79g/wBmT8qPsH+zJ+VdF9lHo9H2Uej0Ac79g/2ZPyo+wf7Mn5V0X2Uej0fZR6PQBzv2D/Zk/Kj7B/syflXRfZR6PR9lHo9AHO/YP9mT8qPsH+zJ+VdF9lHo9H2Uej0Ac79g/wBmT8qPsH+zJ+VdF9lHo9H2Uej0Ac79g/2ZPyo+wf7Mn5V0X2Uej0fZR6PQBzv2D/Zk/Kj7B/syflXRfZR6PR9lHo9AHO/YP9mT8qPsH+zJ+VdF9lHo9H2Uej0Ac79g/wBmT8qPsH+zJ+VdF9lHo9H2Uej0Ac79g/2ZPyo+wf7Mn5V0X2Uej0fZR6PQBzv2D/Zk/Kj7B/syflXRfZR6PR9lHo9AHO/YP9mT8qPsH+zJ+VdF9lHo9H2Uej0Ac79g/wBmT8qPsH+zJ+VdF9lHo9H2Uej0Ac79g/2ZPyo+wf7Mn5V0X2Uej0fZR6PQBzv2D/Zk/Kj7B/syflXRfZR6PR9lHo9AHO/YP9mT8qPsH+zJ+VdF9lHo9H2Uej0Ac79g/wBmT8qPsH+zJ+VdF9lHo9H2Uej0Ac79g/2ZPyo+wf7Mn5V0X2Uej0fZR6PQBzv2D/Zk/Kj7B/syflXRfZR6PR9lHo9AHO/YP9mT8qPsH+zJ+VdF9lHo9H2Uej0Ac79g/wBmT8qPsH+zJ+VdF9lHo9H2Uej0Ac79g/2ZPyo+wf7Mn5V0X2Uej0fZR6PQBzv2D/Zk/Kj7B/syflXRfZR6PR9lHo9AHO/YP9mT8qPsH+zJ+VdF9lHo9H2Uej0Ac79g/wBmT8qPsH+zJ+VdF9lHo9H2Uej0Ac79g/2ZPyo+wf7Mn5V0X2Uej0fZR6PQBzv2D/Zk/Kj7B/syflXRfZR6PR9lHo9AHO/YP9mT8qPsH+zJ+VdF9lHo9H2Uej0Ac79g/wBmT8qPsH+zJ+VdF9lHo9H2Uej0Ac79g/2ZPyo+wf7Mn5V0X2Uej0fZR6PQBzv2D/Zk/Kj7B/syflXRfZR6PR9lHo9AHO/YP9mT8qPsH+zJ+VdF9lHo9H2Uej0Ac79g/wBmT8qPsH+zJ+VdF9lHo9H2Uej0Ac79g/2ZPyo+wf7Mn5V0X2Uej0fZR6PQBzv2D/Zk/Kj7B/syflXRfZR6PR9lHo9AHO/YP9mT8qPsH+zJ+VdF9lHo9H2Uej0Ac79g/wBmT8qPsH+zJ+VdF9lHo9H2Uej0Ac79g/2ZPyo+wf7Mn5V0X2Uej0fZR6PQBzv2D/Zk/Kj7B/syflXRfZR6PR9lHo9AHO/YP9mT8qPsH+zJ+VdF9lHo9H2Uej0Ac79g/wBmT8qPsH+zJ+VdF9lHo9H2Uej0Ac79g/2ZPyo+wf7Mn5V0X2Uej0fZR6PQBzv2D/Zk/Kj7B/syflXRfZR6PR9lHo9AHO/YP9mT8qPsH+zJ+VdF9lHo9H2Uej0Ac79g/wBmT8qPsH+zJ+VdF9lHo9H2Uej0Ac79g/2ZPyo+wf7Mn5V0X2Uej0fZR6PQBzv2D/Zk/Kj7B/syflXRfZR6PR9lHo9AHO/YP9mT8qPsH+zJ+VdF9lHo9H2Uej0Ac79g/wBmT8qPsH+zJ+VdF9lHo9H2Uej0Ac79g/2ZPyo+wf7Mn5V0X2Uej0fZR6PQBzv2D/Zk/Kj7B/syflXRfZR6PR9lHo9AHO/YP9mT8qPsH+zJ+VdF9lHo9H2Uej0Ac79g/wBmT8qPsH+zJ+VdF9lHo9H2Uej0Ac79g/2ZPyo+wf7Mn5V0X2Uej0fZR6PQBzv2D/Zk/Kj7B/syflXRfZR6PR9lHo9AHO/YP9mT8qPsH+zJ+VdF9lHo9H2Uej0Ac79g/wBmT8qPsH+zJ+VdF9lHo9H2Uej0Ac79g/2ZPyo+wf7Mn5V0X2Uej0fZR6PQBzv2D/Zk/Kj7B/syflXRfZR6PR9lHo9AHO/YP9mT8qPsH+zJ+VdF9lHo9H2Uej0Ac79g/wBmT8qPsH+zJ+VdF9lHo9H2Uej0Ac79g/2ZPyo+wf7Mn5V0X2Uej0fZR6PQBzv2D/Zk/Kj7B/syflXRfZR6PR9lHo9AHO/YP9mT8qPsH+zJ+VdF9lHo9H2Uej0Ac79g/wBmT8qPsH+zJ+VdF9lHo9H2Uej0Ac79g/2ZPyo+wf7Mn5V0X2Uej0fZR6PQBzv2D/Zk/Kj7B/syflXRfZR6PR9lHo9AHO/YP9mT8qPsH+zJ+VdF9lHo9H2Uej0Ac79g/wBmT8qPsH+zJ+VdF9lHo9H2Uej0Ac79g/2ZPyo+wf7Mn5V0X2Uej0fZR6PQBzv2D/Zk/Kj7B/syflXRfZR6PR9lHo9AHO/YP9mT8qPsH+zJ+VdF9lHo9H2Uej0Ac79g/wBmT8qPsH+zJ+VdF9lHo9H2Uej0Ac79g/2ZPyo+wf7Mn5V0X2Uej0fZR6PQBzv2D/Zk/Kj7B/syflXRfZR6PR9lHo9AHO/YP9mT8qPsH+zJ+VdF9lHo9H2Uej0Ac79g/wBmT8qPsH+zJ+VdF9lHo9H2Uej0Ac79g/2ZPyo+wf7Mn5V0X2Uej0fZR6PQBzv2D/Zk/Kj7B/syflXRfZR6PR9lHo9AHO/YP9mT8qPsH+zJ+VdF9lHo9H2Uej0Ac79g/wBmT8qPsH+zJ+VdF9lHo9H2Uej0Ac79g/2ZPyo+wf7Mn5V0X2Uej0fZR6PQBzv2D/Zk/Kj7B/syflXRfZR6PR9lHo9AHO/YP9mT8qPsH+zJ+VdF9lHo9H2Uej0Ac79g/wBmT8qPsH+zJ+VdF9lHo9H2Uej0Ac79g/2ZPyo+wf7Mn5V0X2Uej0fZR6PQBzv2D/Zk/Kj7B/syflXRfZR6PR9lHo9AHO/YP9mT8qPsH+zJ+VdF9lHo9H2Uej0Ac79g/wBmT8qPsH+zJ+VdF9lHo9H2Uej0Ac79g/2ZPyo+wf7Mn5V0X2Uej0fZR6PQBzv2D/Zk/Kj7B/syflXRfZR6PR9lHo9AHO/YP9mT8qPsH+zJ+VdF9lHo9H2Uej0Ac79g/wBmT8qPsH+zJ+VdF9lHo9H2Uej0Ac79g/2ZPyo+wf7Mn5V0X2Uej0fZR6PQBzv2D/Zk/Kj7B/syflXRfZR6PR9lHo9AHO/YP9mT8qPsH+zJ+VdF9lHo9H2Uej0Ac79g/wBmT8qPsH+zJ+VdF9lHo9H2Uej0Ac79g/2ZPyo+wf7Mn5V0X2Uej0fZR6PQBz32D/Zk/KnCw/2ZPyrf+yj0enfZR6PQBhpY/wCzJ09KtxWQHZ+lai2w/wBqpUgA/vdKAKkNsBjhulXY4sY69KkWMD1qQDFACKuKfRRQAUUUUAFFFFABRRRQAUmKWigBhX60mwe9SUUAR7PrSbB71LijFAEWwe9Gwe9S4oxQBFsHvRsHvUuKMUARbB70bB71LijFAEWwe9Gwe9S4oxQBFsHvRsHvUuKMUARbB70bB71LijFAEWwe9Gwe9S4oxQBFsHvRsHvUuKMUARbB70bB71LijFAEWwe9Gwe9S4oxQBFsHvRsHvUuKMUARbB70bB71LijFAEWwe9Gwe9S4oxQBFsHvRsHvUuKMUARbB70bB71LijFAEWwe9Gwe9S4oxQBFsHvRsHvUuKMUARbB70bB71LijFAEWwe9Gwe9S4oxQBFsHvRsHvUuKMUARbB70bB71LijFAEWwe9Gwe9S4oxQBFsHvRsHvUuKMUARbB70bB71LijFAEWwe9Gwe9S4oxQBFsHvRsHvUuKMUARbB70bB71LijFAEWwe9Gwe9S4oxQBFsHvRsHvUuKMUARbB70bB71LijFAEWwe9Gwe9S4oxQBFsHvRsHvUuKMUARbB70bB71LijFAEWwe9Gwe9S4oxQBFsHvRsHvUuKMUARbB70bB71LijFAEWwe9Gwe9S4oxQBFsHvRsHvUuKMUARbB70bB71LijFAEWwe9Gwe9S4oxQBFsHvRsHvUuKMUARbB70bB71LijFAEWwe9Gwe9S4oxQBFsHvRsHvUuKMUARbB70bB71LijFAEWwe9Gwe9S4oxQBFsHvRsHvUuKMUARbB70bB71LijFAEWwe9Gwe9S4oxQBFsHvRsHvUuKMUARbB70bB71LijFAEWwe9Gwe9S4oxQBFsHvRsHvUuKMUARbB70bB71LijFAEWwe9Gwe9S4oxQBFsHvRsHvUuKMUARbB70bB71LijFAEWwe9Gwe9S4oxQBFsHvRsHvUuKMUARbB70bB71LijFAEWwe9Gwe9S4oxQBFsHvRsHvUuKMUARbB70bB71LijFAEWwe9Gwe9S4oxQBFsHvRsHvUuKMUARbB70bB71LijFAEWwe9Gwe9S4oxQBFsHvRsHvUuKMUARbB70bB71LijFAEWwe9Gwe9S4oxQBFsHvRsHvUuKMUARbB70bB71LijFAEWwe9Gwe9S4oxQBFsHvRsHvUuKMUARbB70bB71LijFAEWwe9Gwe9S4oxQBFsHvRsHvUuKMUARbB70bB71LijFAEWwe9Gwe9S4oxQBFsHvRsHvUuKMUARbB70bB71LijFAEWwe9Gwe9S4oxQBFsHvRsHvUuKMUARbB70bB71LijFAEWwe9Gwe9S4oxQBFsHvRsHvUuKMUARbB70bB71LijFAEWwe9Gwe9S4oxQBFsHvRsHvUuKMUARbB70bB71LijFAEWwe9Gwe9S4oxQBFsHvRsHvUuKMUARbB70bB71LijFAEWwe9Gwe9S4oxQBFsHvRsHvUuKMUARbB70bB71LijFAEWwe9Gwe9S4oxQBFsHvRsHvUuKMUARbB70bB71LijFAEWwe9Gwe9S4oxQBFsHvRsHvUuKMUARbB70bB71LijFAEWwe9Gwe9S4oxQBFsHvS7B71JijFADNn1pdtOooATFLRRQAUUUUAFFFFAH//2Q==',\n",
       "  'image_mime_type': 'image/jpeg'}}"
      ]
     },
     "execution_count": 5,
     "metadata": {},
     "output_type": "execute_result"
    }
   ],
   "source": [
    "# This is what an extracted image looks like.\n",
    "# It contains the base64 representation only because we set the param extract_image_block_to_payload=True\n",
    "\n",
    "elements = chunks[0].metadata.orig_elements\n",
    "chunk_images = [el for el in elements if 'Image' in str(type(el))]\n",
    "chunk_images[0].to_dict()"
   ]
  },
  {
   "cell_type": "markdown",
   "id": "26caebda",
   "metadata": {
    "id": "26caebda"
   },
   "source": [
    "### Separate extracted elements into tables, text, and images"
   ]
  },
  {
   "cell_type": "code",
   "execution_count": 6,
   "id": "8326a750",
   "metadata": {
    "id": "8326a750"
   },
   "outputs": [],
   "source": [
    "# separate tables from texts\n",
    "tables = []\n",
    "texts = []\n",
    "\n",
    "for chunk in chunks:\n",
    "    if \"Table\" in str(type(chunk)):\n",
    "        tables.append(chunk)\n",
    "\n",
    "    if \"CompositeElement\" in str(type((chunk))):\n",
    "        texts.append(chunk)"
   ]
  },
  {
   "cell_type": "code",
   "execution_count": 7,
   "id": "df548e46",
   "metadata": {
    "id": "df548e46"
   },
   "outputs": [],
   "source": [
    "# Get the images from the CompositeElement objects\n",
    "def get_images_base64(chunks):\n",
    "    images_b64 = []\n",
    "    for chunk in chunks:\n",
    "        if \"CompositeElement\" in str(type(chunk)):\n",
    "            chunk_els = chunk.metadata.orig_elements\n",
    "            for el in chunk_els:\n",
    "                if \"Image\" in str(type(el)):\n",
    "                    images_b64.append(el.metadata.image_base64)\n",
    "    return images_b64\n",
    "\n",
    "images = get_images_base64(chunks)"
   ]
  },
  {
   "cell_type": "markdown",
   "id": "9582f462",
   "metadata": {
    "id": "9582f462"
   },
   "source": [
    "#### Check what the images look like"
   ]
  },
  {
   "cell_type": "code",
   "execution_count": 8,
   "id": "83158c36",
   "metadata": {
    "id": "83158c36",
    "outputId": "50ba7432-e879-4a64-e9f4-b47fdbeb0fbf"
   },
   "outputs": [
    {
     "data": {
      "image/jpeg": "[encoded data removed]",
      "text/plain": [
       "<IPython.core.display.Image object>"
      ]
     },
     "metadata": {},
     "output_type": "display_data"
    }
   ],
   "source": [
    "import base64\n",
    "from IPython.display import Image, display\n",
    "\n",
    "def display_base64_image(base64_code):\n",
    "    # Decode the base64 string to binary\n",
    "    image_data = base64.b64decode(base64_code)\n",
    "    # Display the image\n",
    "    display(Image(data=image_data))\n",
    "\n",
    "display_base64_image(images[0])"
   ]
  },
  {
   "cell_type": "markdown",
   "id": "0aa7f52f-bf5c-4ba4-af72-b2ccba59a4cf",
   "metadata": {
    "id": "0aa7f52f-bf5c-4ba4-af72-b2ccba59a4cf"
   },
   "source": [
    "## Summarize the data\n",
    "\n",
    "Create a summary of each element extracted from the PDF. This summary will be vectorized and used in the retrieval process."
   ]
  },
  {
   "cell_type": "code",
   "execution_count": 50,
   "id": "523e6ed2-2132-4748-bdb7-db765f20648d",
   "metadata": {
    "id": "523e6ed2-2132-4748-bdb7-db765f20648d"
   },
   "outputs": [],
   "source": [
    "from langchain_groq import ChatGroq\n",
    "from langchain_core.prompts import ChatPromptTemplate\n",
    "from langchain_core.output_parsers import StrOutputParser"
   ]
  },
  {
   "cell_type": "code",
   "execution_count": 66,
   "id": "5d04f3be-fe20-4bd3-9d04-d3e368d834e8",
   "metadata": {},
   "outputs": [
    {
     "name": "stderr",
     "output_type": "stream",
     "text": [
      "/home/jac/miniconda3/envs/tf/lib/python3.9/site-packages/transformers/models/auto/tokenization_auto.py:786: FutureWarning: The `use_auth_token` argument is deprecated and will be removed in v5 of Transformers. Please use `token` instead.\n",
      "  warnings.warn(\n",
      "/home/jac/miniconda3/envs/tf/lib/python3.9/site-packages/accelerate/utils/modeling.py:1462: UserWarning: Current model requires 1088 bytes of buffer for offloaded layers, which seems does not fit any GPU's remaining memory. If you are experiencing a OOM later, please consider using offload_buffers=True.\n",
      "  warnings.warn(\n"
     ]
    }
   ],
   "source": [
    "from transformers import AutoTokenizer, AutoModelForCausalLM, pipeline\n",
    "\n",
    "\n",
    "model_name = \"meta-llama/Llama-3.2-1B\"  # Needs authentication from Hugging Face\n",
    "tokenizer = AutoTokenizer.from_pretrained(model_name, use_auth_token=True)\n",
    "model = AutoModelForCausalLM.from_pretrained(model_name, device_map=\"auto\", torch_dtype=\"auto\")\n",
    "\n",
    "# Set up the text generation pipeline\n",
    "summarizer = pipeline(\"text-generation\", model=model, tokenizer=tokenizer)\n",
    "\n",
    "def summarize(text):\n",
    "    prompt = f\"\"\"\n",
    "You are an assistant tasked with summarizing tables and text.\n",
    "Give a concise summary of the table or text.\n",
    "\n",
    "Respond only with the summary, no additional comment.\n",
    "Do not start your message by saying \"Here is a summary\" or anything like that.\n",
    "Just give the summary as it is.\n",
    "\n",
    "Table or text chunk: {text}\n",
    "\"\"\"\n",
    "    result = summarizer(prompt, max_new_tokens=200, do_sample=False)\n",
    "    return result[0]['generated_text'].split(\"Table or text chunk:\")[1].strip()\n"
   ]
  },
  {
   "cell_type": "code",
   "execution_count": 67,
   "id": "22c22e3f-42fb-4a4a-a87a-89f10ba8ab99",
   "metadata": {
    "id": "22c22e3f-42fb-4a4a-a87a-89f10ba8ab99"
   },
   "outputs": [],
   "source": [
    "# Prompt\n",
    "prompt_text = \"\"\"\n",
    "You are an assistant tasked with summarizing tables and text.\n",
    "Give a concise summary of the table or text.\n",
    "\n",
    "Respond only with the summary, no additionnal comment.\n",
    "Do not start your message by saying \"Here is a summary\" or anything like that.\n",
    "Just give the summary as it is.\n",
    "\n",
    "Table or text chunk: {element}\n",
    "\n",
    "\"\"\"\n",
    "prompt = ChatPromptTemplate.from_template(prompt_text)\n",
    "\n",
    "# Summary chain\n",
    "model = ChatGroq(temperature=0.5, model=\"llama-3.1-8b-instant\")\n",
    "summarize_chain = {\"element\": lambda x: x} | prompt | model | StrOutputParser()"
   ]
  },
  {
   "cell_type": "code",
   "execution_count": 9,
   "id": "1b502617-ba32-49c9-86d4-b9c7ec2f33d7",
   "metadata": {},
   "outputs": [
    {
     "name": "stderr",
     "output_type": "stream",
     "text": [
      "/home/jac/miniconda3/envs/tf/lib/python3.9/site-packages/transformers/models/auto/tokenization_auto.py:786: FutureWarning: The `use_auth_token` argument is deprecated and will be removed in v5 of Transformers. Please use `token` instead.\n",
      "  warnings.warn(\n",
      "Some parameters are on the meta device because they were offloaded to the cpu.\n"
     ]
    }
   ],
   "source": [
    "from langchain_core.prompts import PromptTemplate\n",
    "from langchain_core.output_parsers import StrOutputParser\n",
    "from langchain_core.runnables import RunnableLambda, RunnableMap\n",
    "from transformers import AutoTokenizer, AutoModelForCausalLM, pipeline\n",
    "\n",
    "# HF model setup\n",
    "model_name = \"meta-llama/Llama-3.2-1B\"\n",
    "tokenizer = AutoTokenizer.from_pretrained(model_name, use_auth_token=True)\n",
    "hf_model = AutoModelForCausalLM.from_pretrained(model_name, device_map=\"auto\", torch_dtype=\"auto\")\n",
    "hf_pipe = pipeline(\"text-generation\", model=hf_model, tokenizer=tokenizer)\n",
    "\n",
    "# LangChain wrapper for HF pipeline\n",
    "def run_hf_pipeline(input_text):\n",
    "    result = hf_pipe(input_text, max_new_tokens=200, do_sample=False)\n",
    "    return result[0]['generated_text']\n",
    "\n",
    "# Prompt setup (LangChain style)\n",
    "prompt_text = \"\"\"\n",
    "You are an assistant tasked with summarizing tables and text.\n",
    "Give a concise summary of the table or text.\n",
    "\n",
    "Respond only with the summary, no additional comment.\n",
    "Do not start your message by saying \"Here is a summary\" or anything like that.\n",
    "Just give the summary as it is.\n",
    "\n",
    "Table or text chunk: {element}\n",
    "\"\"\"\n",
    "prompt = PromptTemplate.from_template(prompt_text)\n",
    "\n",
    "# Chain setup\n",
    "summarize_chain = (\n",
    "    {\"element\": lambda x: x}\n",
    "    | prompt\n",
    "    | RunnableLambda(run_hf_pipeline)\n",
    "    | StrOutputParser()\n",
    ")\n"
   ]
  },
  {
   "cell_type": "code",
   "execution_count": 10,
   "id": "d8925631-1da5-4ced-a604-360935d7c4bb",
   "metadata": {},
   "outputs": [],
   "source": [
    "from langchain_core.runnables import RunnableLambda\n",
    "from langchain_core.output_parsers import StrOutputParser\n",
    "\n",
    "def run_hf_pipeline(input_prompt):\n",
    "    # Convert from LangChain's StringPromptValue to a plain string\n",
    "    if hasattr(input_prompt, \"to_string\"):\n",
    "        input_prompt = input_prompt.to_string()\n",
    "    result = hf_pipe(input_prompt, max_new_tokens=200, do_sample=False)\n",
    "    return result[0]['generated_text']\n"
   ]
  },
  {
   "cell_type": "code",
   "execution_count": null,
   "id": "d36f9bec-3a98-4da6-bba2-bddcf3a5f3f6",
   "metadata": {},
   "outputs": [],
   "source": []
  },
  {
   "cell_type": "code",
   "execution_count": null,
   "id": "8490a852-9546-4d08-a51d-e9e278c1a0c8",
   "metadata": {},
   "outputs": [],
   "source": [
    "from langchain_core.prompts import PromptTemplate\n",
    "from langchain_core.output_parsers import StrOutputParser\n",
    "from langchain_core.runnables import RunnableLambda\n",
    "from transformers import AutoTokenizer, AutoModelForSeq2SeqLM, pipeline\n",
    "\n",
    "# Model: Free & summarization-trained\n",
    "model_name = \"google/flan-t5-base\"\n",
    "tokenizer = AutoTokenizer.from_pretrained(model_name)\n",
    "model = AutoModelForSeq2SeqLM.from_pretrained(model_name)\n",
    "\n",
    "# HF summarization pipeline\n",
    "hf_pipe = pipeline(\"text2text-generation\", model=model, tokenizer=tokenizer)\n",
    "\n",
    "# LangChain-compatible wrapper\n",
    "def run_hf_pipeline(input_prompt):\n",
    "    if hasattr(input_prompt, \"to_string\"):\n",
    "        input_prompt = input_prompt.to_string()\n",
    "    result = hf_pipe(input_prompt, max_new_tokens=150, do_sample=False)\n",
    "    return result[0]['generated_text']\n",
    "\n",
    "# Prompt (summarization-focused)\n",
    "prompt_text = \"\"\"\n",
    "Summarize the following table or text into a concise statement.\n",
    "\n",
    "Input: {element}\n",
    "\"\"\"\n",
    "\n",
    "prompt = PromptTemplate.from_template(prompt_text)\n",
    "\n",
    "# Summarization Chain\n",
    "summarize_chain = (\n",
    "    {\"element\": lambda x: x}\n",
    "    | prompt\n",
    "    | RunnableLambda(run_hf_pipeline)\n",
    "    | StrOutputParser()\n",
    ")\n",
    "\n",
    "# Example: use batch mode\n",
    "text_summaries = summarize_chain.batch(texts, config={\"max_concurrency\": 3})\n",
    "tables_html = [table.metadata.text_as_html for table in tables]\n",
    "table_summaries = summarize_chain.batch(tables_html, config={\"max_concurrency\": 3})\n"
   ]
  },
  {
   "cell_type": "code",
   "execution_count": 84,
   "id": "155a536f-e7aa-4bc0-bb2b-180dbe804a73",
   "metadata": {},
   "outputs": [
    {
     "data": {
      "application/vnd.jupyter.widget-view+json": {
       "model_id": "117fb81de41347a4b33f4ea66f8810eb",
       "version_major": 2,
       "version_minor": 0
      },
      "text/plain": [
       "tokenizer_config.json:   0%|          | 0.00/26.0 [00:00<?, ?B/s]"
      ]
     },
     "metadata": {},
     "output_type": "display_data"
    },
    {
     "data": {
      "application/vnd.jupyter.widget-view+json": {
       "model_id": "905df687c1f44da99db66c1750980361",
       "version_major": 2,
       "version_minor": 0
      },
      "text/plain": [
       "config.json:   0%|          | 0.00/665 [00:00<?, ?B/s]"
      ]
     },
     "metadata": {},
     "output_type": "display_data"
    },
    {
     "data": {
      "application/vnd.jupyter.widget-view+json": {
       "model_id": "5b9aac18e64c4aa8bb7604b60ed88c97",
       "version_major": 2,
       "version_minor": 0
      },
      "text/plain": [
       "vocab.json:   0%|          | 0.00/1.04M [00:00<?, ?B/s]"
      ]
     },
     "metadata": {},
     "output_type": "display_data"
    },
    {
     "data": {
      "application/vnd.jupyter.widget-view+json": {
       "model_id": "37914865c6574fdb9c278ea49fdf926e",
       "version_major": 2,
       "version_minor": 0
      },
      "text/plain": [
       "merges.txt:   0%|          | 0.00/456k [00:00<?, ?B/s]"
      ]
     },
     "metadata": {},
     "output_type": "display_data"
    },
    {
     "data": {
      "application/vnd.jupyter.widget-view+json": {
       "model_id": "afc57c80756649519a142a451050aeb8",
       "version_major": 2,
       "version_minor": 0
      },
      "text/plain": [
       "tokenizer.json:   0%|          | 0.00/1.36M [00:00<?, ?B/s]"
      ]
     },
     "metadata": {},
     "output_type": "display_data"
    },
    {
     "data": {
      "application/vnd.jupyter.widget-view+json": {
       "model_id": "1e976489d4dd4b0ca327bc605164d92a",
       "version_major": 2,
       "version_minor": 0
      },
      "text/plain": [
       "model.safetensors:   0%|          | 0.00/548M [00:00<?, ?B/s]"
      ]
     },
     "metadata": {},
     "output_type": "display_data"
    },
    {
     "data": {
      "application/vnd.jupyter.widget-view+json": {
       "model_id": "c8ddd17206314bcda430aabdc0bb1ebd",
       "version_major": 2,
       "version_minor": 0
      },
      "text/plain": [
       "generation_config.json:   0%|          | 0.00/124 [00:00<?, ?B/s]"
      ]
     },
     "metadata": {},
     "output_type": "display_data"
    },
    {
     "name": "stderr",
     "output_type": "stream",
     "text": [
      "Hardware accelerator e.g. GPU is available in the environment, but no `device` argument is passed to the `Pipeline` object. Model will be on CPU.\n"
     ]
    }
   ],
   "source": [
    "from langchain_core.prompts import PromptTemplate\n",
    "from langchain_core.output_parsers import StrOutputParser\n",
    "from langchain_core.runnables import RunnableLambda\n",
    "from transformers import AutoTokenizer, AutoModelForCausalLM, pipeline\n",
    "from transformers import AutoProcessor, BlipForConditionalGeneration\n",
    "from PIL import Image\n",
    "import torch\n",
    "\n",
    "# 1. Load image-to-text model for image captioning\n",
    "caption_model_id = \"Salesforce/blip-image-captioning-base\"\n",
    "processor = AutoProcessor.from_pretrained(caption_model_id)\n",
    "caption_model = BlipForConditionalGeneration.from_pretrained(caption_model_id).to(\"cuda\" if torch.cuda.is_available() else \"cpu\")\n",
    "\n",
    "# 2. Load GPT-2 style model for text summarization\n",
    "gpt2_model_name = \"gpt2\"\n",
    "tokenizer = AutoTokenizer.from_pretrained(gpt2_model_name)\n",
    "gpt2_model = AutoModelForCausalLM.from_pretrained(gpt2_model_name)\n",
    "hf_pipe = pipeline(\"text-generation\", model=gpt2_model, tokenizer=tokenizer)\n",
    "\n",
    "# 3. Step: Caption the image using BLIP\n",
    "def image_to_caption(img: Image.Image) -> str:\n",
    "    inputs = processor(images=img, return_tensors=\"pt\").to(caption_model.device)\n",
    "    output_ids = caption_model.generate(**inputs, max_new_tokens=64, pad_token_id=processor.tokenizer.eos_token_id)\n",
    "    caption = processor.batch_decode(output_ids, skip_special_tokens=True)[0]\n",
    "    return caption.strip()\n",
    "\n",
    "# 4. Step: Feed image caption to GPT-2 with prompt\n",
    "prompt_template = \"\"\"\n",
    "You are an assistant tasked with summarizing a caption generated from a research paper image.\n",
    "Focus on highlighting meaningful aspects of the image, especially any figures or graphs.\n",
    "\n",
    "Caption text: {element}\n",
    "\"\"\"\n",
    "\n",
    "prompt = PromptTemplate.from_template(prompt_template)\n",
    "\n",
    "def run_gpt2_pipeline(input_prompt):\n",
    "    if hasattr(input_prompt, \"to_string\"):\n",
    "        input_prompt = input_prompt.to_string()\n",
    "    result = hf_pipe(input_prompt, max_new_tokens=100, do_sample=False)\n",
    "    return result[0]['generated_text']\n",
    "\n",
    "# 5. LangChain Chain\n",
    "summarize_chain = (\n",
    "    {\"element\": lambda x: x}\n",
    "    | prompt\n",
    "    | RunnableLambda(run_gpt2_pipeline)\n",
    "    | StrOutputParser()\n",
    ")\n",
    "\n",
    "# 6. Final pipeline: image → caption → GPT2 summary\n",
    "def summarize_image(img: Image.Image) -> str:\n",
    "    caption = image_to_caption(img)\n",
    "    return summarize_chain.invoke(caption)\n",
    "\n",
    "# 7. For multiple images:\n",
    "def summarize_images(image_list):\n",
    "    return [summarize_image(img) for img in image_list]\n",
    "\n",
    "# ✅ Example usage\n",
    "# from PIL import Image\n",
    "# img1 = Image.open(\"transformer_diagram.jpg\")\n",
    "# summaries = summarize_images([img1])\n",
    "# print(summaries[0])\n"
   ]
  },
  {
   "cell_type": "code",
   "execution_count": 13,
   "id": "1616f577-9f04-456a-a152-7fbe594c64bf",
   "metadata": {},
   "outputs": [
    {
     "name": "stderr",
     "output_type": "stream",
     "text": [
      "/home/jac/miniconda3/envs/tf/lib/python3.9/site-packages/transformers/tokenization_utils_base.py:1601: FutureWarning: `clean_up_tokenization_spaces` was not set. It will be set to `True` by default. This behavior will be depracted in transformers v4.45, and will be then set to `False` by default. For more details check this issue: https://github.com/huggingface/transformers/issues/31884\n",
      "  warnings.warn(\n"
     ]
    }
   ],
   "source": [
    "from transformers import VisionEncoderDecoderModel, ViTImageProcessor, AutoTokenizer\n",
    "from PIL import Image\n",
    "import torch\n",
    "import base64\n",
    "from io import BytesIO\n",
    "\n",
    "# Load model, processor, tokenizer\n",
    "model_name = \"nlpconnect/vit-gpt2-image-captioning\"\n",
    "model = VisionEncoderDecoderModel.from_pretrained(model_name)\n",
    "feature_extractor = ViTImageProcessor.from_pretrained(model_name)\n",
    "tokenizer = AutoTokenizer.from_pretrained(model_name)\n",
    "\n",
    "device = \"cuda\" if torch.cuda.is_available() else \"cpu\"\n",
    "model.to(device)\n",
    "\n",
    "# Helper: Convert base64 image string to PIL Image\n",
    "def decode_image(base64_image_str):\n",
    "    image_bytes = base64.b64decode(base64_image_str)\n",
    "    return Image.open(BytesIO(image_bytes)).convert(\"RGB\")\n",
    "\n",
    "# Image description function\n",
    "def describe_image(base64_image_str):\n",
    "    image = decode_image(base64_image_str)\n",
    "    pixel_values = feature_extractor(images=image, return_tensors=\"pt\").pixel_values.to(device)\n",
    "\n",
    "    output_ids = model.generate(\n",
    "    pixel_values,\n",
    "    attention_mask=torch.ones(pixel_values.shape[:2], device=device),  # All 1s mask\n",
    "    max_length=64,\n",
    "    num_beams=4\n",
    ")\n",
    "\n",
    "    caption = tokenizer.decode(output_ids[0], skip_special_tokens=True).strip()\n",
    "    return caption\n"
   ]
  },
  {
   "cell_type": "code",
   "execution_count": 14,
   "id": "134bbf0c-2c13-4ff4-8ef2-bf59186a7251",
   "metadata": {},
   "outputs": [
    {
     "name": "stderr",
     "output_type": "stream",
     "text": [
      "We strongly recommend passing in an `attention_mask` since your input_ids may be padded. See https://huggingface.co/docs/transformers/troubleshooting#incorrect-output-when-padding-tokens-arent-masked.\n",
      "You may ignore this warning if your `pad_token_id` (50256) is identical to the `bos_token_id` (50256), `eos_token_id` (50256), or the `sep_token_id` (None), and your input is not padded.\n"
     ]
    }
   ],
   "source": [
    "# Assume 'images' is a list of base64 strings\n",
    "image_summaries = [describe_image(img) for img in images]\n"
   ]
  },
  {
   "cell_type": "code",
   "execution_count": 15,
   "id": "laF_8o1gzHT0",
   "metadata": {
    "colab": {
     "base_uri": "https://localhost:8080/"
    },
    "id": "laF_8o1gzHT0",
    "outputId": "f82547af-0885-4d78-9f50-940dd9e6551e"
   },
   "outputs": [
    {
     "data": {
      "text/plain": [
       "['a blue and white sign on a blue background',\n",
       " 'a blue and white photo of a blue and white airplane',\n",
       " 'a series of street signs on a pole',\n",
       " 'a blue and white sign on a blue background',\n",
       " 'a sign that is on the side of a building',\n",
       " 'a blue and white sign on a blue background',\n",
       " 'a street sign with a clock on top of it',\n",
       " 'a blue and white sign on a blue background',\n",
       " 'a collage of a street sign and a clock',\n",
       " 'a blue and white sign on a blue background',\n",
       " 'a collage of a number of signs on a computer screen',\n",
       " 'a blue and white sign on a blue background',\n",
       " 'a collage of photos of a person wearing a hat',\n",
       " 'a blue and white sign on a blue background',\n",
       " 'a drawing of a person wearing a hat and tie',\n",
       " 'a blue and white sign on a blue background',\n",
       " 'a collage of photos of a person wearing a hat',\n",
       " 'a blue and white photo of a blue and white clock',\n",
       " 'a collage of a number of signs on a computer screen',\n",
       " 'a blue and white photo of a blue and white clock',\n",
       " 'a sign that is on top of a pile of books',\n",
       " 'a collage of a number of signs on a computer screen',\n",
       " 'a blue sky with a blue sky background',\n",
       " 'a collage of a number of signs on a computer screen',\n",
       " 'a collage of photographs of a group of people',\n",
       " 'a blue and white sign on a blue background',\n",
       " 'a collage of photos of various types of electronic equipment',\n",
       " 'a blue and white photo of a blue and white sign',\n",
       " 'a collage of photos showing different types of electronic equipment',\n",
       " 'a blue and white photo of a blue and white sign',\n",
       " 'a collage of images showing different types of electronic devices',\n",
       " 'a blue and white photo of a blue and white clock',\n",
       " 'a collage of photos showing different types of items',\n",
       " 'a blue and white photo of a blue and white clock',\n",
       " 'a collage of photos showing different types of electronic equipment',\n",
       " 'a collage of photos of various street signs',\n",
       " 'a black and white photo of a black and white elephant',\n",
       " 'a blue and white photo of a blue and white clock',\n",
       " 'a series of photos showing different types of scissors',\n",
       " 'a blurry photo of a blue sky with a blue sky background',\n",
       " 'a white paper with a picture of a person on it',\n",
       " 'a blue sky with a blue sky background',\n",
       " 'a collage of photos of people standing in front of a wall',\n",
       " 'a collage of photos of various types of electronic equipment',\n",
       " 'a blue sky with a blue sky background',\n",
       " 'a collage of photographs of a man in a blue shirt',\n",
       " 'a blue sky with a blue sky background',\n",
       " 'a collage of photos of a woman in a bikini',\n",
       " 'a blue sky with a blue sky background',\n",
       " 'a collage of photos showing different types of items']"
      ]
     },
     "execution_count": 15,
     "metadata": {},
     "output_type": "execute_result"
    }
   ],
   "source": [
    "image_summaries"
   ]
  },
  {
   "cell_type": "code",
   "execution_count": 16,
   "id": "aHNDEd_2txQI",
   "metadata": {
    "colab": {
     "base_uri": "https://localhost:8080/",
     "height": 143
    },
    "id": "aHNDEd_2txQI",
    "outputId": "fbd7c64e-f463-4203-e1ca-f79c7426aaf6"
   },
   "outputs": [
    {
     "name": "stdout",
     "output_type": "stream",
     "text": [
      "a blue and white photo of a blue and white airplane\n"
     ]
    }
   ],
   "source": [
    "print(image_summaries[1])"
   ]
  },
  {
   "cell_type": "code",
   "execution_count": 17,
   "id": "ab1b9c33-b36c-4c35-8a08-db75a823cfdc",
   "metadata": {},
   "outputs": [
    {
     "data": {
      "text/plain": [
       "['a blue and white sign on a blue background',\n",
       " 'a blue and white photo of a blue and white airplane',\n",
       " 'a series of street signs on a pole',\n",
       " 'a blue and white sign on a blue background',\n",
       " 'a sign that is on the side of a building',\n",
       " 'a blue and white sign on a blue background',\n",
       " 'a street sign with a clock on top of it',\n",
       " 'a blue and white sign on a blue background',\n",
       " 'a collage of a street sign and a clock',\n",
       " 'a blue and white sign on a blue background',\n",
       " 'a collage of a number of signs on a computer screen',\n",
       " 'a blue and white sign on a blue background',\n",
       " 'a collage of photos of a person wearing a hat',\n",
       " 'a blue and white sign on a blue background',\n",
       " 'a drawing of a person wearing a hat and tie',\n",
       " 'a blue and white sign on a blue background',\n",
       " 'a collage of photos of a person wearing a hat',\n",
       " 'a blue and white photo of a blue and white clock',\n",
       " 'a collage of a number of signs on a computer screen',\n",
       " 'a blue and white photo of a blue and white clock',\n",
       " 'a sign that is on top of a pile of books',\n",
       " 'a collage of a number of signs on a computer screen',\n",
       " 'a blue sky with a blue sky background',\n",
       " 'a collage of a number of signs on a computer screen',\n",
       " 'a collage of photographs of a group of people',\n",
       " 'a blue and white sign on a blue background',\n",
       " 'a collage of photos of various types of electronic equipment',\n",
       " 'a blue and white photo of a blue and white sign',\n",
       " 'a collage of photos showing different types of electronic equipment',\n",
       " 'a blue and white photo of a blue and white sign',\n",
       " 'a collage of images showing different types of electronic devices',\n",
       " 'a blue and white photo of a blue and white clock',\n",
       " 'a collage of photos showing different types of items',\n",
       " 'a blue and white photo of a blue and white clock',\n",
       " 'a collage of photos showing different types of electronic equipment',\n",
       " 'a collage of photos of various street signs',\n",
       " 'a black and white photo of a black and white elephant',\n",
       " 'a blue and white photo of a blue and white clock',\n",
       " 'a series of photos showing different types of scissors',\n",
       " 'a blurry photo of a blue sky with a blue sky background',\n",
       " 'a white paper with a picture of a person on it',\n",
       " 'a blue sky with a blue sky background',\n",
       " 'a collage of photos of people standing in front of a wall',\n",
       " 'a collage of photos of various types of electronic equipment',\n",
       " 'a blue sky with a blue sky background',\n",
       " 'a collage of photographs of a man in a blue shirt',\n",
       " 'a blue sky with a blue sky background',\n",
       " 'a collage of photos of a woman in a bikini',\n",
       " 'a blue sky with a blue sky background',\n",
       " 'a collage of photos showing different types of items']"
      ]
     },
     "execution_count": 17,
     "metadata": {},
     "output_type": "execute_result"
    }
   ],
   "source": [
    "image_summaries"
   ]
  },
  {
   "cell_type": "code",
   "execution_count": 26,
   "id": "a4d9c994-50f7-4326-a6ce-5db5078b9054",
   "metadata": {},
   "outputs": [
    {
     "data": {
      "application/vnd.jupyter.widget-view+json": {
       "model_id": "0fe4bc8cc5954af29753baad5c991774",
       "version_major": 2,
       "version_minor": 0
      },
      "text/plain": [
       "preprocessor_config.json:   0%|          | 0.00/445 [00:00<?, ?B/s]"
      ]
     },
     "metadata": {},
     "output_type": "display_data"
    },
    {
     "data": {
      "application/vnd.jupyter.widget-view+json": {
       "model_id": "1fec9ab2e832470699a95d063248d31b",
       "version_major": 2,
       "version_minor": 0
      },
      "text/plain": [
       "tokenizer_config.json:   0%|          | 0.00/527 [00:00<?, ?B/s]"
      ]
     },
     "metadata": {},
     "output_type": "display_data"
    },
    {
     "data": {
      "application/vnd.jupyter.widget-view+json": {
       "model_id": "5511364a2c3842d0b778f99741f547df",
       "version_major": 2,
       "version_minor": 0
      },
      "text/plain": [
       "vocab.txt:   0%|          | 0.00/232k [00:00<?, ?B/s]"
      ]
     },
     "metadata": {},
     "output_type": "display_data"
    },
    {
     "data": {
      "application/vnd.jupyter.widget-view+json": {
       "model_id": "0bddd9459e5e40a699a329f23c055fca",
       "version_major": 2,
       "version_minor": 0
      },
      "text/plain": [
       "tokenizer.json:   0%|          | 0.00/711k [00:00<?, ?B/s]"
      ]
     },
     "metadata": {},
     "output_type": "display_data"
    },
    {
     "data": {
      "application/vnd.jupyter.widget-view+json": {
       "model_id": "0330f1f9fc4c4b158afe96cc688dc2f5",
       "version_major": 2,
       "version_minor": 0
      },
      "text/plain": [
       "special_tokens_map.json:   0%|          | 0.00/125 [00:00<?, ?B/s]"
      ]
     },
     "metadata": {},
     "output_type": "display_data"
    },
    {
     "name": "stderr",
     "output_type": "stream",
     "text": [
      "/home/jac/miniconda3/envs/tf/lib/python3.9/site-packages/transformers/tokenization_utils_base.py:1601: FutureWarning: `clean_up_tokenization_spaces` was not set. It will be set to `True` by default. This behavior will be depracted in transformers v4.45, and will be then set to `False` by default. For more details check this issue: https://github.com/huggingface/transformers/issues/31884\n",
      "  warnings.warn(\n"
     ]
    }
   ],
   "source": [
    "import torch\n",
    "from PIL import Image\n",
    "from transformers import BlipProcessor, BlipForConditionalGeneration\n",
    "import base64\n",
    "from io import BytesIO\n",
    "\n",
    "# Load model and processor\n",
    "processor = BlipProcessor.from_pretrained(\"Salesforce/blip-image-captioning-large\")\n",
    "model = BlipForConditionalGeneration.from_pretrained(\"Salesforce/blip-image-captioning-base\").to(\"cuda\" if torch.cuda.is_available() else \"cpu\")\n",
    "\n",
    "# Decode image from base64\n",
    "def decode_image(b64_string):\n",
    "    return Image.open(BytesIO(base64.b64decode(b64_string))).convert(\"RGB\")\n",
    "\n",
    "# Generate caption\n",
    "def describe_image(base64_image_str):\n",
    "    image = decode_image(base64_image_str)\n",
    "    inputs = processor(images=image, return_tensors=\"pt\").to(model.device)\n",
    "\n",
    "    output = model.generate(**inputs, max_new_tokens=64)\n",
    "    caption = processor.batch_decode(output, skip_special_tokens=True)[0]\n",
    "    return caption\n"
   ]
  },
  {
   "cell_type": "code",
   "execution_count": 27,
   "id": "fb05ec37-30c5-41b0-8f3a-97ceb1cb68b8",
   "metadata": {},
   "outputs": [],
   "source": [
    "# Assume 'images' is a list of base64 strings\n",
    "image_summaries = [describe_image(img) for img in images]\n"
   ]
  },
  {
   "cell_type": "code",
   "execution_count": 28,
   "id": "edae1372-0cd7-4c3f-b473-67eed2d529a4",
   "metadata": {},
   "outputs": [
    {
     "data": {
      "text/plain": [
       "['general general services',\n",
       " 'the logo for the company',\n",
       " 'a diagram of the different types of the algorithm',\n",
       " 'the logo for the global medical group',\n",
       " 'a simple example of a simple example of a simple example of a simple example of a simple example of a',\n",
       " 'the logo for the global medical group',\n",
       " 'a diagram of a generator generator',\n",
       " 'the logo for the global medical group',\n",
       " 'a diagram of a generator generator',\n",
       " 'the logo for the global medical group',\n",
       " 'a diagram of a neural neural',\n",
       " 'the logo for the global medical group',\n",
       " 'a police officer and a police officer',\n",
       " 'the logo for the global medical group',\n",
       " 'a cartoon of two police officers with a speech bubble',\n",
       " 'the logo for the global medical group',\n",
       " 'a picture of a man in a police uniform and a man in a police uniform',\n",
       " 'the logo for the new website',\n",
       " 'a diagram of a neural neural',\n",
       " 'the logo for the new website',\n",
       " 'the fourier equation is a simple representation',\n",
       " 'a diagram of a neural neural',\n",
       " 'the logo for the office of the office of the president',\n",
       " 'a diagram of a neural neural',\n",
       " \"the text reads,'the text reads,'and the text reads '\",\n",
       " 'the logo for the global medical foundation',\n",
       " 'the sound of a wave is shown in the following',\n",
       " 'the logo for the new york school',\n",
       " 'a block diagram with a block diagram and a block diagram',\n",
       " 'the logo for the new york school',\n",
       " 'a diagram of a parallel circuit with a single - channel',\n",
       " 'the logo for the new york school',\n",
       " 'a diagram of a neural neural',\n",
       " 'the logo for the new york school',\n",
       " 'a diagram of a neural neural',\n",
       " 'a black and white image of a sound wave',\n",
       " 'the logo for the new line of products',\n",
       " 'the logo for the new york school',\n",
       " 'a plot of the fouriers of a fourier',\n",
       " 'the logo for the new website',\n",
       " 'a computer program for the computer system, with a number of multiples',\n",
       " 'the logo for the new logo',\n",
       " 'the text in the font is a black and white image',\n",
       " 'the diagram shows the different parts of the machine',\n",
       " 'the logo for the new logo',\n",
       " 'the following of the following of the following of the following of the following of the following of the following of',\n",
       " 'the logo for the new business',\n",
       " 'a diagram of the different faces of people',\n",
       " 'the logo for the new business',\n",
       " 'a col of images of different types of bags']"
      ]
     },
     "execution_count": 28,
     "metadata": {},
     "output_type": "execute_result"
    }
   ],
   "source": [
    "image_summaries"
   ]
  }
 ],
 "metadata": {
  "colab": {
   "collapsed_sections": [
    "74b56bde-1ba0-4525-a11d-cab02c5659e4",
    "8b55862c",
    "b1feadda-8171-4aed-9a60-320a88dc9ee1",
    "bb4d2379",
    "2bf26669",
    "4b45fb81-46b1-426e-aa2c-01aed4eac700",
    "69060724-e390-4dda-8250-5f86025c874a"
   ],
   "provenance": []
  },
  "kernelspec": {
   "display_name": "Python 3 (ipykernel)",
   "language": "python",
   "name": "python3"
  },
  "language_info": {
   "codemirror_mode": {
    "name": "ipython",
    "version": 3
   },
   "file_extension": ".py",
   "mimetype": "text/x-python",
   "name": "python",
   "nbconvert_exporter": "python",
   "pygments_lexer": "ipython3",
   "version": "3.9.18"
  },
  "widgets": {
   "application/vnd.jupyter.widget-state+json": {
    "00b164fb36864e53a8a73710d7d855cc": {
     "model_module": "@jupyter-widgets/base",
     "model_module_version": "1.2.0",
     "model_name": "LayoutModel",
     "state": {
      "_model_module": "@jupyter-widgets/base",
      "_model_module_version": "1.2.0",
      "_model_name": "LayoutModel",
      "_view_count": null,
      "_view_module": "@jupyter-widgets/base",
      "_view_module_version": "1.2.0",
      "_view_name": "LayoutView",
      "align_content": null,
      "align_items": null,
      "align_self": null,
      "border": null,
      "bottom": null,
      "display": null,
      "flex": null,
      "flex_flow": null,
      "grid_area": null,
      "grid_auto_columns": null,
      "grid_auto_flow": null,
      "grid_auto_rows": null,
      "grid_column": null,
      "grid_gap": null,
      "grid_row": null,
      "grid_template_areas": null,
      "grid_template_columns": null,
      "grid_template_rows": null,
      "height": null,
      "justify_content": null,
      "justify_items": null,
      "left": null,
      "margin": null,
      "max_height": null,
      "max_width": null,
      "min_height": null,
      "min_width": null,
      "object_fit": null,
      "object_position": null,
      "order": null,
      "overflow": null,
      "overflow_x": null,
      "overflow_y": null,
      "padding": null,
      "right": null,
      "top": null,
      "visibility": null,
      "width": null
     }
    },
    "01ef4b60c3144e17afffb86281466bab": {
     "model_module": "@jupyter-widgets/base",
     "model_module_version": "1.2.0",
     "model_name": "LayoutModel",
     "state": {
      "_model_module": "@jupyter-widgets/base",
      "_model_module_version": "1.2.0",
      "_model_name": "LayoutModel",
      "_view_count": null,
      "_view_module": "@jupyter-widgets/base",
      "_view_module_version": "1.2.0",
      "_view_name": "LayoutView",
      "align_content": null,
      "align_items": null,
      "align_self": null,
      "border": null,
      "bottom": null,
      "display": null,
      "flex": null,
      "flex_flow": null,
      "grid_area": null,
      "grid_auto_columns": null,
      "grid_auto_flow": null,
      "grid_auto_rows": null,
      "grid_column": null,
      "grid_gap": null,
      "grid_row": null,
      "grid_template_areas": null,
      "grid_template_columns": null,
      "grid_template_rows": null,
      "height": null,
      "justify_content": null,
      "justify_items": null,
      "left": null,
      "margin": null,
      "max_height": null,
      "max_width": null,
      "min_height": null,
      "min_width": null,
      "object_fit": null,
      "object_position": null,
      "order": null,
      "overflow": null,
      "overflow_x": null,
      "overflow_y": null,
      "padding": null,
      "right": null,
      "top": null,
      "visibility": null,
      "width": null
     }
    },
    "052ec73371404595b7dec973dda308d4": {
     "model_module": "@jupyter-widgets/controls",
     "model_module_version": "1.5.0",
     "model_name": "DescriptionStyleModel",
     "state": {
      "_model_module": "@jupyter-widgets/controls",
      "_model_module_version": "1.5.0",
      "_model_name": "DescriptionStyleModel",
      "_view_count": null,
      "_view_module": "@jupyter-widgets/base",
      "_view_module_version": "1.2.0",
      "_view_name": "StyleView",
      "description_width": ""
     }
    },
    "0e7ed203dde24ec9a8d0f9c95a8877fd": {
     "model_module": "@jupyter-widgets/base",
     "model_module_version": "1.2.0",
     "model_name": "LayoutModel",
     "state": {
      "_model_module": "@jupyter-widgets/base",
      "_model_module_version": "1.2.0",
      "_model_name": "LayoutModel",
      "_view_count": null,
      "_view_module": "@jupyter-widgets/base",
      "_view_module_version": "1.2.0",
      "_view_name": "LayoutView",
      "align_content": null,
      "align_items": null,
      "align_self": null,
      "border": null,
      "bottom": null,
      "display": null,
      "flex": null,
      "flex_flow": null,
      "grid_area": null,
      "grid_auto_columns": null,
      "grid_auto_flow": null,
      "grid_auto_rows": null,
      "grid_column": null,
      "grid_gap": null,
      "grid_row": null,
      "grid_template_areas": null,
      "grid_template_columns": null,
      "grid_template_rows": null,
      "height": null,
      "justify_content": null,
      "justify_items": null,
      "left": null,
      "margin": null,
      "max_height": null,
      "max_width": null,
      "min_height": null,
      "min_width": null,
      "object_fit": null,
      "object_position": null,
      "order": null,
      "overflow": null,
      "overflow_x": null,
      "overflow_y": null,
      "padding": null,
      "right": null,
      "top": null,
      "visibility": null,
      "width": null
     }
    },
    "15b9261bb07f4bbb95d276b92feabade": {
     "model_module": "@jupyter-widgets/controls",
     "model_module_version": "1.5.0",
     "model_name": "HTMLModel",
     "state": {
      "_dom_classes": [],
      "_model_module": "@jupyter-widgets/controls",
      "_model_module_version": "1.5.0",
      "_model_name": "HTMLModel",
      "_view_count": null,
      "_view_module": "@jupyter-widgets/controls",
      "_view_module_version": "1.5.0",
      "_view_name": "HTMLView",
      "description": "",
      "description_tooltip": null,
      "layout": "IPY_MODEL_0e7ed203dde24ec9a8d0f9c95a8877fd",
      "placeholder": "​",
      "style": "IPY_MODEL_e64cfd87330d4b238596da66db63d984",
      "value": "Downloading (…)lve/main/config.json: 100%"
     }
    },
    "2045ffddb5c4407f9235d1bf472e9ba5": {
     "model_module": "@jupyter-widgets/controls",
     "model_module_version": "1.5.0",
     "model_name": "HTMLModel",
     "state": {
      "_dom_classes": [],
      "_model_module": "@jupyter-widgets/controls",
      "_model_module_version": "1.5.0",
      "_model_name": "HTMLModel",
      "_view_count": null,
      "_view_module": "@jupyter-widgets/controls",
      "_view_module_version": "1.5.0",
      "_view_name": "HTMLView",
      "description": "",
      "description_tooltip": null,
      "layout": "IPY_MODEL_9eab400a02dc46269e2537db44a78625",
      "placeholder": "​",
      "style": "IPY_MODEL_415ddcb74bc2467fa9399039b7d0cafb",
      "value": "Downloading model.safetensors: 100%"
     }
    },
    "21318da3ae0644c28ec63983a34bd2ee": {
     "model_module": "@jupyter-widgets/controls",
     "model_module_version": "1.5.0",
     "model_name": "HTMLModel",
     "state": {
      "_dom_classes": [],
      "_model_module": "@jupyter-widgets/controls",
      "_model_module_version": "1.5.0",
      "_model_name": "HTMLModel",
      "_view_count": null,
      "_view_module": "@jupyter-widgets/controls",
      "_view_module_version": "1.5.0",
      "_view_name": "HTMLView",
      "description": "",
      "description_tooltip": null,
      "layout": "IPY_MODEL_7ad056a7d71847d498f270ecac5cbf62",
      "placeholder": "​",
      "style": "IPY_MODEL_309bad22d08c47af8d51942da599328e",
      "value": " 46.8M/46.8M [00:00&lt;00:00, 103MB/s]"
     }
    },
    "27e36e7f92d7417bb221fa95406cfb2f": {
     "model_module": "@jupyter-widgets/controls",
     "model_module_version": "1.5.0",
     "model_name": "FloatProgressModel",
     "state": {
      "_dom_classes": [],
      "_model_module": "@jupyter-widgets/controls",
      "_model_module_version": "1.5.0",
      "_model_name": "FloatProgressModel",
      "_view_count": null,
      "_view_module": "@jupyter-widgets/controls",
      "_view_module_version": "1.5.0",
      "_view_name": "ProgressView",
      "bar_style": "success",
      "description": "",
      "description_tooltip": null,
      "layout": "IPY_MODEL_7185b40a7fa74088ad7ff6efb524e6b5",
      "max": 46807446,
      "min": 0,
      "orientation": "horizontal",
      "style": "IPY_MODEL_cc6672c78dac468d9264efd90902c87d",
      "value": 46807446
     }
    },
    "2bcca7acc6f047d6ad4efbf1e5333c58": {
     "model_module": "@jupyter-widgets/base",
     "model_module_version": "1.2.0",
     "model_name": "LayoutModel",
     "state": {
      "_model_module": "@jupyter-widgets/base",
      "_model_module_version": "1.2.0",
      "_model_name": "LayoutModel",
      "_view_count": null,
      "_view_module": "@jupyter-widgets/base",
      "_view_module_version": "1.2.0",
      "_view_name": "LayoutView",
      "align_content": null,
      "align_items": null,
      "align_self": null,
      "border": null,
      "bottom": null,
      "display": null,
      "flex": null,
      "flex_flow": null,
      "grid_area": null,
      "grid_auto_columns": null,
      "grid_auto_flow": null,
      "grid_auto_rows": null,
      "grid_column": null,
      "grid_gap": null,
      "grid_row": null,
      "grid_template_areas": null,
      "grid_template_columns": null,
      "grid_template_rows": null,
      "height": null,
      "justify_content": null,
      "justify_items": null,
      "left": null,
      "margin": null,
      "max_height": null,
      "max_width": null,
      "min_height": null,
      "min_width": null,
      "object_fit": null,
      "object_position": null,
      "order": null,
      "overflow": null,
      "overflow_x": null,
      "overflow_y": null,
      "padding": null,
      "right": null,
      "top": null,
      "visibility": null,
      "width": null
     }
    },
    "2df0c4cc59044ec8a59aadf2d5d2a9c9": {
     "model_module": "@jupyter-widgets/controls",
     "model_module_version": "1.5.0",
     "model_name": "FloatProgressModel",
     "state": {
      "_dom_classes": [],
      "_model_module": "@jupyter-widgets/controls",
      "_model_module_version": "1.5.0",
      "_model_name": "FloatProgressModel",
      "_view_count": null,
      "_view_module": "@jupyter-widgets/controls",
      "_view_module_version": "1.5.0",
      "_view_name": "ProgressView",
      "bar_style": "success",
      "description": "",
      "description_tooltip": null,
      "layout": "IPY_MODEL_b2fc825e7e6949e0a18f491ff261ac2b",
      "max": 115434268,
      "min": 0,
      "orientation": "horizontal",
      "style": "IPY_MODEL_df6e6c84cc1c4c7b8cf5f8555eb42166",
      "value": 115434268
     }
    },
    "2ee43f14fa654a66ad0cfb559826f266": {
     "model_module": "@jupyter-widgets/controls",
     "model_module_version": "1.5.0",
     "model_name": "FloatProgressModel",
     "state": {
      "_dom_classes": [],
      "_model_module": "@jupyter-widgets/controls",
      "_model_module_version": "1.5.0",
      "_model_name": "FloatProgressModel",
      "_view_count": null,
      "_view_module": "@jupyter-widgets/controls",
      "_view_module_version": "1.5.0",
      "_view_name": "ProgressView",
      "bar_style": "success",
      "description": "",
      "description_tooltip": null,
      "layout": "IPY_MODEL_00b164fb36864e53a8a73710d7d855cc",
      "max": 216625723,
      "min": 0,
      "orientation": "horizontal",
      "style": "IPY_MODEL_64a0c4aa0bba4b6f8e8f5775a4341147",
      "value": 216625723
     }
    },
    "3095817ccc8f4ec6bae9b0c201d8e40a": {
     "model_module": "@jupyter-widgets/controls",
     "model_module_version": "1.5.0",
     "model_name": "HTMLModel",
     "state": {
      "_dom_classes": [],
      "_model_module": "@jupyter-widgets/controls",
      "_model_module_version": "1.5.0",
      "_model_name": "HTMLModel",
      "_view_count": null,
      "_view_module": "@jupyter-widgets/controls",
      "_view_module_version": "1.5.0",
      "_view_name": "HTMLView",
      "description": "",
      "description_tooltip": null,
      "layout": "IPY_MODEL_547eb1582628438c9f0ef01554dfcdb4",
      "placeholder": "​",
      "style": "IPY_MODEL_40b532d4d85740a2a16251bb321f489a",
      "value": " 115M/115M [00:02&lt;00:00, 36.9MB/s]"
     }
    },
    "309bad22d08c47af8d51942da599328e": {
     "model_module": "@jupyter-widgets/controls",
     "model_module_version": "1.5.0",
     "model_name": "DescriptionStyleModel",
     "state": {
      "_model_module": "@jupyter-widgets/controls",
      "_model_module_version": "1.5.0",
      "_model_name": "DescriptionStyleModel",
      "_view_count": null,
      "_view_module": "@jupyter-widgets/base",
      "_view_module_version": "1.2.0",
      "_view_name": "StyleView",
      "description_width": ""
     }
    },
    "3494ef9884224fa9a0a65999d7fc2945": {
     "model_module": "@jupyter-widgets/controls",
     "model_module_version": "1.5.0",
     "model_name": "DescriptionStyleModel",
     "state": {
      "_model_module": "@jupyter-widgets/controls",
      "_model_module_version": "1.5.0",
      "_model_name": "DescriptionStyleModel",
      "_view_count": null,
      "_view_module": "@jupyter-widgets/base",
      "_view_module_version": "1.2.0",
      "_view_name": "StyleView",
      "description_width": ""
     }
    },
    "3bd05fe4e6bd4ea2b7bfcfba705369c5": {
     "model_module": "@jupyter-widgets/controls",
     "model_module_version": "1.5.0",
     "model_name": "HTMLModel",
     "state": {
      "_dom_classes": [],
      "_model_module": "@jupyter-widgets/controls",
      "_model_module_version": "1.5.0",
      "_model_name": "HTMLModel",
      "_view_count": null,
      "_view_module": "@jupyter-widgets/controls",
      "_view_module_version": "1.5.0",
      "_view_name": "HTMLView",
      "description": "",
      "description_tooltip": null,
      "layout": "IPY_MODEL_01ef4b60c3144e17afffb86281466bab",
      "placeholder": "​",
      "style": "IPY_MODEL_3494ef9884224fa9a0a65999d7fc2945",
      "value": "Downloading model.safetensors: 100%"
     }
    },
    "40b532d4d85740a2a16251bb321f489a": {
     "model_module": "@jupyter-widgets/controls",
     "model_module_version": "1.5.0",
     "model_name": "DescriptionStyleModel",
     "state": {
      "_model_module": "@jupyter-widgets/controls",
      "_model_module_version": "1.5.0",
      "_model_name": "DescriptionStyleModel",
      "_view_count": null,
      "_view_module": "@jupyter-widgets/base",
      "_view_module_version": "1.2.0",
      "_view_name": "StyleView",
      "description_width": ""
     }
    },
    "415ddcb74bc2467fa9399039b7d0cafb": {
     "model_module": "@jupyter-widgets/controls",
     "model_module_version": "1.5.0",
     "model_name": "DescriptionStyleModel",
     "state": {
      "_model_module": "@jupyter-widgets/controls",
      "_model_module_version": "1.5.0",
      "_model_name": "DescriptionStyleModel",
      "_view_count": null,
      "_view_module": "@jupyter-widgets/base",
      "_view_module_version": "1.2.0",
      "_view_name": "StyleView",
      "description_width": ""
     }
    },
    "5246faf4e8194647a4b41d9de5a168f6": {
     "model_module": "@jupyter-widgets/controls",
     "model_module_version": "1.5.0",
     "model_name": "HBoxModel",
     "state": {
      "_dom_classes": [],
      "_model_module": "@jupyter-widgets/controls",
      "_model_module_version": "1.5.0",
      "_model_name": "HBoxModel",
      "_view_count": null,
      "_view_module": "@jupyter-widgets/controls",
      "_view_module_version": "1.5.0",
      "_view_name": "HBoxView",
      "box_style": "",
      "children": [
       "IPY_MODEL_c8f31460d7d5420db2c7840e287fac5b",
       "IPY_MODEL_2ee43f14fa654a66ad0cfb559826f266",
       "IPY_MODEL_e7e6388db19d47ceb06afc75fbb8486c"
      ],
      "layout": "IPY_MODEL_922be25533bd448e9ce92614f7bd2677"
     }
    },
    "547eb1582628438c9f0ef01554dfcdb4": {
     "model_module": "@jupyter-widgets/base",
     "model_module_version": "1.2.0",
     "model_name": "LayoutModel",
     "state": {
      "_model_module": "@jupyter-widgets/base",
      "_model_module_version": "1.2.0",
      "_model_name": "LayoutModel",
      "_view_count": null,
      "_view_module": "@jupyter-widgets/base",
      "_view_module_version": "1.2.0",
      "_view_name": "LayoutView",
      "align_content": null,
      "align_items": null,
      "align_self": null,
      "border": null,
      "bottom": null,
      "display": null,
      "flex": null,
      "flex_flow": null,
      "grid_area": null,
      "grid_auto_columns": null,
      "grid_auto_flow": null,
      "grid_auto_rows": null,
      "grid_column": null,
      "grid_gap": null,
      "grid_row": null,
      "grid_template_areas": null,
      "grid_template_columns": null,
      "grid_template_rows": null,
      "height": null,
      "justify_content": null,
      "justify_items": null,
      "left": null,
      "margin": null,
      "max_height": null,
      "max_width": null,
      "min_height": null,
      "min_width": null,
      "object_fit": null,
      "object_position": null,
      "order": null,
      "overflow": null,
      "overflow_x": null,
      "overflow_y": null,
      "padding": null,
      "right": null,
      "top": null,
      "visibility": null,
      "width": null
     }
    },
    "5ffb0b594f51466284af380fd4d47b40": {
     "model_module": "@jupyter-widgets/controls",
     "model_module_version": "1.5.0",
     "model_name": "FloatProgressModel",
     "state": {
      "_dom_classes": [],
      "_model_module": "@jupyter-widgets/controls",
      "_model_module_version": "1.5.0",
      "_model_name": "FloatProgressModel",
      "_view_count": null,
      "_view_module": "@jupyter-widgets/controls",
      "_view_module_version": "1.5.0",
      "_view_name": "ProgressView",
      "bar_style": "success",
      "description": "",
      "description_tooltip": null,
      "layout": "IPY_MODEL_c13aff2b064743be941b4672550e56c9",
      "max": 1469,
      "min": 0,
      "orientation": "horizontal",
      "style": "IPY_MODEL_ef5fba5f330748faa9bd583d637087a6",
      "value": 1469
     }
    },
    "64a0c4aa0bba4b6f8e8f5775a4341147": {
     "model_module": "@jupyter-widgets/controls",
     "model_module_version": "1.5.0",
     "model_name": "ProgressStyleModel",
     "state": {
      "_model_module": "@jupyter-widgets/controls",
      "_model_module_version": "1.5.0",
      "_model_name": "ProgressStyleModel",
      "_view_count": null,
      "_view_module": "@jupyter-widgets/base",
      "_view_module_version": "1.2.0",
      "_view_name": "StyleView",
      "bar_color": null,
      "description_width": ""
     }
    },
    "7185b40a7fa74088ad7ff6efb524e6b5": {
     "model_module": "@jupyter-widgets/base",
     "model_module_version": "1.2.0",
     "model_name": "LayoutModel",
     "state": {
      "_model_module": "@jupyter-widgets/base",
      "_model_module_version": "1.2.0",
      "_model_name": "LayoutModel",
      "_view_count": null,
      "_view_module": "@jupyter-widgets/base",
      "_view_module_version": "1.2.0",
      "_view_name": "LayoutView",
      "align_content": null,
      "align_items": null,
      "align_self": null,
      "border": null,
      "bottom": null,
      "display": null,
      "flex": null,
      "flex_flow": null,
      "grid_area": null,
      "grid_auto_columns": null,
      "grid_auto_flow": null,
      "grid_auto_rows": null,
      "grid_column": null,
      "grid_gap": null,
      "grid_row": null,
      "grid_template_areas": null,
      "grid_template_columns": null,
      "grid_template_rows": null,
      "height": null,
      "justify_content": null,
      "justify_items": null,
      "left": null,
      "margin": null,
      "max_height": null,
      "max_width": null,
      "min_height": null,
      "min_width": null,
      "object_fit": null,
      "object_position": null,
      "order": null,
      "overflow": null,
      "overflow_x": null,
      "overflow_y": null,
      "padding": null,
      "right": null,
      "top": null,
      "visibility": null,
      "width": null
     }
    },
    "7ad056a7d71847d498f270ecac5cbf62": {
     "model_module": "@jupyter-widgets/base",
     "model_module_version": "1.2.0",
     "model_name": "LayoutModel",
     "state": {
      "_model_module": "@jupyter-widgets/base",
      "_model_module_version": "1.2.0",
      "_model_name": "LayoutModel",
      "_view_count": null,
      "_view_module": "@jupyter-widgets/base",
      "_view_module_version": "1.2.0",
      "_view_name": "LayoutView",
      "align_content": null,
      "align_items": null,
      "align_self": null,
      "border": null,
      "bottom": null,
      "display": null,
      "flex": null,
      "flex_flow": null,
      "grid_area": null,
      "grid_auto_columns": null,
      "grid_auto_flow": null,
      "grid_auto_rows": null,
      "grid_column": null,
      "grid_gap": null,
      "grid_row": null,
      "grid_template_areas": null,
      "grid_template_columns": null,
      "grid_template_rows": null,
      "height": null,
      "justify_content": null,
      "justify_items": null,
      "left": null,
      "margin": null,
      "max_height": null,
      "max_width": null,
      "min_height": null,
      "min_width": null,
      "object_fit": null,
      "object_position": null,
      "order": null,
      "overflow": null,
      "overflow_x": null,
      "overflow_y": null,
      "padding": null,
      "right": null,
      "top": null,
      "visibility": null,
      "width": null
     }
    },
    "7d37b6f0ba8b4c5eb875635b98778d26": {
     "model_module": "@jupyter-widgets/controls",
     "model_module_version": "1.5.0",
     "model_name": "DescriptionStyleModel",
     "state": {
      "_model_module": "@jupyter-widgets/controls",
      "_model_module_version": "1.5.0",
      "_model_name": "DescriptionStyleModel",
      "_view_count": null,
      "_view_module": "@jupyter-widgets/base",
      "_view_module_version": "1.2.0",
      "_view_name": "StyleView",
      "description_width": ""
     }
    },
    "922be25533bd448e9ce92614f7bd2677": {
     "model_module": "@jupyter-widgets/base",
     "model_module_version": "1.2.0",
     "model_name": "LayoutModel",
     "state": {
      "_model_module": "@jupyter-widgets/base",
      "_model_module_version": "1.2.0",
      "_model_name": "LayoutModel",
      "_view_count": null,
      "_view_module": "@jupyter-widgets/base",
      "_view_module_version": "1.2.0",
      "_view_name": "LayoutView",
      "align_content": null,
      "align_items": null,
      "align_self": null,
      "border": null,
      "bottom": null,
      "display": null,
      "flex": null,
      "flex_flow": null,
      "grid_area": null,
      "grid_auto_columns": null,
      "grid_auto_flow": null,
      "grid_auto_rows": null,
      "grid_column": null,
      "grid_gap": null,
      "grid_row": null,
      "grid_template_areas": null,
      "grid_template_columns": null,
      "grid_template_rows": null,
      "height": null,
      "justify_content": null,
      "justify_items": null,
      "left": null,
      "margin": null,
      "max_height": null,
      "max_width": null,
      "min_height": null,
      "min_width": null,
      "object_fit": null,
      "object_position": null,
      "order": null,
      "overflow": null,
      "overflow_x": null,
      "overflow_y": null,
      "padding": null,
      "right": null,
      "top": null,
      "visibility": null,
      "width": null
     }
    },
    "93205e664daa4921959605eb99dfa9cc": {
     "model_module": "@jupyter-widgets/base",
     "model_module_version": "1.2.0",
     "model_name": "LayoutModel",
     "state": {
      "_model_module": "@jupyter-widgets/base",
      "_model_module_version": "1.2.0",
      "_model_name": "LayoutModel",
      "_view_count": null,
      "_view_module": "@jupyter-widgets/base",
      "_view_module_version": "1.2.0",
      "_view_name": "LayoutView",
      "align_content": null,
      "align_items": null,
      "align_self": null,
      "border": null,
      "bottom": null,
      "display": null,
      "flex": null,
      "flex_flow": null,
      "grid_area": null,
      "grid_auto_columns": null,
      "grid_auto_flow": null,
      "grid_auto_rows": null,
      "grid_column": null,
      "grid_gap": null,
      "grid_row": null,
      "grid_template_areas": null,
      "grid_template_columns": null,
      "grid_template_rows": null,
      "height": null,
      "justify_content": null,
      "justify_items": null,
      "left": null,
      "margin": null,
      "max_height": null,
      "max_width": null,
      "min_height": null,
      "min_width": null,
      "object_fit": null,
      "object_position": null,
      "order": null,
      "overflow": null,
      "overflow_x": null,
      "overflow_y": null,
      "padding": null,
      "right": null,
      "top": null,
      "visibility": null,
      "width": null
     }
    },
    "9eab400a02dc46269e2537db44a78625": {
     "model_module": "@jupyter-widgets/base",
     "model_module_version": "1.2.0",
     "model_name": "LayoutModel",
     "state": {
      "_model_module": "@jupyter-widgets/base",
      "_model_module_version": "1.2.0",
      "_model_name": "LayoutModel",
      "_view_count": null,
      "_view_module": "@jupyter-widgets/base",
      "_view_module_version": "1.2.0",
      "_view_name": "LayoutView",
      "align_content": null,
      "align_items": null,
      "align_self": null,
      "border": null,
      "bottom": null,
      "display": null,
      "flex": null,
      "flex_flow": null,
      "grid_area": null,
      "grid_auto_columns": null,
      "grid_auto_flow": null,
      "grid_auto_rows": null,
      "grid_column": null,
      "grid_gap": null,
      "grid_row": null,
      "grid_template_areas": null,
      "grid_template_columns": null,
      "grid_template_rows": null,
      "height": null,
      "justify_content": null,
      "justify_items": null,
      "left": null,
      "margin": null,
      "max_height": null,
      "max_width": null,
      "min_height": null,
      "min_width": null,
      "object_fit": null,
      "object_position": null,
      "order": null,
      "overflow": null,
      "overflow_x": null,
      "overflow_y": null,
      "padding": null,
      "right": null,
      "top": null,
      "visibility": null,
      "width": null
     }
    },
    "a9a67e81e91e46e19b23f58dea634525": {
     "model_module": "@jupyter-widgets/controls",
     "model_module_version": "1.5.0",
     "model_name": "HBoxModel",
     "state": {
      "_dom_classes": [],
      "_model_module": "@jupyter-widgets/controls",
      "_model_module_version": "1.5.0",
      "_model_name": "HBoxModel",
      "_view_count": null,
      "_view_module": "@jupyter-widgets/controls",
      "_view_module_version": "1.5.0",
      "_view_name": "HBoxView",
      "box_style": "",
      "children": [
       "IPY_MODEL_2045ffddb5c4407f9235d1bf472e9ba5",
       "IPY_MODEL_2df0c4cc59044ec8a59aadf2d5d2a9c9",
       "IPY_MODEL_3095817ccc8f4ec6bae9b0c201d8e40a"
      ],
      "layout": "IPY_MODEL_93205e664daa4921959605eb99dfa9cc"
     }
    },
    "b12ba9f2111c44eeb5ae65820cc7d5d7": {
     "model_module": "@jupyter-widgets/controls",
     "model_module_version": "1.5.0",
     "model_name": "HBoxModel",
     "state": {
      "_dom_classes": [],
      "_model_module": "@jupyter-widgets/controls",
      "_model_module_version": "1.5.0",
      "_model_name": "HBoxModel",
      "_view_count": null,
      "_view_module": "@jupyter-widgets/controls",
      "_view_module_version": "1.5.0",
      "_view_name": "HBoxView",
      "box_style": "",
      "children": [
       "IPY_MODEL_15b9261bb07f4bbb95d276b92feabade",
       "IPY_MODEL_5ffb0b594f51466284af380fd4d47b40",
       "IPY_MODEL_fc994e0c5ced45c78c0b9bb6f19c073f"
      ],
      "layout": "IPY_MODEL_c58471c60519419e9cdb3c7ff174d702"
     }
    },
    "b2fc825e7e6949e0a18f491ff261ac2b": {
     "model_module": "@jupyter-widgets/base",
     "model_module_version": "1.2.0",
     "model_name": "LayoutModel",
     "state": {
      "_model_module": "@jupyter-widgets/base",
      "_model_module_version": "1.2.0",
      "_model_name": "LayoutModel",
      "_view_count": null,
      "_view_module": "@jupyter-widgets/base",
      "_view_module_version": "1.2.0",
      "_view_name": "LayoutView",
      "align_content": null,
      "align_items": null,
      "align_self": null,
      "border": null,
      "bottom": null,
      "display": null,
      "flex": null,
      "flex_flow": null,
      "grid_area": null,
      "grid_auto_columns": null,
      "grid_auto_flow": null,
      "grid_auto_rows": null,
      "grid_column": null,
      "grid_gap": null,
      "grid_row": null,
      "grid_template_areas": null,
      "grid_template_columns": null,
      "grid_template_rows": null,
      "height": null,
      "justify_content": null,
      "justify_items": null,
      "left": null,
      "margin": null,
      "max_height": null,
      "max_width": null,
      "min_height": null,
      "min_width": null,
      "object_fit": null,
      "object_position": null,
      "order": null,
      "overflow": null,
      "overflow_x": null,
      "overflow_y": null,
      "padding": null,
      "right": null,
      "top": null,
      "visibility": null,
      "width": null
     }
    },
    "c13aff2b064743be941b4672550e56c9": {
     "model_module": "@jupyter-widgets/base",
     "model_module_version": "1.2.0",
     "model_name": "LayoutModel",
     "state": {
      "_model_module": "@jupyter-widgets/base",
      "_model_module_version": "1.2.0",
      "_model_name": "LayoutModel",
      "_view_count": null,
      "_view_module": "@jupyter-widgets/base",
      "_view_module_version": "1.2.0",
      "_view_name": "LayoutView",
      "align_content": null,
      "align_items": null,
      "align_self": null,
      "border": null,
      "bottom": null,
      "display": null,
      "flex": null,
      "flex_flow": null,
      "grid_area": null,
      "grid_auto_columns": null,
      "grid_auto_flow": null,
      "grid_auto_rows": null,
      "grid_column": null,
      "grid_gap": null,
      "grid_row": null,
      "grid_template_areas": null,
      "grid_template_columns": null,
      "grid_template_rows": null,
      "height": null,
      "justify_content": null,
      "justify_items": null,
      "left": null,
      "margin": null,
      "max_height": null,
      "max_width": null,
      "min_height": null,
      "min_width": null,
      "object_fit": null,
      "object_position": null,
      "order": null,
      "overflow": null,
      "overflow_x": null,
      "overflow_y": null,
      "padding": null,
      "right": null,
      "top": null,
      "visibility": null,
      "width": null
     }
    },
    "c428c0bd915d455986b3193e9636ea80": {
     "model_module": "@jupyter-widgets/base",
     "model_module_version": "1.2.0",
     "model_name": "LayoutModel",
     "state": {
      "_model_module": "@jupyter-widgets/base",
      "_model_module_version": "1.2.0",
      "_model_name": "LayoutModel",
      "_view_count": null,
      "_view_module": "@jupyter-widgets/base",
      "_view_module_version": "1.2.0",
      "_view_name": "LayoutView",
      "align_content": null,
      "align_items": null,
      "align_self": null,
      "border": null,
      "bottom": null,
      "display": null,
      "flex": null,
      "flex_flow": null,
      "grid_area": null,
      "grid_auto_columns": null,
      "grid_auto_flow": null,
      "grid_auto_rows": null,
      "grid_column": null,
      "grid_gap": null,
      "grid_row": null,
      "grid_template_areas": null,
      "grid_template_columns": null,
      "grid_template_rows": null,
      "height": null,
      "justify_content": null,
      "justify_items": null,
      "left": null,
      "margin": null,
      "max_height": null,
      "max_width": null,
      "min_height": null,
      "min_width": null,
      "object_fit": null,
      "object_position": null,
      "order": null,
      "overflow": null,
      "overflow_x": null,
      "overflow_y": null,
      "padding": null,
      "right": null,
      "top": null,
      "visibility": null,
      "width": null
     }
    },
    "c58471c60519419e9cdb3c7ff174d702": {
     "model_module": "@jupyter-widgets/base",
     "model_module_version": "1.2.0",
     "model_name": "LayoutModel",
     "state": {
      "_model_module": "@jupyter-widgets/base",
      "_model_module_version": "1.2.0",
      "_model_name": "LayoutModel",
      "_view_count": null,
      "_view_module": "@jupyter-widgets/base",
      "_view_module_version": "1.2.0",
      "_view_name": "LayoutView",
      "align_content": null,
      "align_items": null,
      "align_self": null,
      "border": null,
      "bottom": null,
      "display": null,
      "flex": null,
      "flex_flow": null,
      "grid_area": null,
      "grid_auto_columns": null,
      "grid_auto_flow": null,
      "grid_auto_rows": null,
      "grid_column": null,
      "grid_gap": null,
      "grid_row": null,
      "grid_template_areas": null,
      "grid_template_columns": null,
      "grid_template_rows": null,
      "height": null,
      "justify_content": null,
      "justify_items": null,
      "left": null,
      "margin": null,
      "max_height": null,
      "max_width": null,
      "min_height": null,
      "min_width": null,
      "object_fit": null,
      "object_position": null,
      "order": null,
      "overflow": null,
      "overflow_x": null,
      "overflow_y": null,
      "padding": null,
      "right": null,
      "top": null,
      "visibility": null,
      "width": null
     }
    },
    "c8f31460d7d5420db2c7840e287fac5b": {
     "model_module": "@jupyter-widgets/controls",
     "model_module_version": "1.5.0",
     "model_name": "HTMLModel",
     "state": {
      "_dom_classes": [],
      "_model_module": "@jupyter-widgets/controls",
      "_model_module_version": "1.5.0",
      "_model_name": "HTMLModel",
      "_view_count": null,
      "_view_module": "@jupyter-widgets/controls",
      "_view_module_version": "1.5.0",
      "_view_name": "HTMLView",
      "description": "",
      "description_tooltip": null,
      "layout": "IPY_MODEL_f63ee7f4234c45d48829e011f24eafde",
      "placeholder": "​",
      "style": "IPY_MODEL_f8bcfb1381aa46d89034ea50e30b43cf",
      "value": "Downloading yolox_l0.05.onnx: 100%"
     }
    },
    "cc6672c78dac468d9264efd90902c87d": {
     "model_module": "@jupyter-widgets/controls",
     "model_module_version": "1.5.0",
     "model_name": "ProgressStyleModel",
     "state": {
      "_model_module": "@jupyter-widgets/controls",
      "_model_module_version": "1.5.0",
      "_model_name": "ProgressStyleModel",
      "_view_count": null,
      "_view_module": "@jupyter-widgets/base",
      "_view_module_version": "1.2.0",
      "_view_name": "StyleView",
      "bar_color": null,
      "description_width": ""
     }
    },
    "daabde9b4b764797af6b96370e40c1d2": {
     "model_module": "@jupyter-widgets/base",
     "model_module_version": "1.2.0",
     "model_name": "LayoutModel",
     "state": {
      "_model_module": "@jupyter-widgets/base",
      "_model_module_version": "1.2.0",
      "_model_name": "LayoutModel",
      "_view_count": null,
      "_view_module": "@jupyter-widgets/base",
      "_view_module_version": "1.2.0",
      "_view_name": "LayoutView",
      "align_content": null,
      "align_items": null,
      "align_self": null,
      "border": null,
      "bottom": null,
      "display": null,
      "flex": null,
      "flex_flow": null,
      "grid_area": null,
      "grid_auto_columns": null,
      "grid_auto_flow": null,
      "grid_auto_rows": null,
      "grid_column": null,
      "grid_gap": null,
      "grid_row": null,
      "grid_template_areas": null,
      "grid_template_columns": null,
      "grid_template_rows": null,
      "height": null,
      "justify_content": null,
      "justify_items": null,
      "left": null,
      "margin": null,
      "max_height": null,
      "max_width": null,
      "min_height": null,
      "min_width": null,
      "object_fit": null,
      "object_position": null,
      "order": null,
      "overflow": null,
      "overflow_x": null,
      "overflow_y": null,
      "padding": null,
      "right": null,
      "top": null,
      "visibility": null,
      "width": null
     }
    },
    "df6e6c84cc1c4c7b8cf5f8555eb42166": {
     "model_module": "@jupyter-widgets/controls",
     "model_module_version": "1.5.0",
     "model_name": "ProgressStyleModel",
     "state": {
      "_model_module": "@jupyter-widgets/controls",
      "_model_module_version": "1.5.0",
      "_model_name": "ProgressStyleModel",
      "_view_count": null,
      "_view_module": "@jupyter-widgets/base",
      "_view_module_version": "1.2.0",
      "_view_name": "StyleView",
      "bar_color": null,
      "description_width": ""
     }
    },
    "e64cfd87330d4b238596da66db63d984": {
     "model_module": "@jupyter-widgets/controls",
     "model_module_version": "1.5.0",
     "model_name": "DescriptionStyleModel",
     "state": {
      "_model_module": "@jupyter-widgets/controls",
      "_model_module_version": "1.5.0",
      "_model_name": "DescriptionStyleModel",
      "_view_count": null,
      "_view_module": "@jupyter-widgets/base",
      "_view_module_version": "1.2.0",
      "_view_name": "StyleView",
      "description_width": ""
     }
    },
    "e7e6388db19d47ceb06afc75fbb8486c": {
     "model_module": "@jupyter-widgets/controls",
     "model_module_version": "1.5.0",
     "model_name": "HTMLModel",
     "state": {
      "_dom_classes": [],
      "_model_module": "@jupyter-widgets/controls",
      "_model_module_version": "1.5.0",
      "_model_name": "HTMLModel",
      "_view_count": null,
      "_view_module": "@jupyter-widgets/controls",
      "_view_module_version": "1.5.0",
      "_view_name": "HTMLView",
      "description": "",
      "description_tooltip": null,
      "layout": "IPY_MODEL_2bcca7acc6f047d6ad4efbf1e5333c58",
      "placeholder": "​",
      "style": "IPY_MODEL_052ec73371404595b7dec973dda308d4",
      "value": " 217M/217M [00:07&lt;00:00, 37.2MB/s]"
     }
    },
    "ef5fba5f330748faa9bd583d637087a6": {
     "model_module": "@jupyter-widgets/controls",
     "model_module_version": "1.5.0",
     "model_name": "ProgressStyleModel",
     "state": {
      "_model_module": "@jupyter-widgets/controls",
      "_model_module_version": "1.5.0",
      "_model_name": "ProgressStyleModel",
      "_view_count": null,
      "_view_module": "@jupyter-widgets/base",
      "_view_module_version": "1.2.0",
      "_view_name": "StyleView",
      "bar_color": null,
      "description_width": ""
     }
    },
    "ef897646c62444929b91935d3917b14d": {
     "model_module": "@jupyter-widgets/controls",
     "model_module_version": "1.5.0",
     "model_name": "HBoxModel",
     "state": {
      "_dom_classes": [],
      "_model_module": "@jupyter-widgets/controls",
      "_model_module_version": "1.5.0",
      "_model_name": "HBoxModel",
      "_view_count": null,
      "_view_module": "@jupyter-widgets/controls",
      "_view_module_version": "1.5.0",
      "_view_name": "HBoxView",
      "box_style": "",
      "children": [
       "IPY_MODEL_3bd05fe4e6bd4ea2b7bfcfba705369c5",
       "IPY_MODEL_27e36e7f92d7417bb221fa95406cfb2f",
       "IPY_MODEL_21318da3ae0644c28ec63983a34bd2ee"
      ],
      "layout": "IPY_MODEL_c428c0bd915d455986b3193e9636ea80"
     }
    },
    "f63ee7f4234c45d48829e011f24eafde": {
     "model_module": "@jupyter-widgets/base",
     "model_module_version": "1.2.0",
     "model_name": "LayoutModel",
     "state": {
      "_model_module": "@jupyter-widgets/base",
      "_model_module_version": "1.2.0",
      "_model_name": "LayoutModel",
      "_view_count": null,
      "_view_module": "@jupyter-widgets/base",
      "_view_module_version": "1.2.0",
      "_view_name": "LayoutView",
      "align_content": null,
      "align_items": null,
      "align_self": null,
      "border": null,
      "bottom": null,
      "display": null,
      "flex": null,
      "flex_flow": null,
      "grid_area": null,
      "grid_auto_columns": null,
      "grid_auto_flow": null,
      "grid_auto_rows": null,
      "grid_column": null,
      "grid_gap": null,
      "grid_row": null,
      "grid_template_areas": null,
      "grid_template_columns": null,
      "grid_template_rows": null,
      "height": null,
      "justify_content": null,
      "justify_items": null,
      "left": null,
      "margin": null,
      "max_height": null,
      "max_width": null,
      "min_height": null,
      "min_width": null,
      "object_fit": null,
      "object_position": null,
      "order": null,
      "overflow": null,
      "overflow_x": null,
      "overflow_y": null,
      "padding": null,
      "right": null,
      "top": null,
      "visibility": null,
      "width": null
     }
    },
    "f8bcfb1381aa46d89034ea50e30b43cf": {
     "model_module": "@jupyter-widgets/controls",
     "model_module_version": "1.5.0",
     "model_name": "DescriptionStyleModel",
     "state": {
      "_model_module": "@jupyter-widgets/controls",
      "_model_module_version": "1.5.0",
      "_model_name": "DescriptionStyleModel",
      "_view_count": null,
      "_view_module": "@jupyter-widgets/base",
      "_view_module_version": "1.2.0",
      "_view_name": "StyleView",
      "description_width": ""
     }
    },
    "fc994e0c5ced45c78c0b9bb6f19c073f": {
     "model_module": "@jupyter-widgets/controls",
     "model_module_version": "1.5.0",
     "model_name": "HTMLModel",
     "state": {
      "_dom_classes": [],
      "_model_module": "@jupyter-widgets/controls",
      "_model_module_version": "1.5.0",
      "_model_name": "HTMLModel",
      "_view_count": null,
      "_view_module": "@jupyter-widgets/controls",
      "_view_module_version": "1.5.0",
      "_view_name": "HTMLView",
      "description": "",
      "description_tooltip": null,
      "layout": "IPY_MODEL_daabde9b4b764797af6b96370e40c1d2",
      "placeholder": "​",
      "style": "IPY_MODEL_7d37b6f0ba8b4c5eb875635b98778d26",
      "value": " 1.47k/1.47k [00:00&lt;00:00, 66.9kB/s]"
     }
    }
   }
  }
 },
 "nbformat": 4,
 "nbformat_minor": 5
}
